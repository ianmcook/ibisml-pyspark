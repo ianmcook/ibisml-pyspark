{
 "cells": [
  {
   "cell_type": "markdown",
   "id": "615dc805",
   "metadata": {},
   "source": [
    "# Scaling with Ibis"
   ]
  },
  {
   "cell_type": "code",
   "execution_count": 25,
   "id": "6410eb68",
   "metadata": {},
   "outputs": [],
   "source": [
    "import ibis\n",
    "from ibis import _\n",
    "ibis.options.interactive = True"
   ]
  },
  {
   "cell_type": "markdown",
   "id": "881d08eb",
   "metadata": {},
   "source": [
    "## Load the data"
   ]
  },
  {
   "cell_type": "code",
   "execution_count": 26,
   "id": "f0d595b4",
   "metadata": {},
   "outputs": [
    {
     "data": {
      "text/html": [
       "<pre style=\"white-space:pre;overflow-x:auto;line-height:normal;font-family:Menlo,'DejaVu Sans Mono',consolas,'Courier New',monospace\">┏━━━━━━━━━━┓\n",
       "┃<span style=\"font-weight: bold\"> distance </span>┃\n",
       "┡━━━━━━━━━━┩\n",
       "│ <span style=\"color: #7f7f7f; text-decoration-color: #7f7f7f\">float64</span>  │\n",
       "├──────────┤\n",
       "│   <span style=\"color: #008080; text-decoration-color: #008080; font-weight: bold\">1400.0</span> │\n",
       "│   <span style=\"color: #008080; text-decoration-color: #008080; font-weight: bold\">1416.0</span> │\n",
       "│   <span style=\"color: #008080; text-decoration-color: #008080; font-weight: bold\">1089.0</span> │\n",
       "│   <span style=\"color: #008080; text-decoration-color: #008080; font-weight: bold\">1576.0</span> │\n",
       "│    <span style=\"color: #008080; text-decoration-color: #008080; font-weight: bold\">762.0</span> │\n",
       "│    <span style=\"color: #008080; text-decoration-color: #008080; font-weight: bold\">719.0</span> │\n",
       "│   <span style=\"color: #008080; text-decoration-color: #008080; font-weight: bold\">1065.0</span> │\n",
       "│    <span style=\"color: #008080; text-decoration-color: #008080; font-weight: bold\">229.0</span> │\n",
       "│    <span style=\"color: #008080; text-decoration-color: #008080; font-weight: bold\">944.0</span> │\n",
       "│    <span style=\"color: #008080; text-decoration-color: #008080; font-weight: bold\">733.0</span> │\n",
       "│        <span style=\"color: #7f7f7f; text-decoration-color: #7f7f7f\">…</span> │\n",
       "└──────────┘\n",
       "</pre>\n"
      ],
      "text/plain": [
       "┏━━━━━━━━━━┓\n",
       "┃\u001b[1m \u001b[0m\u001b[1mdistance\u001b[0m\u001b[1m \u001b[0m┃\n",
       "┡━━━━━━━━━━┩\n",
       "│ \u001b[2mfloat64\u001b[0m  │\n",
       "├──────────┤\n",
       "│   \u001b[1;36m1400.0\u001b[0m │\n",
       "│   \u001b[1;36m1416.0\u001b[0m │\n",
       "│   \u001b[1;36m1089.0\u001b[0m │\n",
       "│   \u001b[1;36m1576.0\u001b[0m │\n",
       "│    \u001b[1;36m762.0\u001b[0m │\n",
       "│    \u001b[1;36m719.0\u001b[0m │\n",
       "│   \u001b[1;36m1065.0\u001b[0m │\n",
       "│    \u001b[1;36m229.0\u001b[0m │\n",
       "│    \u001b[1;36m944.0\u001b[0m │\n",
       "│    \u001b[1;36m733.0\u001b[0m │\n",
       "│        \u001b[2m…\u001b[0m │\n",
       "└──────────┘"
      ]
     },
     "execution_count": 26,
     "metadata": {},
     "output_type": "execute_result"
    }
   ],
   "source": [
    "flights = ibis.read_parquet(\"data/flights.parquet\")\n",
    "flights.select(\"distance\")"
   ]
  },
  {
   "cell_type": "markdown",
   "id": "12b29d29",
   "metadata": {},
   "source": [
    "## Scale the data"
   ]
  },
  {
   "cell_type": "code",
   "execution_count": 28,
   "id": "5a230777",
   "metadata": {},
   "outputs": [
    {
     "data": {
      "text/html": [
       "<pre style=\"white-space:pre;overflow-x:auto;line-height:normal;font-family:Menlo,'DejaVu Sans Mono',consolas,'Courier New',monospace\">┏━━━━━━━━━━━┓\n",
       "┃<span style=\"font-weight: bold\"> distance  </span>┃\n",
       "┡━━━━━━━━━━━┩\n",
       "│ <span style=\"color: #7f7f7f; text-decoration-color: #7f7f7f\">float64</span>   │\n",
       "├───────────┤\n",
       "│  <span style=\"color: #008080; text-decoration-color: #008080; font-weight: bold\">0.491096</span> │\n",
       "│  <span style=\"color: #008080; text-decoration-color: #008080; font-weight: bold\">0.512917</span> │\n",
       "│  <span style=\"color: #008080; text-decoration-color: #008080; font-weight: bold\">0.066947</span> │\n",
       "│  <span style=\"color: #008080; text-decoration-color: #008080; font-weight: bold\">0.731129</span> │\n",
       "│ <span style=\"color: #008080; text-decoration-color: #008080; font-weight: bold\">-0.379024</span> │\n",
       "│ <span style=\"color: #008080; text-decoration-color: #008080; font-weight: bold\">-0.437669</span> │\n",
       "│  <span style=\"color: #008080; text-decoration-color: #008080; font-weight: bold\">0.034215</span> │\n",
       "│ <span style=\"color: #008080; text-decoration-color: #008080; font-weight: bold\">-1.105943</span> │\n",
       "│ <span style=\"color: #008080; text-decoration-color: #008080; font-weight: bold\">-0.130808</span> │\n",
       "│ <span style=\"color: #008080; text-decoration-color: #008080; font-weight: bold\">-0.418575</span> │\n",
       "│         <span style=\"color: #7f7f7f; text-decoration-color: #7f7f7f\">…</span> │\n",
       "└───────────┘\n",
       "</pre>\n"
      ],
      "text/plain": [
       "┏━━━━━━━━━━━┓\n",
       "┃\u001b[1m \u001b[0m\u001b[1mdistance\u001b[0m\u001b[1m \u001b[0m\u001b[1m \u001b[0m┃\n",
       "┡━━━━━━━━━━━┩\n",
       "│ \u001b[2mfloat64\u001b[0m   │\n",
       "├───────────┤\n",
       "│  \u001b[1;36m0.491096\u001b[0m │\n",
       "│  \u001b[1;36m0.512917\u001b[0m │\n",
       "│  \u001b[1;36m0.066947\u001b[0m │\n",
       "│  \u001b[1;36m0.731129\u001b[0m │\n",
       "│ \u001b[1;36m-0.379024\u001b[0m │\n",
       "│ \u001b[1;36m-0.437669\u001b[0m │\n",
       "│  \u001b[1;36m0.034215\u001b[0m │\n",
       "│ \u001b[1;36m-1.105943\u001b[0m │\n",
       "│ \u001b[1;36m-0.130808\u001b[0m │\n",
       "│ \u001b[1;36m-0.418575\u001b[0m │\n",
       "│         \u001b[2m…\u001b[0m │\n",
       "└───────────┘"
      ]
     },
     "execution_count": 28,
     "metadata": {},
     "output_type": "execute_result"
    }
   ],
   "source": [
    "import ibisml as ml\n",
    "\n",
    "recipe = ml.Recipe(\n",
    "    [\n",
    "        ml.ScaleStandard(\"distance\")\n",
    "    ]\n",
    ")\n",
    "transform = recipe.fit(flights)\n",
    "result = transform(flights)\n",
    "\n",
    "result.to_table().select(\"distance\")"
   ]
  }
 ],
 "metadata": {
  "kernelspec": {
   "display_name": "Python 3 (ipykernel)",
   "language": "python",
   "name": "python3"
  },
  "language_info": {
   "codemirror_mode": {
    "name": "ipython",
    "version": 3
   },
   "file_extension": ".py",
   "mimetype": "text/x-python",
   "name": "python",
   "nbconvert_exporter": "python",
   "pygments_lexer": "ipython3",
   "version": "3.10.9"
  }
 },
 "nbformat": 4,
 "nbformat_minor": 5
}
