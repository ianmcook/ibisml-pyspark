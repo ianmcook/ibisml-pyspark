{
 "cells": [
  {
   "cell_type": "markdown",
   "id": "615dc805",
   "metadata": {},
   "source": [
    "# Scaling with PySpark ML"
   ]
  },
  {
   "cell_type": "code",
   "execution_count": 2,
   "id": "30dc3753",
   "metadata": {
    "scrolled": true
   },
   "outputs": [
    {
     "name": "stderr",
     "output_type": "stream",
     "text": [
      "Setting default log level to \"WARN\".\n",
      "To adjust logging level use sc.setLogLevel(newLevel). For SparkR, use setLogLevel(newLevel).\n",
      "23/08/07 22:39:14 WARN NativeCodeLoader: Unable to load native-hadoop library for your platform... using builtin-java classes where applicable\n",
      "23/08/07 22:39:15 WARN Utils: Service 'SparkUI' could not bind on port 4040. Attempting port 4041.\n"
     ]
    }
   ],
   "source": [
    "from pyspark.sql import SparkSession\n",
    "spark = SparkSession.builder.getOrCreate()"
   ]
  },
  {
   "cell_type": "markdown",
   "id": "881d08eb",
   "metadata": {},
   "source": [
    "## Load the data"
   ]
  },
  {
   "cell_type": "code",
   "execution_count": 3,
   "id": "f7c93c07",
   "metadata": {
    "scrolled": true
   },
   "outputs": [
    {
     "name": "stderr",
     "output_type": "stream",
     "text": [
      "                                                                                \r"
     ]
    },
    {
     "name": "stdout",
     "output_type": "stream",
     "text": [
      "+--------+\n",
      "|distance|\n",
      "+--------+\n",
      "|  1400.0|\n",
      "|  1416.0|\n",
      "|  1089.0|\n",
      "|  1576.0|\n",
      "|   762.0|\n",
      "|   719.0|\n",
      "|  1065.0|\n",
      "|   229.0|\n",
      "|   944.0|\n",
      "|   733.0|\n",
      "+--------+\n",
      "only showing top 10 rows\n",
      "\n"
     ]
    }
   ],
   "source": [
    "flights = spark.read.parquet(\"../data/flights.parquet\")\n",
    "flights.select(\"distance\").show(10)"
   ]
  },
  {
   "cell_type": "markdown",
   "id": "398968ae",
   "metadata": {},
   "source": [
    "## Scale the data"
   ]
  },
  {
   "cell_type": "code",
   "execution_count": 38,
   "id": "32f7e75f",
   "metadata": {},
   "outputs": [
    {
     "name": "stdout",
     "output_type": "stream",
     "text": [
      "+--------------------+\n",
      "|            distance|\n",
      "+--------------------+\n",
      "|  0.4910954362463181|\n",
      "|  0.5129166026052225|\n",
      "| 0.06694651514511192|\n",
      "|  0.7311282661942675|\n",
      "| -0.3790235723149987|\n",
      "|-0.43766795690455457|\n",
      "|0.034214765606755175|\n",
      "| -1.1059411766460048|\n",
      "|-0.13080780498246009|\n",
      "| -0.4185744363405131|\n",
      "+--------------------+\n",
      "only showing top 10 rows\n",
      "\n"
     ]
    }
   ],
   "source": [
    "from pyspark.ml.feature import VectorAssembler, StandardScaler\n",
    "from pyspark.ml.functions import vector_to_array\n",
    "\n",
    "# assemble vector column\n",
    "va = VectorAssembler(inputCols=[\"distance\"], outputCol=\"distanceVector\")\n",
    "assembled = va.transform(flights)\n",
    "\n",
    "ss = StandardScaler(inputCol=\"distanceVector\", outputCol=\"scaledDistanceVector\", withMean=True, withStd=True)\n",
    "model = ss.fit(assembled)\n",
    "result = model.transform(assembled)\n",
    "\n",
    "# disassemble vector column\n",
    "result.withColumn(\"distance\", vector_to_array(\"scaledDistanceVector\").getItem(0)).select(\"distance\").show(10)"
   ]
  }
 ],
 "metadata": {
  "kernelspec": {
   "display_name": "Python 3 (ipykernel)",
   "language": "python",
   "name": "python3"
  },
  "language_info": {
   "codemirror_mode": {
    "name": "ipython",
    "version": 3
   },
   "file_extension": ".py",
   "mimetype": "text/x-python",
   "name": "python",
   "nbconvert_exporter": "python",
   "pygments_lexer": "ipython3",
   "version": "3.10.9"
  }
 },
 "nbformat": 4,
 "nbformat_minor": 5
}
