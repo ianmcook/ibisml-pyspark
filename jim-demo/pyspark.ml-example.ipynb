{
 "cells": [
  {
   "cell_type": "markdown",
   "id": "615dc805",
   "metadata": {},
   "source": [
    "# ML on NYCFlights with PySpark ML"
   ]
  },
  {
   "cell_type": "code",
   "execution_count": 1,
   "id": "30dc3753",
   "metadata": {},
   "outputs": [
    {
     "name": "stderr",
     "output_type": "stream",
     "text": [
      "Setting default log level to \"WARN\".\n",
      "To adjust logging level use sc.setLogLevel(newLevel). For SparkR, use setLogLevel(newLevel).\n",
      "23/08/07 21:44:19 WARN NativeCodeLoader: Unable to load native-hadoop library for your platform... using builtin-java classes where applicable\n"
     ]
    }
   ],
   "source": [
    "from pyspark.sql import SparkSession\n",
    "from pyspark.sql.functions import col, when, dayofweek, dayofmonth, month\n",
    "spark = SparkSession.builder.getOrCreate()\n",
    "spark.conf.set(\"spark.sql.execution.arrow.pyspark.enabled\", \"true\")"
   ]
  },
  {
   "cell_type": "markdown",
   "id": "881d08eb",
   "metadata": {},
   "source": [
    "## Load the data"
   ]
  },
  {
   "cell_type": "code",
   "execution_count": 39,
   "id": "f7c93c07",
   "metadata": {},
   "outputs": [],
   "source": [
    "flights = spark.read.parquet(\"../data/flights.parquet\")\n",
    "weather = spark.read.parquet(\"../data/weather.parquet\")"
   ]
  },
  {
   "cell_type": "code",
   "execution_count": 40,
   "id": "f0bbd01a",
   "metadata": {},
   "outputs": [
    {
     "name": "stdout",
     "output_type": "stream",
     "text": [
      "+----+-----+---+--------+--------------+---------+--------+--------------+---------+-------+------+-------+------+----+--------+--------+----+------+-------------------+\n",
      "|year|month|day|dep_time|sched_dep_time|dep_delay|arr_time|sched_arr_time|arr_delay|carrier|flight|tailnum|origin|dest|air_time|distance|hour|minute|          time_hour|\n",
      "+----+-----+---+--------+--------------+---------+--------+--------------+---------+-------+------+-------+------+----+--------+--------+----+------+-------------------+\n",
      "|2013|    1|  1|     517|           515|      2.0|     830|           819|     11.0|     UA|  1545| N14228|   EWR| IAH|   227.0|  1400.0| 5.0|  15.0|2013-01-01 10:00:00|\n",
      "|2013|    1|  1|     533|           529|      4.0|     850|           830|     20.0|     UA|  1714| N24211|   LGA| IAH|   227.0|  1416.0| 5.0|  29.0|2013-01-01 10:00:00|\n",
      "|2013|    1|  1|     542|           540|      2.0|     923|           850|     33.0|     AA|  1141| N619AA|   JFK| MIA|   160.0|  1089.0| 5.0|  40.0|2013-01-01 10:00:00|\n",
      "|2013|    1|  1|     544|           545|     -1.0|    1004|          1022|    -18.0|     B6|   725| N804JB|   JFK| BQN|   183.0|  1576.0| 5.0|  45.0|2013-01-01 10:00:00|\n",
      "|2013|    1|  1|     554|           600|     -6.0|     812|           837|    -25.0|     DL|   461| N668DN|   LGA| ATL|   116.0|   762.0| 6.0|   0.0|2013-01-01 11:00:00|\n",
      "|2013|    1|  1|     554|           558|     -4.0|     740|           728|     12.0|     UA|  1696| N39463|   EWR| ORD|   150.0|   719.0| 5.0|  58.0|2013-01-01 10:00:00|\n",
      "|2013|    1|  1|     555|           600|     -5.0|     913|           854|     19.0|     B6|   507| N516JB|   EWR| FLL|   158.0|  1065.0| 6.0|   0.0|2013-01-01 11:00:00|\n",
      "|2013|    1|  1|     557|           600|     -3.0|     709|           723|    -14.0|     EV|  5708| N829AS|   LGA| IAD|    53.0|   229.0| 6.0|   0.0|2013-01-01 11:00:00|\n",
      "|2013|    1|  1|     557|           600|     -3.0|     838|           846|     -8.0|     B6|    79| N593JB|   JFK| MCO|   140.0|   944.0| 6.0|   0.0|2013-01-01 11:00:00|\n",
      "|2013|    1|  1|     558|           600|     -2.0|     753|           745|      8.0|     AA|   301| N3ALAA|   LGA| ORD|   138.0|   733.0| 6.0|   0.0|2013-01-01 11:00:00|\n",
      "+----+-----+---+--------+--------------+---------+--------+--------------+---------+-------+------+-------+------+----+--------+--------+----+------+-------------------+\n",
      "only showing top 10 rows\n",
      "\n"
     ]
    }
   ],
   "source": [
    "flights.show(10)"
   ]
  },
  {
   "cell_type": "code",
   "execution_count": 41,
   "id": "47c5685b",
   "metadata": {},
   "outputs": [
    {
     "name": "stdout",
     "output_type": "stream",
     "text": [
      "+------+----+-----+---+----+-----+-----+-----+--------+------------------+---------+------+--------+-----+-------------------+\n",
      "|origin|year|month|day|hour| temp| dewp|humid|wind_dir|        wind_speed|wind_gust|precip|pressure|visib|          time_hour|\n",
      "+------+----+-----+---+----+-----+-----+-----+--------+------------------+---------+------+--------+-----+-------------------+\n",
      "|   EWR|2013|    1|  1|   1|39.02|26.06|59.37|   270.0|10.357019999999999|     null|   0.0|  1012.0| 10.0|2013-01-01 06:00:00|\n",
      "|   EWR|2013|    1|  1|   2|39.02|26.96|61.63|   250.0|           8.05546|     null|   0.0|  1012.3| 10.0|2013-01-01 07:00:00|\n",
      "|   EWR|2013|    1|  1|   3|39.02|28.04|64.43|   240.0|           11.5078|     null|   0.0|  1012.5| 10.0|2013-01-01 08:00:00|\n",
      "|   EWR|2013|    1|  1|   4|39.92|28.04|62.21|   250.0|12.658579999999999|     null|   0.0|  1012.2| 10.0|2013-01-01 09:00:00|\n",
      "|   EWR|2013|    1|  1|   5|39.02|28.04|64.43|   260.0|12.658579999999999|     null|   0.0|  1011.9| 10.0|2013-01-01 10:00:00|\n",
      "|   EWR|2013|    1|  1|   6|37.94|28.04|67.21|   240.0|           11.5078|     null|   0.0|  1012.4| 10.0|2013-01-01 11:00:00|\n",
      "|   EWR|2013|    1|  1|   7|39.02|28.04|64.43|   240.0|14.960139999999999|     null|   0.0|  1012.2| 10.0|2013-01-01 12:00:00|\n",
      "|   EWR|2013|    1|  1|   8|39.92|28.04|62.21|   250.0|10.357019999999999|     null|   0.0|  1012.2| 10.0|2013-01-01 13:00:00|\n",
      "|   EWR|2013|    1|  1|   9|39.92|28.04|62.21|   260.0|14.960139999999999|     null|   0.0|  1012.7| 10.0|2013-01-01 14:00:00|\n",
      "|   EWR|2013|    1|  1|  10| 41.0|28.04|59.65|   260.0|13.809359999999998|     null|   0.0|  1012.4| 10.0|2013-01-01 15:00:00|\n",
      "+------+----+-----+---+----+-----+-----+-----+--------+------------------+---------+------+--------+-----+-------------------+\n",
      "only showing top 10 rows\n",
      "\n"
     ]
    }
   ],
   "source": [
    "weather.show(10)"
   ]
  },
  {
   "cell_type": "markdown",
   "id": "437ed3b8",
   "metadata": {},
   "source": [
    "---"
   ]
  },
  {
   "cell_type": "markdown",
   "id": "9c60858d",
   "metadata": {},
   "source": [
    "## Merge & Clean training data"
   ]
  },
  {
   "cell_type": "code",
   "execution_count": 42,
   "id": "04f56c2b",
   "metadata": {},
   "outputs": [
    {
     "name": "stdout",
     "output_type": "stream",
     "text": [
      "+--------+------+------+----+--------+--------+-------+-----+-----+-----+--------+------------------+------+--------+-----+-------+--------+----------+--------+-----+-----+\n",
      "|dep_time|flight|origin|dest|air_time|distance|carrier| temp| dewp|humid|wind_dir|        wind_speed|precip|pressure|visib|delayed|date_dow|date_month|xmas_eve| xmas|july4|\n",
      "+--------+------+------+----+--------+--------+-------+-----+-----+-----+--------+------------------+------+--------+-----+-------+--------+----------+--------+-----+-----+\n",
      "|     517|  1545|   EWR| IAH|   227.0|  1400.0|     UA|39.02|28.04|64.43|   260.0|12.658579999999999|   0.0|  1011.9| 10.0|  false|       3|         1|   false|false|false|\n",
      "|     533|  1714|   LGA| IAH|   227.0|  1416.0|     UA|39.92|24.98|54.81|   250.0|14.960139999999999|   0.0|  1011.4| 10.0|  false|       3|         1|   false|false|false|\n",
      "|     542|  1141|   JFK| MIA|   160.0|  1089.0|     AA|39.02|26.96|61.63|   260.0|14.960139999999999|   0.0|  1012.1| 10.0|   true|       3|         1|   false|false|false|\n",
      "|     544|   725|   JFK| BQN|   183.0|  1576.0|     B6|39.02|26.96|61.63|   260.0|14.960139999999999|   0.0|  1012.1| 10.0|  false|       3|         1|   false|false|false|\n",
      "|     554|   461|   LGA| ATL|   116.0|   762.0|     DL|39.92|24.98|54.81|   260.0|          16.11092|   0.0|  1011.7| 10.0|  false|       3|         1|   false|false|false|\n",
      "|     554|  1696|   EWR| ORD|   150.0|   719.0|     UA|39.02|28.04|64.43|   260.0|12.658579999999999|   0.0|  1011.9| 10.0|  false|       3|         1|   false|false|false|\n",
      "|     555|   507|   EWR| FLL|   158.0|  1065.0|     B6|37.94|28.04|67.21|   240.0|           11.5078|   0.0|  1012.4| 10.0|  false|       3|         1|   false|false|false|\n",
      "|     557|  5708|   LGA| IAD|    53.0|   229.0|     EV|39.92|24.98|54.81|   260.0|          16.11092|   0.0|  1011.7| 10.0|  false|       3|         1|   false|false|false|\n",
      "|     557|    79|   JFK| MCO|   140.0|   944.0|     B6|37.94|26.96|64.29|   260.0|13.809359999999998|   0.0|  1012.6| 10.0|  false|       3|         1|   false|false|false|\n",
      "|     558|   301|   LGA| ORD|   138.0|   733.0|     AA|39.92|24.98|54.81|   260.0|          16.11092|   0.0|  1011.7| 10.0|  false|       3|         1|   false|false|false|\n",
      "+--------+------+------+----+--------+--------+-------+-----+-----+-----+--------+------------------+------+--------+-----+-------+--------+----------+--------+-----+-----+\n",
      "only showing top 10 rows\n",
      "\n"
     ]
    }
   ],
   "source": [
    "t = (\n",
    "    flights\n",
    "    .withColumn(\"delayed\", col(\"arr_delay\") >= 30)\n",
    "    .withColumn(\"date\", col(\"time_hour\").cast(\"date\"))\n",
    "    .join(weather, [\"origin\", \"time_hour\"])\n",
    "    .select(\n",
    "        \"dep_time\", \"flight\", \"origin\", \"dest\", \"air_time\", \"distance\", \"carrier\", \"date\",\n",
    "        \"temp\", \"dewp\", \"humid\", \"wind_dir\", \"wind_speed\", \"precip\", \"pressure\", \"visib\",\n",
    "        \"delayed\"\n",
    "    )\n",
    "    .dropna()\n",
    "    .withColumn(\"date_dow\", dayofweek(col(\"date\")))\n",
    "    .withColumn(\"date_month\", month(col(\"date\")))\n",
    "    .withColumn(\"xmas_eve\", when((month(col(\"date\")) == 12) & (dayofmonth(col(\"date\")) == 24), True).otherwise(False))\n",
    "    .withColumn(\"xmas\", when((month(col(\"date\")) == 12) & (dayofmonth(col(\"date\")) == 25), True).otherwise(False))\n",
    "    .withColumn(\"july4\", when((month(col(\"date\")) == 7) & (dayofmonth(col(\"date\")) == 4), True).otherwise(False))\n",
    "    .drop(\"date\")\n",
    ")\n",
    "\n",
    "t.show(10)"
   ]
  },
  {
   "cell_type": "code",
   "execution_count": 44,
   "id": "4443a17a",
   "metadata": {},
   "outputs": [],
   "source": [
    "(train, test) = t.randomSplit([0.2, 0.8])"
   ]
  },
  {
   "cell_type": "markdown",
   "id": "6ff49b75",
   "metadata": {},
   "source": [
    "---"
   ]
  },
  {
   "cell_type": "markdown",
   "id": "a60334f2",
   "metadata": {},
   "source": [
    "## Build a Pipeline"
   ]
  },
  {
   "cell_type": "code",
   "execution_count": 45,
   "id": "962b36f9",
   "metadata": {},
   "outputs": [],
   "source": [
    "from pyspark.ml import Pipeline\n",
    "from pyspark.ml.feature import StringIndexer"
   ]
  },
  {
   "cell_type": "code",
   "execution_count": 46,
   "id": "bc4138bd",
   "metadata": {},
   "outputs": [],
   "source": [
    "pipeline = Pipeline(\n",
    "    stages=[\n",
    "        StringIndexer(\n",
    "            inputCols=[\"origin\", \"dest\", \"carrier\"],\n",
    "            outputCols=[\"origin_indexed\", \"dest_indexed\", \"carrier_indexed\"]\n",
    "        )\n",
    "    ]\n",
    ")"
   ]
  },
  {
   "cell_type": "code",
   "execution_count": 47,
   "id": "d6ef19b5",
   "metadata": {},
   "outputs": [
    {
     "name": "stderr",
     "output_type": "stream",
     "text": [
      "                                                                                \r"
     ]
    }
   ],
   "source": [
    "pipeline_model = pipeline.fit(train)"
   ]
  },
  {
   "cell_type": "code",
   "execution_count": 48,
   "id": "d8f6b417",
   "metadata": {},
   "outputs": [
    {
     "data": {
      "text/plain": [
       "[StringIndexerModel: uid=StringIndexer_caa8f3baa1f7, handleInvalid=error, numInputCols=3, numOutputCols=3]"
      ]
     },
     "execution_count": 48,
     "metadata": {},
     "output_type": "execute_result"
    }
   ],
   "source": [
    "pipeline_model.stages"
   ]
  },
  {
   "cell_type": "code",
   "execution_count": 49,
   "id": "a97cf70d",
   "metadata": {},
   "outputs": [],
   "source": [
    "result = pipeline_model.transform(train)"
   ]
  },
  {
   "cell_type": "markdown",
   "id": "265556fb",
   "metadata": {},
   "source": [
    "---"
   ]
  },
  {
   "cell_type": "markdown",
   "id": "30c49d72",
   "metadata": {},
   "source": [
    "## Fit a Model"
   ]
  },
  {
   "cell_type": "code",
   "execution_count": 50,
   "id": "0d4dc811",
   "metadata": {},
   "outputs": [],
   "source": [
    "import xgboost as xgb"
   ]
  },
  {
   "cell_type": "code",
   "execution_count": 51,
   "id": "a2d8907d",
   "metadata": {},
   "outputs": [],
   "source": [
    "model = xgb.XGBClassifier(tree_method=\"hist\", enable_categorical=True, objective=\"binary:hinge\")"
   ]
  },
  {
   "cell_type": "code",
   "execution_count": 52,
   "id": "d3e0c148",
   "metadata": {},
   "outputs": [
    {
     "name": "stderr",
     "output_type": "stream",
     "text": [
      "                                                                                \r"
     ]
    }
   ],
   "source": [
    "df = result.toPandas()\n",
    "X = df.drop([\"delayed\", \"origin\", \"dest\", \"carrier\"], axis=1)\n",
    "y = df[\"delayed\"]"
   ]
  },
  {
   "cell_type": "code",
   "execution_count": 53,
   "id": "f81be765",
   "metadata": {},
   "outputs": [
    {
     "data": {
      "text/html": [
       "<style>#sk-container-id-1 {color: black;background-color: white;}#sk-container-id-1 pre{padding: 0;}#sk-container-id-1 div.sk-toggleable {background-color: white;}#sk-container-id-1 label.sk-toggleable__label {cursor: pointer;display: block;width: 100%;margin-bottom: 0;padding: 0.3em;box-sizing: border-box;text-align: center;}#sk-container-id-1 label.sk-toggleable__label-arrow:before {content: \"▸\";float: left;margin-right: 0.25em;color: #696969;}#sk-container-id-1 label.sk-toggleable__label-arrow:hover:before {color: black;}#sk-container-id-1 div.sk-estimator:hover label.sk-toggleable__label-arrow:before {color: black;}#sk-container-id-1 div.sk-toggleable__content {max-height: 0;max-width: 0;overflow: hidden;text-align: left;background-color: #f0f8ff;}#sk-container-id-1 div.sk-toggleable__content pre {margin: 0.2em;color: black;border-radius: 0.25em;background-color: #f0f8ff;}#sk-container-id-1 input.sk-toggleable__control:checked~div.sk-toggleable__content {max-height: 200px;max-width: 100%;overflow: auto;}#sk-container-id-1 input.sk-toggleable__control:checked~label.sk-toggleable__label-arrow:before {content: \"▾\";}#sk-container-id-1 div.sk-estimator input.sk-toggleable__control:checked~label.sk-toggleable__label {background-color: #d4ebff;}#sk-container-id-1 div.sk-label input.sk-toggleable__control:checked~label.sk-toggleable__label {background-color: #d4ebff;}#sk-container-id-1 input.sk-hidden--visually {border: 0;clip: rect(1px 1px 1px 1px);clip: rect(1px, 1px, 1px, 1px);height: 1px;margin: -1px;overflow: hidden;padding: 0;position: absolute;width: 1px;}#sk-container-id-1 div.sk-estimator {font-family: monospace;background-color: #f0f8ff;border: 1px dotted black;border-radius: 0.25em;box-sizing: border-box;margin-bottom: 0.5em;}#sk-container-id-1 div.sk-estimator:hover {background-color: #d4ebff;}#sk-container-id-1 div.sk-parallel-item::after {content: \"\";width: 100%;border-bottom: 1px solid gray;flex-grow: 1;}#sk-container-id-1 div.sk-label:hover label.sk-toggleable__label {background-color: #d4ebff;}#sk-container-id-1 div.sk-serial::before {content: \"\";position: absolute;border-left: 1px solid gray;box-sizing: border-box;top: 0;bottom: 0;left: 50%;z-index: 0;}#sk-container-id-1 div.sk-serial {display: flex;flex-direction: column;align-items: center;background-color: white;padding-right: 0.2em;padding-left: 0.2em;position: relative;}#sk-container-id-1 div.sk-item {position: relative;z-index: 1;}#sk-container-id-1 div.sk-parallel {display: flex;align-items: stretch;justify-content: center;background-color: white;position: relative;}#sk-container-id-1 div.sk-item::before, #sk-container-id-1 div.sk-parallel-item::before {content: \"\";position: absolute;border-left: 1px solid gray;box-sizing: border-box;top: 0;bottom: 0;left: 50%;z-index: -1;}#sk-container-id-1 div.sk-parallel-item {display: flex;flex-direction: column;z-index: 1;position: relative;background-color: white;}#sk-container-id-1 div.sk-parallel-item:first-child::after {align-self: flex-end;width: 50%;}#sk-container-id-1 div.sk-parallel-item:last-child::after {align-self: flex-start;width: 50%;}#sk-container-id-1 div.sk-parallel-item:only-child::after {width: 0;}#sk-container-id-1 div.sk-dashed-wrapped {border: 1px dashed gray;margin: 0 0.4em 0.5em 0.4em;box-sizing: border-box;padding-bottom: 0.4em;background-color: white;}#sk-container-id-1 div.sk-label label {font-family: monospace;font-weight: bold;display: inline-block;line-height: 1.2em;}#sk-container-id-1 div.sk-label-container {text-align: center;}#sk-container-id-1 div.sk-container {/* jupyter's `normalize.less` sets `[hidden] { display: none; }` but bootstrap.min.css set `[hidden] { display: none !important; }` so we also need the `!important` here to be able to override the default hidden behavior on the sphinx rendered scikit-learn.org. See: https://github.com/scikit-learn/scikit-learn/issues/21755 */display: inline-block !important;position: relative;}#sk-container-id-1 div.sk-text-repr-fallback {display: none;}</style><div id=\"sk-container-id-1\" class=\"sk-top-container\"><div class=\"sk-text-repr-fallback\"><pre>XGBClassifier(base_score=None, booster=None, callbacks=None,\n",
       "              colsample_bylevel=None, colsample_bynode=None,\n",
       "              colsample_bytree=None, early_stopping_rounds=None,\n",
       "              enable_categorical=True, eval_metric=None, feature_types=None,\n",
       "              gamma=None, gpu_id=None, grow_policy=None, importance_type=None,\n",
       "              interaction_constraints=None, learning_rate=None, max_bin=None,\n",
       "              max_cat_threshold=None, max_cat_to_onehot=None,\n",
       "              max_delta_step=None, max_depth=None, max_leaves=None,\n",
       "              min_child_weight=None, missing=nan, monotone_constraints=None,\n",
       "              n_estimators=100, n_jobs=None, num_parallel_tree=None,\n",
       "              objective=&#x27;binary:hinge&#x27;, predictor=None, ...)</pre><b>In a Jupyter environment, please rerun this cell to show the HTML representation or trust the notebook. <br />On GitHub, the HTML representation is unable to render, please try loading this page with nbviewer.org.</b></div><div class=\"sk-container\" hidden><div class=\"sk-item\"><div class=\"sk-estimator sk-toggleable\"><input class=\"sk-toggleable__control sk-hidden--visually\" id=\"sk-estimator-id-1\" type=\"checkbox\" checked><label for=\"sk-estimator-id-1\" class=\"sk-toggleable__label sk-toggleable__label-arrow\">XGBClassifier</label><div class=\"sk-toggleable__content\"><pre>XGBClassifier(base_score=None, booster=None, callbacks=None,\n",
       "              colsample_bylevel=None, colsample_bynode=None,\n",
       "              colsample_bytree=None, early_stopping_rounds=None,\n",
       "              enable_categorical=True, eval_metric=None, feature_types=None,\n",
       "              gamma=None, gpu_id=None, grow_policy=None, importance_type=None,\n",
       "              interaction_constraints=None, learning_rate=None, max_bin=None,\n",
       "              max_cat_threshold=None, max_cat_to_onehot=None,\n",
       "              max_delta_step=None, max_depth=None, max_leaves=None,\n",
       "              min_child_weight=None, missing=nan, monotone_constraints=None,\n",
       "              n_estimators=100, n_jobs=None, num_parallel_tree=None,\n",
       "              objective=&#x27;binary:hinge&#x27;, predictor=None, ...)</pre></div></div></div></div></div>"
      ],
      "text/plain": [
       "XGBClassifier(base_score=None, booster=None, callbacks=None,\n",
       "              colsample_bylevel=None, colsample_bynode=None,\n",
       "              colsample_bytree=None, early_stopping_rounds=None,\n",
       "              enable_categorical=True, eval_metric=None, feature_types=None,\n",
       "              gamma=None, gpu_id=None, grow_policy=None, importance_type=None,\n",
       "              interaction_constraints=None, learning_rate=None, max_bin=None,\n",
       "              max_cat_threshold=None, max_cat_to_onehot=None,\n",
       "              max_delta_step=None, max_depth=None, max_leaves=None,\n",
       "              min_child_weight=None, missing=nan, monotone_constraints=None,\n",
       "              n_estimators=100, n_jobs=None, num_parallel_tree=None,\n",
       "              objective='binary:hinge', predictor=None, ...)"
      ]
     },
     "execution_count": 53,
     "metadata": {},
     "output_type": "execute_result"
    }
   ],
   "source": [
    "model.fit(X, y)"
   ]
  },
  {
   "cell_type": "markdown",
   "id": "2beaf205",
   "metadata": {},
   "source": [
    "---"
   ]
  },
  {
   "cell_type": "markdown",
   "id": "b1ca62df",
   "metadata": {},
   "source": [
    "## Evaluate the Model"
   ]
  },
  {
   "cell_type": "code",
   "execution_count": 54,
   "id": "1862050d",
   "metadata": {},
   "outputs": [],
   "source": [
    "test_result = pipeline_model.transform(test)"
   ]
  },
  {
   "cell_type": "code",
   "execution_count": 55,
   "id": "f590afc7",
   "metadata": {},
   "outputs": [
    {
     "name": "stderr",
     "output_type": "stream",
     "text": [
      "\r",
      "[Stage 99:=============================>                            (1 + 1) / 2]\r",
      "\r",
      "                                                                                \r"
     ]
    }
   ],
   "source": [
    "df_test = result.toPandas()\n",
    "X_test = df_test.drop([\"delayed\", \"origin\", \"dest\", \"carrier\"], axis=1)\n",
    "y_test = df_test[\"delayed\"]"
   ]
  },
  {
   "cell_type": "code",
   "execution_count": 56,
   "id": "110aa233",
   "metadata": {},
   "outputs": [],
   "source": [
    "y_predict = model.predict(X_test)"
   ]
  },
  {
   "cell_type": "code",
   "execution_count": 57,
   "id": "8ad30015",
   "metadata": {},
   "outputs": [],
   "source": [
    "from sklearn.metrics import accuracy_score"
   ]
  },
  {
   "cell_type": "code",
   "execution_count": 58,
   "id": "67db818f",
   "metadata": {},
   "outputs": [
    {
     "data": {
      "text/plain": [
       "0.9011319172722191"
      ]
     },
     "execution_count": 58,
     "metadata": {},
     "output_type": "execute_result"
    }
   ],
   "source": [
    "accuracy_score(y_test, y_predict)"
   ]
  },
  {
   "cell_type": "markdown",
   "id": "a89796cb",
   "metadata": {},
   "source": [
    "## Is that good?"
   ]
  },
  {
   "cell_type": "code",
   "execution_count": 59,
   "id": "a685c87a",
   "metadata": {},
   "outputs": [],
   "source": [
    "import numpy as np"
   ]
  },
  {
   "cell_type": "code",
   "execution_count": 60,
   "id": "a0c00164",
   "metadata": {},
   "outputs": [
    {
     "data": {
      "text/plain": [
       "0.8550167691447736"
      ]
     },
     "execution_count": 60,
     "metadata": {},
     "output_type": "execute_result"
    }
   ],
   "source": [
    "accuracy_score(y_test, np.zeros_like(y_test))"
   ]
  }
 ],
 "metadata": {
  "kernelspec": {
   "display_name": "Python 3 (ipykernel)",
   "language": "python",
   "name": "python3"
  },
  "language_info": {
   "codemirror_mode": {
    "name": "ipython",
    "version": 3
   },
   "file_extension": ".py",
   "mimetype": "text/x-python",
   "name": "python",
   "nbconvert_exporter": "python",
   "pygments_lexer": "ipython3",
   "version": "3.10.9"
  }
 },
 "nbformat": 4,
 "nbformat_minor": 5
}
