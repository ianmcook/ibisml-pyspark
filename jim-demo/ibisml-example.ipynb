{
 "cells": [
  {
   "cell_type": "markdown",
   "id": "615dc805",
   "metadata": {},
   "source": [
    "# ML on NYCFlights with Ibis"
   ]
  },
  {
   "cell_type": "code",
   "execution_count": 2,
   "id": "30dc3753",
   "metadata": {},
   "outputs": [],
   "source": [
    "import ibis\n",
    "from ibis import _\n",
    "ibis.options.interactive = True"
   ]
  },
  {
   "cell_type": "markdown",
   "id": "881d08eb",
   "metadata": {},
   "source": [
    "## Load the data"
   ]
  },
  {
   "cell_type": "code",
   "execution_count": 3,
   "id": "f7c93c07",
   "metadata": {},
   "outputs": [],
   "source": [
    "flights = ibis.read_parquet(\"data/flights.parquet\")\n",
    "weather = ibis.read_parquet(\"data/weather.parquet\")"
   ]
  },
  {
   "cell_type": "code",
   "execution_count": 4,
   "id": "f0bbd01a",
   "metadata": {},
   "outputs": [
    {
     "data": {
      "text/html": [
       "<pre style=\"white-space:pre;overflow-x:auto;line-height:normal;font-family:Menlo,'DejaVu Sans Mono',consolas,'Courier New',monospace\">┏━━━━━━━┳━━━━━━━┳━━━━━━━┳━━━━━━━━━━┳━━━━━━━━━━━━━━━━┳━━━━━━━━━━━┳━━━━━━━━━━┳━━━━━━━━━━━━━━━━┳━━━━━━━━━━━┳━━━━━━━━━┳━━━━━━━━┳━━━━━━━━━┳━━━━━━━━┳━━━━━━━━┳━━━━━━━━━━┳━━━━━━━━━━┳━━━━━━━━━┳━━━━━━━━━┳━━━━━━━━━━━━━━━━━━━━━┓\n",
       "┃<span style=\"font-weight: bold\"> year  </span>┃<span style=\"font-weight: bold\"> month </span>┃<span style=\"font-weight: bold\"> day   </span>┃<span style=\"font-weight: bold\"> dep_time </span>┃<span style=\"font-weight: bold\"> sched_dep_time </span>┃<span style=\"font-weight: bold\"> dep_delay </span>┃<span style=\"font-weight: bold\"> arr_time </span>┃<span style=\"font-weight: bold\"> sched_arr_time </span>┃<span style=\"font-weight: bold\"> arr_delay </span>┃<span style=\"font-weight: bold\"> carrier </span>┃<span style=\"font-weight: bold\"> flight </span>┃<span style=\"font-weight: bold\"> tailnum </span>┃<span style=\"font-weight: bold\"> origin </span>┃<span style=\"font-weight: bold\"> dest   </span>┃<span style=\"font-weight: bold\"> air_time </span>┃<span style=\"font-weight: bold\"> distance </span>┃<span style=\"font-weight: bold\"> hour    </span>┃<span style=\"font-weight: bold\"> minute  </span>┃<span style=\"font-weight: bold\"> time_hour           </span>┃\n",
       "┡━━━━━━━╇━━━━━━━╇━━━━━━━╇━━━━━━━━━━╇━━━━━━━━━━━━━━━━╇━━━━━━━━━━━╇━━━━━━━━━━╇━━━━━━━━━━━━━━━━╇━━━━━━━━━━━╇━━━━━━━━━╇━━━━━━━━╇━━━━━━━━━╇━━━━━━━━╇━━━━━━━━╇━━━━━━━━━━╇━━━━━━━━━━╇━━━━━━━━━╇━━━━━━━━━╇━━━━━━━━━━━━━━━━━━━━━┩\n",
       "│ <span style=\"color: #7f7f7f; text-decoration-color: #7f7f7f\">int32</span> │ <span style=\"color: #7f7f7f; text-decoration-color: #7f7f7f\">int32</span> │ <span style=\"color: #7f7f7f; text-decoration-color: #7f7f7f\">int32</span> │ <span style=\"color: #7f7f7f; text-decoration-color: #7f7f7f\">int64</span>    │ <span style=\"color: #7f7f7f; text-decoration-color: #7f7f7f\">int32</span>          │ <span style=\"color: #7f7f7f; text-decoration-color: #7f7f7f\">float64</span>   │ <span style=\"color: #7f7f7f; text-decoration-color: #7f7f7f\">int64</span>    │ <span style=\"color: #7f7f7f; text-decoration-color: #7f7f7f\">int32</span>          │ <span style=\"color: #7f7f7f; text-decoration-color: #7f7f7f\">float64</span>   │ <span style=\"color: #7f7f7f; text-decoration-color: #7f7f7f\">string</span>  │ <span style=\"color: #7f7f7f; text-decoration-color: #7f7f7f\">int32</span>  │ <span style=\"color: #7f7f7f; text-decoration-color: #7f7f7f\">string</span>  │ <span style=\"color: #7f7f7f; text-decoration-color: #7f7f7f\">string</span> │ <span style=\"color: #7f7f7f; text-decoration-color: #7f7f7f\">string</span> │ <span style=\"color: #7f7f7f; text-decoration-color: #7f7f7f\">float64</span>  │ <span style=\"color: #7f7f7f; text-decoration-color: #7f7f7f\">float64</span>  │ <span style=\"color: #7f7f7f; text-decoration-color: #7f7f7f\">float64</span> │ <span style=\"color: #7f7f7f; text-decoration-color: #7f7f7f\">float64</span> │ <span style=\"color: #7f7f7f; text-decoration-color: #7f7f7f\">timestamp</span>           │\n",
       "├───────┼───────┼───────┼──────────┼────────────────┼───────────┼──────────┼────────────────┼───────────┼─────────┼────────┼─────────┼────────┼────────┼──────────┼──────────┼─────────┼─────────┼─────────────────────┤\n",
       "│  <span style=\"color: #008080; text-decoration-color: #008080; font-weight: bold\">2013</span> │     <span style=\"color: #008080; text-decoration-color: #008080; font-weight: bold\">1</span> │     <span style=\"color: #008080; text-decoration-color: #008080; font-weight: bold\">1</span> │      <span style=\"color: #008080; text-decoration-color: #008080; font-weight: bold\">517</span> │            <span style=\"color: #008080; text-decoration-color: #008080; font-weight: bold\">515</span> │       <span style=\"color: #008080; text-decoration-color: #008080; font-weight: bold\">2.0</span> │      <span style=\"color: #008080; text-decoration-color: #008080; font-weight: bold\">830</span> │            <span style=\"color: #008080; text-decoration-color: #008080; font-weight: bold\">819</span> │      <span style=\"color: #008080; text-decoration-color: #008080; font-weight: bold\">11.0</span> │ <span style=\"color: #008000; text-decoration-color: #008000\">UA     </span> │   <span style=\"color: #008080; text-decoration-color: #008080; font-weight: bold\">1545</span> │ <span style=\"color: #008000; text-decoration-color: #008000\">N14228 </span> │ <span style=\"color: #008000; text-decoration-color: #008000\">EWR   </span> │ <span style=\"color: #008000; text-decoration-color: #008000\">IAH   </span> │    <span style=\"color: #008080; text-decoration-color: #008080; font-weight: bold\">227.0</span> │   <span style=\"color: #008080; text-decoration-color: #008080; font-weight: bold\">1400.0</span> │     <span style=\"color: #008080; text-decoration-color: #008080; font-weight: bold\">5.0</span> │    <span style=\"color: #008080; text-decoration-color: #008080; font-weight: bold\">15.0</span> │ <span style=\"color: #800080; text-decoration-color: #800080\">2013-01-01 10:00:00</span> │\n",
       "│  <span style=\"color: #008080; text-decoration-color: #008080; font-weight: bold\">2013</span> │     <span style=\"color: #008080; text-decoration-color: #008080; font-weight: bold\">1</span> │     <span style=\"color: #008080; text-decoration-color: #008080; font-weight: bold\">1</span> │      <span style=\"color: #008080; text-decoration-color: #008080; font-weight: bold\">533</span> │            <span style=\"color: #008080; text-decoration-color: #008080; font-weight: bold\">529</span> │       <span style=\"color: #008080; text-decoration-color: #008080; font-weight: bold\">4.0</span> │      <span style=\"color: #008080; text-decoration-color: #008080; font-weight: bold\">850</span> │            <span style=\"color: #008080; text-decoration-color: #008080; font-weight: bold\">830</span> │      <span style=\"color: #008080; text-decoration-color: #008080; font-weight: bold\">20.0</span> │ <span style=\"color: #008000; text-decoration-color: #008000\">UA     </span> │   <span style=\"color: #008080; text-decoration-color: #008080; font-weight: bold\">1714</span> │ <span style=\"color: #008000; text-decoration-color: #008000\">N24211 </span> │ <span style=\"color: #008000; text-decoration-color: #008000\">LGA   </span> │ <span style=\"color: #008000; text-decoration-color: #008000\">IAH   </span> │    <span style=\"color: #008080; text-decoration-color: #008080; font-weight: bold\">227.0</span> │   <span style=\"color: #008080; text-decoration-color: #008080; font-weight: bold\">1416.0</span> │     <span style=\"color: #008080; text-decoration-color: #008080; font-weight: bold\">5.0</span> │    <span style=\"color: #008080; text-decoration-color: #008080; font-weight: bold\">29.0</span> │ <span style=\"color: #800080; text-decoration-color: #800080\">2013-01-01 10:00:00</span> │\n",
       "│  <span style=\"color: #008080; text-decoration-color: #008080; font-weight: bold\">2013</span> │     <span style=\"color: #008080; text-decoration-color: #008080; font-weight: bold\">1</span> │     <span style=\"color: #008080; text-decoration-color: #008080; font-weight: bold\">1</span> │      <span style=\"color: #008080; text-decoration-color: #008080; font-weight: bold\">542</span> │            <span style=\"color: #008080; text-decoration-color: #008080; font-weight: bold\">540</span> │       <span style=\"color: #008080; text-decoration-color: #008080; font-weight: bold\">2.0</span> │      <span style=\"color: #008080; text-decoration-color: #008080; font-weight: bold\">923</span> │            <span style=\"color: #008080; text-decoration-color: #008080; font-weight: bold\">850</span> │      <span style=\"color: #008080; text-decoration-color: #008080; font-weight: bold\">33.0</span> │ <span style=\"color: #008000; text-decoration-color: #008000\">AA     </span> │   <span style=\"color: #008080; text-decoration-color: #008080; font-weight: bold\">1141</span> │ <span style=\"color: #008000; text-decoration-color: #008000\">N619AA </span> │ <span style=\"color: #008000; text-decoration-color: #008000\">JFK   </span> │ <span style=\"color: #008000; text-decoration-color: #008000\">MIA   </span> │    <span style=\"color: #008080; text-decoration-color: #008080; font-weight: bold\">160.0</span> │   <span style=\"color: #008080; text-decoration-color: #008080; font-weight: bold\">1089.0</span> │     <span style=\"color: #008080; text-decoration-color: #008080; font-weight: bold\">5.0</span> │    <span style=\"color: #008080; text-decoration-color: #008080; font-weight: bold\">40.0</span> │ <span style=\"color: #800080; text-decoration-color: #800080\">2013-01-01 10:00:00</span> │\n",
       "│  <span style=\"color: #008080; text-decoration-color: #008080; font-weight: bold\">2013</span> │     <span style=\"color: #008080; text-decoration-color: #008080; font-weight: bold\">1</span> │     <span style=\"color: #008080; text-decoration-color: #008080; font-weight: bold\">1</span> │      <span style=\"color: #008080; text-decoration-color: #008080; font-weight: bold\">544</span> │            <span style=\"color: #008080; text-decoration-color: #008080; font-weight: bold\">545</span> │      <span style=\"color: #008080; text-decoration-color: #008080; font-weight: bold\">-1.0</span> │     <span style=\"color: #008080; text-decoration-color: #008080; font-weight: bold\">1004</span> │           <span style=\"color: #008080; text-decoration-color: #008080; font-weight: bold\">1022</span> │     <span style=\"color: #008080; text-decoration-color: #008080; font-weight: bold\">-18.0</span> │ <span style=\"color: #008000; text-decoration-color: #008000\">B6     </span> │    <span style=\"color: #008080; text-decoration-color: #008080; font-weight: bold\">725</span> │ <span style=\"color: #008000; text-decoration-color: #008000\">N804JB </span> │ <span style=\"color: #008000; text-decoration-color: #008000\">JFK   </span> │ <span style=\"color: #008000; text-decoration-color: #008000\">BQN   </span> │    <span style=\"color: #008080; text-decoration-color: #008080; font-weight: bold\">183.0</span> │   <span style=\"color: #008080; text-decoration-color: #008080; font-weight: bold\">1576.0</span> │     <span style=\"color: #008080; text-decoration-color: #008080; font-weight: bold\">5.0</span> │    <span style=\"color: #008080; text-decoration-color: #008080; font-weight: bold\">45.0</span> │ <span style=\"color: #800080; text-decoration-color: #800080\">2013-01-01 10:00:00</span> │\n",
       "│  <span style=\"color: #008080; text-decoration-color: #008080; font-weight: bold\">2013</span> │     <span style=\"color: #008080; text-decoration-color: #008080; font-weight: bold\">1</span> │     <span style=\"color: #008080; text-decoration-color: #008080; font-weight: bold\">1</span> │      <span style=\"color: #008080; text-decoration-color: #008080; font-weight: bold\">554</span> │            <span style=\"color: #008080; text-decoration-color: #008080; font-weight: bold\">600</span> │      <span style=\"color: #008080; text-decoration-color: #008080; font-weight: bold\">-6.0</span> │      <span style=\"color: #008080; text-decoration-color: #008080; font-weight: bold\">812</span> │            <span style=\"color: #008080; text-decoration-color: #008080; font-weight: bold\">837</span> │     <span style=\"color: #008080; text-decoration-color: #008080; font-weight: bold\">-25.0</span> │ <span style=\"color: #008000; text-decoration-color: #008000\">DL     </span> │    <span style=\"color: #008080; text-decoration-color: #008080; font-weight: bold\">461</span> │ <span style=\"color: #008000; text-decoration-color: #008000\">N668DN </span> │ <span style=\"color: #008000; text-decoration-color: #008000\">LGA   </span> │ <span style=\"color: #008000; text-decoration-color: #008000\">ATL   </span> │    <span style=\"color: #008080; text-decoration-color: #008080; font-weight: bold\">116.0</span> │    <span style=\"color: #008080; text-decoration-color: #008080; font-weight: bold\">762.0</span> │     <span style=\"color: #008080; text-decoration-color: #008080; font-weight: bold\">6.0</span> │     <span style=\"color: #008080; text-decoration-color: #008080; font-weight: bold\">0.0</span> │ <span style=\"color: #800080; text-decoration-color: #800080\">2013-01-01 11:00:00</span> │\n",
       "│  <span style=\"color: #008080; text-decoration-color: #008080; font-weight: bold\">2013</span> │     <span style=\"color: #008080; text-decoration-color: #008080; font-weight: bold\">1</span> │     <span style=\"color: #008080; text-decoration-color: #008080; font-weight: bold\">1</span> │      <span style=\"color: #008080; text-decoration-color: #008080; font-weight: bold\">554</span> │            <span style=\"color: #008080; text-decoration-color: #008080; font-weight: bold\">558</span> │      <span style=\"color: #008080; text-decoration-color: #008080; font-weight: bold\">-4.0</span> │      <span style=\"color: #008080; text-decoration-color: #008080; font-weight: bold\">740</span> │            <span style=\"color: #008080; text-decoration-color: #008080; font-weight: bold\">728</span> │      <span style=\"color: #008080; text-decoration-color: #008080; font-weight: bold\">12.0</span> │ <span style=\"color: #008000; text-decoration-color: #008000\">UA     </span> │   <span style=\"color: #008080; text-decoration-color: #008080; font-weight: bold\">1696</span> │ <span style=\"color: #008000; text-decoration-color: #008000\">N39463 </span> │ <span style=\"color: #008000; text-decoration-color: #008000\">EWR   </span> │ <span style=\"color: #008000; text-decoration-color: #008000\">ORD   </span> │    <span style=\"color: #008080; text-decoration-color: #008080; font-weight: bold\">150.0</span> │    <span style=\"color: #008080; text-decoration-color: #008080; font-weight: bold\">719.0</span> │     <span style=\"color: #008080; text-decoration-color: #008080; font-weight: bold\">5.0</span> │    <span style=\"color: #008080; text-decoration-color: #008080; font-weight: bold\">58.0</span> │ <span style=\"color: #800080; text-decoration-color: #800080\">2013-01-01 10:00:00</span> │\n",
       "│  <span style=\"color: #008080; text-decoration-color: #008080; font-weight: bold\">2013</span> │     <span style=\"color: #008080; text-decoration-color: #008080; font-weight: bold\">1</span> │     <span style=\"color: #008080; text-decoration-color: #008080; font-weight: bold\">1</span> │      <span style=\"color: #008080; text-decoration-color: #008080; font-weight: bold\">555</span> │            <span style=\"color: #008080; text-decoration-color: #008080; font-weight: bold\">600</span> │      <span style=\"color: #008080; text-decoration-color: #008080; font-weight: bold\">-5.0</span> │      <span style=\"color: #008080; text-decoration-color: #008080; font-weight: bold\">913</span> │            <span style=\"color: #008080; text-decoration-color: #008080; font-weight: bold\">854</span> │      <span style=\"color: #008080; text-decoration-color: #008080; font-weight: bold\">19.0</span> │ <span style=\"color: #008000; text-decoration-color: #008000\">B6     </span> │    <span style=\"color: #008080; text-decoration-color: #008080; font-weight: bold\">507</span> │ <span style=\"color: #008000; text-decoration-color: #008000\">N516JB </span> │ <span style=\"color: #008000; text-decoration-color: #008000\">EWR   </span> │ <span style=\"color: #008000; text-decoration-color: #008000\">FLL   </span> │    <span style=\"color: #008080; text-decoration-color: #008080; font-weight: bold\">158.0</span> │   <span style=\"color: #008080; text-decoration-color: #008080; font-weight: bold\">1065.0</span> │     <span style=\"color: #008080; text-decoration-color: #008080; font-weight: bold\">6.0</span> │     <span style=\"color: #008080; text-decoration-color: #008080; font-weight: bold\">0.0</span> │ <span style=\"color: #800080; text-decoration-color: #800080\">2013-01-01 11:00:00</span> │\n",
       "│  <span style=\"color: #008080; text-decoration-color: #008080; font-weight: bold\">2013</span> │     <span style=\"color: #008080; text-decoration-color: #008080; font-weight: bold\">1</span> │     <span style=\"color: #008080; text-decoration-color: #008080; font-weight: bold\">1</span> │      <span style=\"color: #008080; text-decoration-color: #008080; font-weight: bold\">557</span> │            <span style=\"color: #008080; text-decoration-color: #008080; font-weight: bold\">600</span> │      <span style=\"color: #008080; text-decoration-color: #008080; font-weight: bold\">-3.0</span> │      <span style=\"color: #008080; text-decoration-color: #008080; font-weight: bold\">709</span> │            <span style=\"color: #008080; text-decoration-color: #008080; font-weight: bold\">723</span> │     <span style=\"color: #008080; text-decoration-color: #008080; font-weight: bold\">-14.0</span> │ <span style=\"color: #008000; text-decoration-color: #008000\">EV     </span> │   <span style=\"color: #008080; text-decoration-color: #008080; font-weight: bold\">5708</span> │ <span style=\"color: #008000; text-decoration-color: #008000\">N829AS </span> │ <span style=\"color: #008000; text-decoration-color: #008000\">LGA   </span> │ <span style=\"color: #008000; text-decoration-color: #008000\">IAD   </span> │     <span style=\"color: #008080; text-decoration-color: #008080; font-weight: bold\">53.0</span> │    <span style=\"color: #008080; text-decoration-color: #008080; font-weight: bold\">229.0</span> │     <span style=\"color: #008080; text-decoration-color: #008080; font-weight: bold\">6.0</span> │     <span style=\"color: #008080; text-decoration-color: #008080; font-weight: bold\">0.0</span> │ <span style=\"color: #800080; text-decoration-color: #800080\">2013-01-01 11:00:00</span> │\n",
       "│  <span style=\"color: #008080; text-decoration-color: #008080; font-weight: bold\">2013</span> │     <span style=\"color: #008080; text-decoration-color: #008080; font-weight: bold\">1</span> │     <span style=\"color: #008080; text-decoration-color: #008080; font-weight: bold\">1</span> │      <span style=\"color: #008080; text-decoration-color: #008080; font-weight: bold\">557</span> │            <span style=\"color: #008080; text-decoration-color: #008080; font-weight: bold\">600</span> │      <span style=\"color: #008080; text-decoration-color: #008080; font-weight: bold\">-3.0</span> │      <span style=\"color: #008080; text-decoration-color: #008080; font-weight: bold\">838</span> │            <span style=\"color: #008080; text-decoration-color: #008080; font-weight: bold\">846</span> │      <span style=\"color: #008080; text-decoration-color: #008080; font-weight: bold\">-8.0</span> │ <span style=\"color: #008000; text-decoration-color: #008000\">B6     </span> │     <span style=\"color: #008080; text-decoration-color: #008080; font-weight: bold\">79</span> │ <span style=\"color: #008000; text-decoration-color: #008000\">N593JB </span> │ <span style=\"color: #008000; text-decoration-color: #008000\">JFK   </span> │ <span style=\"color: #008000; text-decoration-color: #008000\">MCO   </span> │    <span style=\"color: #008080; text-decoration-color: #008080; font-weight: bold\">140.0</span> │    <span style=\"color: #008080; text-decoration-color: #008080; font-weight: bold\">944.0</span> │     <span style=\"color: #008080; text-decoration-color: #008080; font-weight: bold\">6.0</span> │     <span style=\"color: #008080; text-decoration-color: #008080; font-weight: bold\">0.0</span> │ <span style=\"color: #800080; text-decoration-color: #800080\">2013-01-01 11:00:00</span> │\n",
       "│  <span style=\"color: #008080; text-decoration-color: #008080; font-weight: bold\">2013</span> │     <span style=\"color: #008080; text-decoration-color: #008080; font-weight: bold\">1</span> │     <span style=\"color: #008080; text-decoration-color: #008080; font-weight: bold\">1</span> │      <span style=\"color: #008080; text-decoration-color: #008080; font-weight: bold\">558</span> │            <span style=\"color: #008080; text-decoration-color: #008080; font-weight: bold\">600</span> │      <span style=\"color: #008080; text-decoration-color: #008080; font-weight: bold\">-2.0</span> │      <span style=\"color: #008080; text-decoration-color: #008080; font-weight: bold\">753</span> │            <span style=\"color: #008080; text-decoration-color: #008080; font-weight: bold\">745</span> │       <span style=\"color: #008080; text-decoration-color: #008080; font-weight: bold\">8.0</span> │ <span style=\"color: #008000; text-decoration-color: #008000\">AA     </span> │    <span style=\"color: #008080; text-decoration-color: #008080; font-weight: bold\">301</span> │ <span style=\"color: #008000; text-decoration-color: #008000\">N3ALAA </span> │ <span style=\"color: #008000; text-decoration-color: #008000\">LGA   </span> │ <span style=\"color: #008000; text-decoration-color: #008000\">ORD   </span> │    <span style=\"color: #008080; text-decoration-color: #008080; font-weight: bold\">138.0</span> │    <span style=\"color: #008080; text-decoration-color: #008080; font-weight: bold\">733.0</span> │     <span style=\"color: #008080; text-decoration-color: #008080; font-weight: bold\">6.0</span> │     <span style=\"color: #008080; text-decoration-color: #008080; font-weight: bold\">0.0</span> │ <span style=\"color: #800080; text-decoration-color: #800080\">2013-01-01 11:00:00</span> │\n",
       "│     <span style=\"color: #7f7f7f; text-decoration-color: #7f7f7f\">…</span> │     <span style=\"color: #7f7f7f; text-decoration-color: #7f7f7f\">…</span> │     <span style=\"color: #7f7f7f; text-decoration-color: #7f7f7f\">…</span> │        <span style=\"color: #7f7f7f; text-decoration-color: #7f7f7f\">…</span> │              <span style=\"color: #7f7f7f; text-decoration-color: #7f7f7f\">…</span> │         <span style=\"color: #7f7f7f; text-decoration-color: #7f7f7f\">…</span> │        <span style=\"color: #7f7f7f; text-decoration-color: #7f7f7f\">…</span> │              <span style=\"color: #7f7f7f; text-decoration-color: #7f7f7f\">…</span> │         <span style=\"color: #7f7f7f; text-decoration-color: #7f7f7f\">…</span> │ <span style=\"color: #7f7f7f; text-decoration-color: #7f7f7f\">…</span>       │      <span style=\"color: #7f7f7f; text-decoration-color: #7f7f7f\">…</span> │ <span style=\"color: #7f7f7f; text-decoration-color: #7f7f7f\">…</span>       │ <span style=\"color: #7f7f7f; text-decoration-color: #7f7f7f\">…</span>      │ <span style=\"color: #7f7f7f; text-decoration-color: #7f7f7f\">…</span>      │        <span style=\"color: #7f7f7f; text-decoration-color: #7f7f7f\">…</span> │        <span style=\"color: #7f7f7f; text-decoration-color: #7f7f7f\">…</span> │       <span style=\"color: #7f7f7f; text-decoration-color: #7f7f7f\">…</span> │       <span style=\"color: #7f7f7f; text-decoration-color: #7f7f7f\">…</span> │ <span style=\"color: #7f7f7f; text-decoration-color: #7f7f7f\">…</span>                   │\n",
       "└───────┴───────┴───────┴──────────┴────────────────┴───────────┴──────────┴────────────────┴───────────┴─────────┴────────┴─────────┴────────┴────────┴──────────┴──────────┴─────────┴─────────┴─────────────────────┘\n",
       "</pre>\n"
      ],
      "text/plain": [
       "┏━━━━━━━┳━━━━━━━┳━━━━━━━┳━━━━━━━━━━┳━━━━━━━━━━━━━━━━┳━━━━━━━━━━━┳━━━━━━━━━━┳━━━━━━━━━━━━━━━━┳━━━━━━━━━━━┳━━━━━━━━━┳━━━━━━━━┳━━━━━━━━━┳━━━━━━━━┳━━━━━━━━┳━━━━━━━━━━┳━━━━━━━━━━┳━━━━━━━━━┳━━━━━━━━━┳━━━━━━━━━━━━━━━━━━━━━┓\n",
       "┃\u001b[1m \u001b[0m\u001b[1myear\u001b[0m\u001b[1m \u001b[0m\u001b[1m \u001b[0m┃\u001b[1m \u001b[0m\u001b[1mmonth\u001b[0m\u001b[1m \u001b[0m┃\u001b[1m \u001b[0m\u001b[1mday\u001b[0m\u001b[1m  \u001b[0m\u001b[1m \u001b[0m┃\u001b[1m \u001b[0m\u001b[1mdep_time\u001b[0m\u001b[1m \u001b[0m┃\u001b[1m \u001b[0m\u001b[1msched_dep_time\u001b[0m\u001b[1m \u001b[0m┃\u001b[1m \u001b[0m\u001b[1mdep_delay\u001b[0m\u001b[1m \u001b[0m┃\u001b[1m \u001b[0m\u001b[1marr_time\u001b[0m\u001b[1m \u001b[0m┃\u001b[1m \u001b[0m\u001b[1msched_arr_time\u001b[0m\u001b[1m \u001b[0m┃\u001b[1m \u001b[0m\u001b[1marr_delay\u001b[0m\u001b[1m \u001b[0m┃\u001b[1m \u001b[0m\u001b[1mcarrier\u001b[0m\u001b[1m \u001b[0m┃\u001b[1m \u001b[0m\u001b[1mflight\u001b[0m\u001b[1m \u001b[0m┃\u001b[1m \u001b[0m\u001b[1mtailnum\u001b[0m\u001b[1m \u001b[0m┃\u001b[1m \u001b[0m\u001b[1morigin\u001b[0m\u001b[1m \u001b[0m┃\u001b[1m \u001b[0m\u001b[1mdest\u001b[0m\u001b[1m  \u001b[0m\u001b[1m \u001b[0m┃\u001b[1m \u001b[0m\u001b[1mair_time\u001b[0m\u001b[1m \u001b[0m┃\u001b[1m \u001b[0m\u001b[1mdistance\u001b[0m\u001b[1m \u001b[0m┃\u001b[1m \u001b[0m\u001b[1mhour\u001b[0m\u001b[1m   \u001b[0m\u001b[1m \u001b[0m┃\u001b[1m \u001b[0m\u001b[1mminute\u001b[0m\u001b[1m \u001b[0m\u001b[1m \u001b[0m┃\u001b[1m \u001b[0m\u001b[1mtime_hour\u001b[0m\u001b[1m          \u001b[0m\u001b[1m \u001b[0m┃\n",
       "┡━━━━━━━╇━━━━━━━╇━━━━━━━╇━━━━━━━━━━╇━━━━━━━━━━━━━━━━╇━━━━━━━━━━━╇━━━━━━━━━━╇━━━━━━━━━━━━━━━━╇━━━━━━━━━━━╇━━━━━━━━━╇━━━━━━━━╇━━━━━━━━━╇━━━━━━━━╇━━━━━━━━╇━━━━━━━━━━╇━━━━━━━━━━╇━━━━━━━━━╇━━━━━━━━━╇━━━━━━━━━━━━━━━━━━━━━┩\n",
       "│ \u001b[2mint32\u001b[0m │ \u001b[2mint32\u001b[0m │ \u001b[2mint32\u001b[0m │ \u001b[2mint64\u001b[0m    │ \u001b[2mint32\u001b[0m          │ \u001b[2mfloat64\u001b[0m   │ \u001b[2mint64\u001b[0m    │ \u001b[2mint32\u001b[0m          │ \u001b[2mfloat64\u001b[0m   │ \u001b[2mstring\u001b[0m  │ \u001b[2mint32\u001b[0m  │ \u001b[2mstring\u001b[0m  │ \u001b[2mstring\u001b[0m │ \u001b[2mstring\u001b[0m │ \u001b[2mfloat64\u001b[0m  │ \u001b[2mfloat64\u001b[0m  │ \u001b[2mfloat64\u001b[0m │ \u001b[2mfloat64\u001b[0m │ \u001b[2mtimestamp\u001b[0m           │\n",
       "├───────┼───────┼───────┼──────────┼────────────────┼───────────┼──────────┼────────────────┼───────────┼─────────┼────────┼─────────┼────────┼────────┼──────────┼──────────┼─────────┼─────────┼─────────────────────┤\n",
       "│  \u001b[1;36m2013\u001b[0m │     \u001b[1;36m1\u001b[0m │     \u001b[1;36m1\u001b[0m │      \u001b[1;36m517\u001b[0m │            \u001b[1;36m515\u001b[0m │       \u001b[1;36m2.0\u001b[0m │      \u001b[1;36m830\u001b[0m │            \u001b[1;36m819\u001b[0m │      \u001b[1;36m11.0\u001b[0m │ \u001b[32mUA     \u001b[0m │   \u001b[1;36m1545\u001b[0m │ \u001b[32mN14228 \u001b[0m │ \u001b[32mEWR   \u001b[0m │ \u001b[32mIAH   \u001b[0m │    \u001b[1;36m227.0\u001b[0m │   \u001b[1;36m1400.0\u001b[0m │     \u001b[1;36m5.0\u001b[0m │    \u001b[1;36m15.0\u001b[0m │ \u001b[35m2013-01-01 10:00:00\u001b[0m │\n",
       "│  \u001b[1;36m2013\u001b[0m │     \u001b[1;36m1\u001b[0m │     \u001b[1;36m1\u001b[0m │      \u001b[1;36m533\u001b[0m │            \u001b[1;36m529\u001b[0m │       \u001b[1;36m4.0\u001b[0m │      \u001b[1;36m850\u001b[0m │            \u001b[1;36m830\u001b[0m │      \u001b[1;36m20.0\u001b[0m │ \u001b[32mUA     \u001b[0m │   \u001b[1;36m1714\u001b[0m │ \u001b[32mN24211 \u001b[0m │ \u001b[32mLGA   \u001b[0m │ \u001b[32mIAH   \u001b[0m │    \u001b[1;36m227.0\u001b[0m │   \u001b[1;36m1416.0\u001b[0m │     \u001b[1;36m5.0\u001b[0m │    \u001b[1;36m29.0\u001b[0m │ \u001b[35m2013-01-01 10:00:00\u001b[0m │\n",
       "│  \u001b[1;36m2013\u001b[0m │     \u001b[1;36m1\u001b[0m │     \u001b[1;36m1\u001b[0m │      \u001b[1;36m542\u001b[0m │            \u001b[1;36m540\u001b[0m │       \u001b[1;36m2.0\u001b[0m │      \u001b[1;36m923\u001b[0m │            \u001b[1;36m850\u001b[0m │      \u001b[1;36m33.0\u001b[0m │ \u001b[32mAA     \u001b[0m │   \u001b[1;36m1141\u001b[0m │ \u001b[32mN619AA \u001b[0m │ \u001b[32mJFK   \u001b[0m │ \u001b[32mMIA   \u001b[0m │    \u001b[1;36m160.0\u001b[0m │   \u001b[1;36m1089.0\u001b[0m │     \u001b[1;36m5.0\u001b[0m │    \u001b[1;36m40.0\u001b[0m │ \u001b[35m2013-01-01 10:00:00\u001b[0m │\n",
       "│  \u001b[1;36m2013\u001b[0m │     \u001b[1;36m1\u001b[0m │     \u001b[1;36m1\u001b[0m │      \u001b[1;36m544\u001b[0m │            \u001b[1;36m545\u001b[0m │      \u001b[1;36m-1.0\u001b[0m │     \u001b[1;36m1004\u001b[0m │           \u001b[1;36m1022\u001b[0m │     \u001b[1;36m-18.0\u001b[0m │ \u001b[32mB6     \u001b[0m │    \u001b[1;36m725\u001b[0m │ \u001b[32mN804JB \u001b[0m │ \u001b[32mJFK   \u001b[0m │ \u001b[32mBQN   \u001b[0m │    \u001b[1;36m183.0\u001b[0m │   \u001b[1;36m1576.0\u001b[0m │     \u001b[1;36m5.0\u001b[0m │    \u001b[1;36m45.0\u001b[0m │ \u001b[35m2013-01-01 10:00:00\u001b[0m │\n",
       "│  \u001b[1;36m2013\u001b[0m │     \u001b[1;36m1\u001b[0m │     \u001b[1;36m1\u001b[0m │      \u001b[1;36m554\u001b[0m │            \u001b[1;36m600\u001b[0m │      \u001b[1;36m-6.0\u001b[0m │      \u001b[1;36m812\u001b[0m │            \u001b[1;36m837\u001b[0m │     \u001b[1;36m-25.0\u001b[0m │ \u001b[32mDL     \u001b[0m │    \u001b[1;36m461\u001b[0m │ \u001b[32mN668DN \u001b[0m │ \u001b[32mLGA   \u001b[0m │ \u001b[32mATL   \u001b[0m │    \u001b[1;36m116.0\u001b[0m │    \u001b[1;36m762.0\u001b[0m │     \u001b[1;36m6.0\u001b[0m │     \u001b[1;36m0.0\u001b[0m │ \u001b[35m2013-01-01 11:00:00\u001b[0m │\n",
       "│  \u001b[1;36m2013\u001b[0m │     \u001b[1;36m1\u001b[0m │     \u001b[1;36m1\u001b[0m │      \u001b[1;36m554\u001b[0m │            \u001b[1;36m558\u001b[0m │      \u001b[1;36m-4.0\u001b[0m │      \u001b[1;36m740\u001b[0m │            \u001b[1;36m728\u001b[0m │      \u001b[1;36m12.0\u001b[0m │ \u001b[32mUA     \u001b[0m │   \u001b[1;36m1696\u001b[0m │ \u001b[32mN39463 \u001b[0m │ \u001b[32mEWR   \u001b[0m │ \u001b[32mORD   \u001b[0m │    \u001b[1;36m150.0\u001b[0m │    \u001b[1;36m719.0\u001b[0m │     \u001b[1;36m5.0\u001b[0m │    \u001b[1;36m58.0\u001b[0m │ \u001b[35m2013-01-01 10:00:00\u001b[0m │\n",
       "│  \u001b[1;36m2013\u001b[0m │     \u001b[1;36m1\u001b[0m │     \u001b[1;36m1\u001b[0m │      \u001b[1;36m555\u001b[0m │            \u001b[1;36m600\u001b[0m │      \u001b[1;36m-5.0\u001b[0m │      \u001b[1;36m913\u001b[0m │            \u001b[1;36m854\u001b[0m │      \u001b[1;36m19.0\u001b[0m │ \u001b[32mB6     \u001b[0m │    \u001b[1;36m507\u001b[0m │ \u001b[32mN516JB \u001b[0m │ \u001b[32mEWR   \u001b[0m │ \u001b[32mFLL   \u001b[0m │    \u001b[1;36m158.0\u001b[0m │   \u001b[1;36m1065.0\u001b[0m │     \u001b[1;36m6.0\u001b[0m │     \u001b[1;36m0.0\u001b[0m │ \u001b[35m2013-01-01 11:00:00\u001b[0m │\n",
       "│  \u001b[1;36m2013\u001b[0m │     \u001b[1;36m1\u001b[0m │     \u001b[1;36m1\u001b[0m │      \u001b[1;36m557\u001b[0m │            \u001b[1;36m600\u001b[0m │      \u001b[1;36m-3.0\u001b[0m │      \u001b[1;36m709\u001b[0m │            \u001b[1;36m723\u001b[0m │     \u001b[1;36m-14.0\u001b[0m │ \u001b[32mEV     \u001b[0m │   \u001b[1;36m5708\u001b[0m │ \u001b[32mN829AS \u001b[0m │ \u001b[32mLGA   \u001b[0m │ \u001b[32mIAD   \u001b[0m │     \u001b[1;36m53.0\u001b[0m │    \u001b[1;36m229.0\u001b[0m │     \u001b[1;36m6.0\u001b[0m │     \u001b[1;36m0.0\u001b[0m │ \u001b[35m2013-01-01 11:00:00\u001b[0m │\n",
       "│  \u001b[1;36m2013\u001b[0m │     \u001b[1;36m1\u001b[0m │     \u001b[1;36m1\u001b[0m │      \u001b[1;36m557\u001b[0m │            \u001b[1;36m600\u001b[0m │      \u001b[1;36m-3.0\u001b[0m │      \u001b[1;36m838\u001b[0m │            \u001b[1;36m846\u001b[0m │      \u001b[1;36m-8.0\u001b[0m │ \u001b[32mB6     \u001b[0m │     \u001b[1;36m79\u001b[0m │ \u001b[32mN593JB \u001b[0m │ \u001b[32mJFK   \u001b[0m │ \u001b[32mMCO   \u001b[0m │    \u001b[1;36m140.0\u001b[0m │    \u001b[1;36m944.0\u001b[0m │     \u001b[1;36m6.0\u001b[0m │     \u001b[1;36m0.0\u001b[0m │ \u001b[35m2013-01-01 11:00:00\u001b[0m │\n",
       "│  \u001b[1;36m2013\u001b[0m │     \u001b[1;36m1\u001b[0m │     \u001b[1;36m1\u001b[0m │      \u001b[1;36m558\u001b[0m │            \u001b[1;36m600\u001b[0m │      \u001b[1;36m-2.0\u001b[0m │      \u001b[1;36m753\u001b[0m │            \u001b[1;36m745\u001b[0m │       \u001b[1;36m8.0\u001b[0m │ \u001b[32mAA     \u001b[0m │    \u001b[1;36m301\u001b[0m │ \u001b[32mN3ALAA \u001b[0m │ \u001b[32mLGA   \u001b[0m │ \u001b[32mORD   \u001b[0m │    \u001b[1;36m138.0\u001b[0m │    \u001b[1;36m733.0\u001b[0m │     \u001b[1;36m6.0\u001b[0m │     \u001b[1;36m0.0\u001b[0m │ \u001b[35m2013-01-01 11:00:00\u001b[0m │\n",
       "│     \u001b[2m…\u001b[0m │     \u001b[2m…\u001b[0m │     \u001b[2m…\u001b[0m │        \u001b[2m…\u001b[0m │              \u001b[2m…\u001b[0m │         \u001b[2m…\u001b[0m │        \u001b[2m…\u001b[0m │              \u001b[2m…\u001b[0m │         \u001b[2m…\u001b[0m │ \u001b[2m…\u001b[0m       │      \u001b[2m…\u001b[0m │ \u001b[2m…\u001b[0m       │ \u001b[2m…\u001b[0m      │ \u001b[2m…\u001b[0m      │        \u001b[2m…\u001b[0m │        \u001b[2m…\u001b[0m │       \u001b[2m…\u001b[0m │       \u001b[2m…\u001b[0m │ \u001b[2m…\u001b[0m                   │\n",
       "└───────┴───────┴───────┴──────────┴────────────────┴───────────┴──────────┴────────────────┴───────────┴─────────┴────────┴─────────┴────────┴────────┴──────────┴──────────┴─────────┴─────────┴─────────────────────┘"
      ]
     },
     "execution_count": 4,
     "metadata": {},
     "output_type": "execute_result"
    }
   ],
   "source": [
    "flights"
   ]
  },
  {
   "cell_type": "code",
   "execution_count": 5,
   "id": "47c5685b",
   "metadata": {},
   "outputs": [
    {
     "data": {
      "text/html": [
       "<pre style=\"white-space:pre;overflow-x:auto;line-height:normal;font-family:Menlo,'DejaVu Sans Mono',consolas,'Courier New',monospace\">┏━━━━━━━━┳━━━━━━━┳━━━━━━━┳━━━━━━━┳━━━━━━━┳━━━━━━━━━┳━━━━━━━━━┳━━━━━━━━━┳━━━━━━━━━━┳━━━━━━━━━━━━┳━━━━━━━━━━━┳━━━━━━━━━┳━━━━━━━━━━┳━━━━━━━━━┳━━━━━━━━━━━━━━━━━━━━━┓\n",
       "┃<span style=\"font-weight: bold\"> origin </span>┃<span style=\"font-weight: bold\"> year  </span>┃<span style=\"font-weight: bold\"> month </span>┃<span style=\"font-weight: bold\"> day   </span>┃<span style=\"font-weight: bold\"> hour  </span>┃<span style=\"font-weight: bold\"> temp    </span>┃<span style=\"font-weight: bold\"> dewp    </span>┃<span style=\"font-weight: bold\"> humid   </span>┃<span style=\"font-weight: bold\"> wind_dir </span>┃<span style=\"font-weight: bold\"> wind_speed </span>┃<span style=\"font-weight: bold\"> wind_gust </span>┃<span style=\"font-weight: bold\"> precip  </span>┃<span style=\"font-weight: bold\"> pressure </span>┃<span style=\"font-weight: bold\"> visib   </span>┃<span style=\"font-weight: bold\"> time_hour           </span>┃\n",
       "┡━━━━━━━━╇━━━━━━━╇━━━━━━━╇━━━━━━━╇━━━━━━━╇━━━━━━━━━╇━━━━━━━━━╇━━━━━━━━━╇━━━━━━━━━━╇━━━━━━━━━━━━╇━━━━━━━━━━━╇━━━━━━━━━╇━━━━━━━━━━╇━━━━━━━━━╇━━━━━━━━━━━━━━━━━━━━━┩\n",
       "│ <span style=\"color: #7f7f7f; text-decoration-color: #7f7f7f\">string</span> │ <span style=\"color: #7f7f7f; text-decoration-color: #7f7f7f\">int32</span> │ <span style=\"color: #7f7f7f; text-decoration-color: #7f7f7f\">int32</span> │ <span style=\"color: #7f7f7f; text-decoration-color: #7f7f7f\">int32</span> │ <span style=\"color: #7f7f7f; text-decoration-color: #7f7f7f\">int32</span> │ <span style=\"color: #7f7f7f; text-decoration-color: #7f7f7f\">float64</span> │ <span style=\"color: #7f7f7f; text-decoration-color: #7f7f7f\">float64</span> │ <span style=\"color: #7f7f7f; text-decoration-color: #7f7f7f\">float64</span> │ <span style=\"color: #7f7f7f; text-decoration-color: #7f7f7f\">float64</span>  │ <span style=\"color: #7f7f7f; text-decoration-color: #7f7f7f\">float64</span>    │ <span style=\"color: #7f7f7f; text-decoration-color: #7f7f7f\">float64</span>   │ <span style=\"color: #7f7f7f; text-decoration-color: #7f7f7f\">float64</span> │ <span style=\"color: #7f7f7f; text-decoration-color: #7f7f7f\">float64</span>  │ <span style=\"color: #7f7f7f; text-decoration-color: #7f7f7f\">float64</span> │ <span style=\"color: #7f7f7f; text-decoration-color: #7f7f7f\">timestamp</span>           │\n",
       "├────────┼───────┼───────┼───────┼───────┼─────────┼─────────┼─────────┼──────────┼────────────┼───────────┼─────────┼──────────┼─────────┼─────────────────────┤\n",
       "│ <span style=\"color: #008000; text-decoration-color: #008000\">EWR   </span> │  <span style=\"color: #008080; text-decoration-color: #008080; font-weight: bold\">2013</span> │     <span style=\"color: #008080; text-decoration-color: #008080; font-weight: bold\">1</span> │     <span style=\"color: #008080; text-decoration-color: #008080; font-weight: bold\">1</span> │     <span style=\"color: #008080; text-decoration-color: #008080; font-weight: bold\">1</span> │   <span style=\"color: #008080; text-decoration-color: #008080; font-weight: bold\">39.02</span> │   <span style=\"color: #008080; text-decoration-color: #008080; font-weight: bold\">26.06</span> │   <span style=\"color: #008080; text-decoration-color: #008080; font-weight: bold\">59.37</span> │    <span style=\"color: #008080; text-decoration-color: #008080; font-weight: bold\">270.0</span> │   <span style=\"color: #008080; text-decoration-color: #008080; font-weight: bold\">10.35702</span> │       <span style=\"color: #008080; text-decoration-color: #008080; font-weight: bold\">nan</span> │     <span style=\"color: #008080; text-decoration-color: #008080; font-weight: bold\">0.0</span> │   <span style=\"color: #008080; text-decoration-color: #008080; font-weight: bold\">1012.0</span> │    <span style=\"color: #008080; text-decoration-color: #008080; font-weight: bold\">10.0</span> │ <span style=\"color: #800080; text-decoration-color: #800080\">2013-01-01 06:00:00</span> │\n",
       "│ <span style=\"color: #008000; text-decoration-color: #008000\">EWR   </span> │  <span style=\"color: #008080; text-decoration-color: #008080; font-weight: bold\">2013</span> │     <span style=\"color: #008080; text-decoration-color: #008080; font-weight: bold\">1</span> │     <span style=\"color: #008080; text-decoration-color: #008080; font-weight: bold\">1</span> │     <span style=\"color: #008080; text-decoration-color: #008080; font-weight: bold\">2</span> │   <span style=\"color: #008080; text-decoration-color: #008080; font-weight: bold\">39.02</span> │   <span style=\"color: #008080; text-decoration-color: #008080; font-weight: bold\">26.96</span> │   <span style=\"color: #008080; text-decoration-color: #008080; font-weight: bold\">61.63</span> │    <span style=\"color: #008080; text-decoration-color: #008080; font-weight: bold\">250.0</span> │    <span style=\"color: #008080; text-decoration-color: #008080; font-weight: bold\">8.05546</span> │       <span style=\"color: #008080; text-decoration-color: #008080; font-weight: bold\">nan</span> │     <span style=\"color: #008080; text-decoration-color: #008080; font-weight: bold\">0.0</span> │   <span style=\"color: #008080; text-decoration-color: #008080; font-weight: bold\">1012.3</span> │    <span style=\"color: #008080; text-decoration-color: #008080; font-weight: bold\">10.0</span> │ <span style=\"color: #800080; text-decoration-color: #800080\">2013-01-01 07:00:00</span> │\n",
       "│ <span style=\"color: #008000; text-decoration-color: #008000\">EWR   </span> │  <span style=\"color: #008080; text-decoration-color: #008080; font-weight: bold\">2013</span> │     <span style=\"color: #008080; text-decoration-color: #008080; font-weight: bold\">1</span> │     <span style=\"color: #008080; text-decoration-color: #008080; font-weight: bold\">1</span> │     <span style=\"color: #008080; text-decoration-color: #008080; font-weight: bold\">3</span> │   <span style=\"color: #008080; text-decoration-color: #008080; font-weight: bold\">39.02</span> │   <span style=\"color: #008080; text-decoration-color: #008080; font-weight: bold\">28.04</span> │   <span style=\"color: #008080; text-decoration-color: #008080; font-weight: bold\">64.43</span> │    <span style=\"color: #008080; text-decoration-color: #008080; font-weight: bold\">240.0</span> │   <span style=\"color: #008080; text-decoration-color: #008080; font-weight: bold\">11.50780</span> │       <span style=\"color: #008080; text-decoration-color: #008080; font-weight: bold\">nan</span> │     <span style=\"color: #008080; text-decoration-color: #008080; font-weight: bold\">0.0</span> │   <span style=\"color: #008080; text-decoration-color: #008080; font-weight: bold\">1012.5</span> │    <span style=\"color: #008080; text-decoration-color: #008080; font-weight: bold\">10.0</span> │ <span style=\"color: #800080; text-decoration-color: #800080\">2013-01-01 08:00:00</span> │\n",
       "│ <span style=\"color: #008000; text-decoration-color: #008000\">EWR   </span> │  <span style=\"color: #008080; text-decoration-color: #008080; font-weight: bold\">2013</span> │     <span style=\"color: #008080; text-decoration-color: #008080; font-weight: bold\">1</span> │     <span style=\"color: #008080; text-decoration-color: #008080; font-weight: bold\">1</span> │     <span style=\"color: #008080; text-decoration-color: #008080; font-weight: bold\">4</span> │   <span style=\"color: #008080; text-decoration-color: #008080; font-weight: bold\">39.92</span> │   <span style=\"color: #008080; text-decoration-color: #008080; font-weight: bold\">28.04</span> │   <span style=\"color: #008080; text-decoration-color: #008080; font-weight: bold\">62.21</span> │    <span style=\"color: #008080; text-decoration-color: #008080; font-weight: bold\">250.0</span> │   <span style=\"color: #008080; text-decoration-color: #008080; font-weight: bold\">12.65858</span> │       <span style=\"color: #008080; text-decoration-color: #008080; font-weight: bold\">nan</span> │     <span style=\"color: #008080; text-decoration-color: #008080; font-weight: bold\">0.0</span> │   <span style=\"color: #008080; text-decoration-color: #008080; font-weight: bold\">1012.2</span> │    <span style=\"color: #008080; text-decoration-color: #008080; font-weight: bold\">10.0</span> │ <span style=\"color: #800080; text-decoration-color: #800080\">2013-01-01 09:00:00</span> │\n",
       "│ <span style=\"color: #008000; text-decoration-color: #008000\">EWR   </span> │  <span style=\"color: #008080; text-decoration-color: #008080; font-weight: bold\">2013</span> │     <span style=\"color: #008080; text-decoration-color: #008080; font-weight: bold\">1</span> │     <span style=\"color: #008080; text-decoration-color: #008080; font-weight: bold\">1</span> │     <span style=\"color: #008080; text-decoration-color: #008080; font-weight: bold\">5</span> │   <span style=\"color: #008080; text-decoration-color: #008080; font-weight: bold\">39.02</span> │   <span style=\"color: #008080; text-decoration-color: #008080; font-weight: bold\">28.04</span> │   <span style=\"color: #008080; text-decoration-color: #008080; font-weight: bold\">64.43</span> │    <span style=\"color: #008080; text-decoration-color: #008080; font-weight: bold\">260.0</span> │   <span style=\"color: #008080; text-decoration-color: #008080; font-weight: bold\">12.65858</span> │       <span style=\"color: #008080; text-decoration-color: #008080; font-weight: bold\">nan</span> │     <span style=\"color: #008080; text-decoration-color: #008080; font-weight: bold\">0.0</span> │   <span style=\"color: #008080; text-decoration-color: #008080; font-weight: bold\">1011.9</span> │    <span style=\"color: #008080; text-decoration-color: #008080; font-weight: bold\">10.0</span> │ <span style=\"color: #800080; text-decoration-color: #800080\">2013-01-01 10:00:00</span> │\n",
       "│ <span style=\"color: #008000; text-decoration-color: #008000\">EWR   </span> │  <span style=\"color: #008080; text-decoration-color: #008080; font-weight: bold\">2013</span> │     <span style=\"color: #008080; text-decoration-color: #008080; font-weight: bold\">1</span> │     <span style=\"color: #008080; text-decoration-color: #008080; font-weight: bold\">1</span> │     <span style=\"color: #008080; text-decoration-color: #008080; font-weight: bold\">6</span> │   <span style=\"color: #008080; text-decoration-color: #008080; font-weight: bold\">37.94</span> │   <span style=\"color: #008080; text-decoration-color: #008080; font-weight: bold\">28.04</span> │   <span style=\"color: #008080; text-decoration-color: #008080; font-weight: bold\">67.21</span> │    <span style=\"color: #008080; text-decoration-color: #008080; font-weight: bold\">240.0</span> │   <span style=\"color: #008080; text-decoration-color: #008080; font-weight: bold\">11.50780</span> │       <span style=\"color: #008080; text-decoration-color: #008080; font-weight: bold\">nan</span> │     <span style=\"color: #008080; text-decoration-color: #008080; font-weight: bold\">0.0</span> │   <span style=\"color: #008080; text-decoration-color: #008080; font-weight: bold\">1012.4</span> │    <span style=\"color: #008080; text-decoration-color: #008080; font-weight: bold\">10.0</span> │ <span style=\"color: #800080; text-decoration-color: #800080\">2013-01-01 11:00:00</span> │\n",
       "│ <span style=\"color: #008000; text-decoration-color: #008000\">EWR   </span> │  <span style=\"color: #008080; text-decoration-color: #008080; font-weight: bold\">2013</span> │     <span style=\"color: #008080; text-decoration-color: #008080; font-weight: bold\">1</span> │     <span style=\"color: #008080; text-decoration-color: #008080; font-weight: bold\">1</span> │     <span style=\"color: #008080; text-decoration-color: #008080; font-weight: bold\">7</span> │   <span style=\"color: #008080; text-decoration-color: #008080; font-weight: bold\">39.02</span> │   <span style=\"color: #008080; text-decoration-color: #008080; font-weight: bold\">28.04</span> │   <span style=\"color: #008080; text-decoration-color: #008080; font-weight: bold\">64.43</span> │    <span style=\"color: #008080; text-decoration-color: #008080; font-weight: bold\">240.0</span> │   <span style=\"color: #008080; text-decoration-color: #008080; font-weight: bold\">14.96014</span> │       <span style=\"color: #008080; text-decoration-color: #008080; font-weight: bold\">nan</span> │     <span style=\"color: #008080; text-decoration-color: #008080; font-weight: bold\">0.0</span> │   <span style=\"color: #008080; text-decoration-color: #008080; font-weight: bold\">1012.2</span> │    <span style=\"color: #008080; text-decoration-color: #008080; font-weight: bold\">10.0</span> │ <span style=\"color: #800080; text-decoration-color: #800080\">2013-01-01 12:00:00</span> │\n",
       "│ <span style=\"color: #008000; text-decoration-color: #008000\">EWR   </span> │  <span style=\"color: #008080; text-decoration-color: #008080; font-weight: bold\">2013</span> │     <span style=\"color: #008080; text-decoration-color: #008080; font-weight: bold\">1</span> │     <span style=\"color: #008080; text-decoration-color: #008080; font-weight: bold\">1</span> │     <span style=\"color: #008080; text-decoration-color: #008080; font-weight: bold\">8</span> │   <span style=\"color: #008080; text-decoration-color: #008080; font-weight: bold\">39.92</span> │   <span style=\"color: #008080; text-decoration-color: #008080; font-weight: bold\">28.04</span> │   <span style=\"color: #008080; text-decoration-color: #008080; font-weight: bold\">62.21</span> │    <span style=\"color: #008080; text-decoration-color: #008080; font-weight: bold\">250.0</span> │   <span style=\"color: #008080; text-decoration-color: #008080; font-weight: bold\">10.35702</span> │       <span style=\"color: #008080; text-decoration-color: #008080; font-weight: bold\">nan</span> │     <span style=\"color: #008080; text-decoration-color: #008080; font-weight: bold\">0.0</span> │   <span style=\"color: #008080; text-decoration-color: #008080; font-weight: bold\">1012.2</span> │    <span style=\"color: #008080; text-decoration-color: #008080; font-weight: bold\">10.0</span> │ <span style=\"color: #800080; text-decoration-color: #800080\">2013-01-01 13:00:00</span> │\n",
       "│ <span style=\"color: #008000; text-decoration-color: #008000\">EWR   </span> │  <span style=\"color: #008080; text-decoration-color: #008080; font-weight: bold\">2013</span> │     <span style=\"color: #008080; text-decoration-color: #008080; font-weight: bold\">1</span> │     <span style=\"color: #008080; text-decoration-color: #008080; font-weight: bold\">1</span> │     <span style=\"color: #008080; text-decoration-color: #008080; font-weight: bold\">9</span> │   <span style=\"color: #008080; text-decoration-color: #008080; font-weight: bold\">39.92</span> │   <span style=\"color: #008080; text-decoration-color: #008080; font-weight: bold\">28.04</span> │   <span style=\"color: #008080; text-decoration-color: #008080; font-weight: bold\">62.21</span> │    <span style=\"color: #008080; text-decoration-color: #008080; font-weight: bold\">260.0</span> │   <span style=\"color: #008080; text-decoration-color: #008080; font-weight: bold\">14.96014</span> │       <span style=\"color: #008080; text-decoration-color: #008080; font-weight: bold\">nan</span> │     <span style=\"color: #008080; text-decoration-color: #008080; font-weight: bold\">0.0</span> │   <span style=\"color: #008080; text-decoration-color: #008080; font-weight: bold\">1012.7</span> │    <span style=\"color: #008080; text-decoration-color: #008080; font-weight: bold\">10.0</span> │ <span style=\"color: #800080; text-decoration-color: #800080\">2013-01-01 14:00:00</span> │\n",
       "│ <span style=\"color: #008000; text-decoration-color: #008000\">EWR   </span> │  <span style=\"color: #008080; text-decoration-color: #008080; font-weight: bold\">2013</span> │     <span style=\"color: #008080; text-decoration-color: #008080; font-weight: bold\">1</span> │     <span style=\"color: #008080; text-decoration-color: #008080; font-weight: bold\">1</span> │    <span style=\"color: #008080; text-decoration-color: #008080; font-weight: bold\">10</span> │   <span style=\"color: #008080; text-decoration-color: #008080; font-weight: bold\">41.00</span> │   <span style=\"color: #008080; text-decoration-color: #008080; font-weight: bold\">28.04</span> │   <span style=\"color: #008080; text-decoration-color: #008080; font-weight: bold\">59.65</span> │    <span style=\"color: #008080; text-decoration-color: #008080; font-weight: bold\">260.0</span> │   <span style=\"color: #008080; text-decoration-color: #008080; font-weight: bold\">13.80936</span> │       <span style=\"color: #008080; text-decoration-color: #008080; font-weight: bold\">nan</span> │     <span style=\"color: #008080; text-decoration-color: #008080; font-weight: bold\">0.0</span> │   <span style=\"color: #008080; text-decoration-color: #008080; font-weight: bold\">1012.4</span> │    <span style=\"color: #008080; text-decoration-color: #008080; font-weight: bold\">10.0</span> │ <span style=\"color: #800080; text-decoration-color: #800080\">2013-01-01 15:00:00</span> │\n",
       "│ <span style=\"color: #7f7f7f; text-decoration-color: #7f7f7f\">…</span>      │     <span style=\"color: #7f7f7f; text-decoration-color: #7f7f7f\">…</span> │     <span style=\"color: #7f7f7f; text-decoration-color: #7f7f7f\">…</span> │     <span style=\"color: #7f7f7f; text-decoration-color: #7f7f7f\">…</span> │     <span style=\"color: #7f7f7f; text-decoration-color: #7f7f7f\">…</span> │       <span style=\"color: #7f7f7f; text-decoration-color: #7f7f7f\">…</span> │       <span style=\"color: #7f7f7f; text-decoration-color: #7f7f7f\">…</span> │       <span style=\"color: #7f7f7f; text-decoration-color: #7f7f7f\">…</span> │        <span style=\"color: #7f7f7f; text-decoration-color: #7f7f7f\">…</span> │          <span style=\"color: #7f7f7f; text-decoration-color: #7f7f7f\">…</span> │         <span style=\"color: #7f7f7f; text-decoration-color: #7f7f7f\">…</span> │       <span style=\"color: #7f7f7f; text-decoration-color: #7f7f7f\">…</span> │        <span style=\"color: #7f7f7f; text-decoration-color: #7f7f7f\">…</span> │       <span style=\"color: #7f7f7f; text-decoration-color: #7f7f7f\">…</span> │ <span style=\"color: #7f7f7f; text-decoration-color: #7f7f7f\">…</span>                   │\n",
       "└────────┴───────┴───────┴───────┴───────┴─────────┴─────────┴─────────┴──────────┴────────────┴───────────┴─────────┴──────────┴─────────┴─────────────────────┘\n",
       "</pre>\n"
      ],
      "text/plain": [
       "┏━━━━━━━━┳━━━━━━━┳━━━━━━━┳━━━━━━━┳━━━━━━━┳━━━━━━━━━┳━━━━━━━━━┳━━━━━━━━━┳━━━━━━━━━━┳━━━━━━━━━━━━┳━━━━━━━━━━━┳━━━━━━━━━┳━━━━━━━━━━┳━━━━━━━━━┳━━━━━━━━━━━━━━━━━━━━━┓\n",
       "┃\u001b[1m \u001b[0m\u001b[1morigin\u001b[0m\u001b[1m \u001b[0m┃\u001b[1m \u001b[0m\u001b[1myear\u001b[0m\u001b[1m \u001b[0m\u001b[1m \u001b[0m┃\u001b[1m \u001b[0m\u001b[1mmonth\u001b[0m\u001b[1m \u001b[0m┃\u001b[1m \u001b[0m\u001b[1mday\u001b[0m\u001b[1m  \u001b[0m\u001b[1m \u001b[0m┃\u001b[1m \u001b[0m\u001b[1mhour\u001b[0m\u001b[1m \u001b[0m\u001b[1m \u001b[0m┃\u001b[1m \u001b[0m\u001b[1mtemp\u001b[0m\u001b[1m   \u001b[0m\u001b[1m \u001b[0m┃\u001b[1m \u001b[0m\u001b[1mdewp\u001b[0m\u001b[1m   \u001b[0m\u001b[1m \u001b[0m┃\u001b[1m \u001b[0m\u001b[1mhumid\u001b[0m\u001b[1m  \u001b[0m\u001b[1m \u001b[0m┃\u001b[1m \u001b[0m\u001b[1mwind_dir\u001b[0m\u001b[1m \u001b[0m┃\u001b[1m \u001b[0m\u001b[1mwind_speed\u001b[0m\u001b[1m \u001b[0m┃\u001b[1m \u001b[0m\u001b[1mwind_gust\u001b[0m\u001b[1m \u001b[0m┃\u001b[1m \u001b[0m\u001b[1mprecip\u001b[0m\u001b[1m \u001b[0m\u001b[1m \u001b[0m┃\u001b[1m \u001b[0m\u001b[1mpressure\u001b[0m\u001b[1m \u001b[0m┃\u001b[1m \u001b[0m\u001b[1mvisib\u001b[0m\u001b[1m  \u001b[0m\u001b[1m \u001b[0m┃\u001b[1m \u001b[0m\u001b[1mtime_hour\u001b[0m\u001b[1m          \u001b[0m\u001b[1m \u001b[0m┃\n",
       "┡━━━━━━━━╇━━━━━━━╇━━━━━━━╇━━━━━━━╇━━━━━━━╇━━━━━━━━━╇━━━━━━━━━╇━━━━━━━━━╇━━━━━━━━━━╇━━━━━━━━━━━━╇━━━━━━━━━━━╇━━━━━━━━━╇━━━━━━━━━━╇━━━━━━━━━╇━━━━━━━━━━━━━━━━━━━━━┩\n",
       "│ \u001b[2mstring\u001b[0m │ \u001b[2mint32\u001b[0m │ \u001b[2mint32\u001b[0m │ \u001b[2mint32\u001b[0m │ \u001b[2mint32\u001b[0m │ \u001b[2mfloat64\u001b[0m │ \u001b[2mfloat64\u001b[0m │ \u001b[2mfloat64\u001b[0m │ \u001b[2mfloat64\u001b[0m  │ \u001b[2mfloat64\u001b[0m    │ \u001b[2mfloat64\u001b[0m   │ \u001b[2mfloat64\u001b[0m │ \u001b[2mfloat64\u001b[0m  │ \u001b[2mfloat64\u001b[0m │ \u001b[2mtimestamp\u001b[0m           │\n",
       "├────────┼───────┼───────┼───────┼───────┼─────────┼─────────┼─────────┼──────────┼────────────┼───────────┼─────────┼──────────┼─────────┼─────────────────────┤\n",
       "│ \u001b[32mEWR   \u001b[0m │  \u001b[1;36m2013\u001b[0m │     \u001b[1;36m1\u001b[0m │     \u001b[1;36m1\u001b[0m │     \u001b[1;36m1\u001b[0m │   \u001b[1;36m39.02\u001b[0m │   \u001b[1;36m26.06\u001b[0m │   \u001b[1;36m59.37\u001b[0m │    \u001b[1;36m270.0\u001b[0m │   \u001b[1;36m10.35702\u001b[0m │       \u001b[1;36mnan\u001b[0m │     \u001b[1;36m0.0\u001b[0m │   \u001b[1;36m1012.0\u001b[0m │    \u001b[1;36m10.0\u001b[0m │ \u001b[35m2013-01-01 06:00:00\u001b[0m │\n",
       "│ \u001b[32mEWR   \u001b[0m │  \u001b[1;36m2013\u001b[0m │     \u001b[1;36m1\u001b[0m │     \u001b[1;36m1\u001b[0m │     \u001b[1;36m2\u001b[0m │   \u001b[1;36m39.02\u001b[0m │   \u001b[1;36m26.96\u001b[0m │   \u001b[1;36m61.63\u001b[0m │    \u001b[1;36m250.0\u001b[0m │    \u001b[1;36m8.05546\u001b[0m │       \u001b[1;36mnan\u001b[0m │     \u001b[1;36m0.0\u001b[0m │   \u001b[1;36m1012.3\u001b[0m │    \u001b[1;36m10.0\u001b[0m │ \u001b[35m2013-01-01 07:00:00\u001b[0m │\n",
       "│ \u001b[32mEWR   \u001b[0m │  \u001b[1;36m2013\u001b[0m │     \u001b[1;36m1\u001b[0m │     \u001b[1;36m1\u001b[0m │     \u001b[1;36m3\u001b[0m │   \u001b[1;36m39.02\u001b[0m │   \u001b[1;36m28.04\u001b[0m │   \u001b[1;36m64.43\u001b[0m │    \u001b[1;36m240.0\u001b[0m │   \u001b[1;36m11.50780\u001b[0m │       \u001b[1;36mnan\u001b[0m │     \u001b[1;36m0.0\u001b[0m │   \u001b[1;36m1012.5\u001b[0m │    \u001b[1;36m10.0\u001b[0m │ \u001b[35m2013-01-01 08:00:00\u001b[0m │\n",
       "│ \u001b[32mEWR   \u001b[0m │  \u001b[1;36m2013\u001b[0m │     \u001b[1;36m1\u001b[0m │     \u001b[1;36m1\u001b[0m │     \u001b[1;36m4\u001b[0m │   \u001b[1;36m39.92\u001b[0m │   \u001b[1;36m28.04\u001b[0m │   \u001b[1;36m62.21\u001b[0m │    \u001b[1;36m250.0\u001b[0m │   \u001b[1;36m12.65858\u001b[0m │       \u001b[1;36mnan\u001b[0m │     \u001b[1;36m0.0\u001b[0m │   \u001b[1;36m1012.2\u001b[0m │    \u001b[1;36m10.0\u001b[0m │ \u001b[35m2013-01-01 09:00:00\u001b[0m │\n",
       "│ \u001b[32mEWR   \u001b[0m │  \u001b[1;36m2013\u001b[0m │     \u001b[1;36m1\u001b[0m │     \u001b[1;36m1\u001b[0m │     \u001b[1;36m5\u001b[0m │   \u001b[1;36m39.02\u001b[0m │   \u001b[1;36m28.04\u001b[0m │   \u001b[1;36m64.43\u001b[0m │    \u001b[1;36m260.0\u001b[0m │   \u001b[1;36m12.65858\u001b[0m │       \u001b[1;36mnan\u001b[0m │     \u001b[1;36m0.0\u001b[0m │   \u001b[1;36m1011.9\u001b[0m │    \u001b[1;36m10.0\u001b[0m │ \u001b[35m2013-01-01 10:00:00\u001b[0m │\n",
       "│ \u001b[32mEWR   \u001b[0m │  \u001b[1;36m2013\u001b[0m │     \u001b[1;36m1\u001b[0m │     \u001b[1;36m1\u001b[0m │     \u001b[1;36m6\u001b[0m │   \u001b[1;36m37.94\u001b[0m │   \u001b[1;36m28.04\u001b[0m │   \u001b[1;36m67.21\u001b[0m │    \u001b[1;36m240.0\u001b[0m │   \u001b[1;36m11.50780\u001b[0m │       \u001b[1;36mnan\u001b[0m │     \u001b[1;36m0.0\u001b[0m │   \u001b[1;36m1012.4\u001b[0m │    \u001b[1;36m10.0\u001b[0m │ \u001b[35m2013-01-01 11:00:00\u001b[0m │\n",
       "│ \u001b[32mEWR   \u001b[0m │  \u001b[1;36m2013\u001b[0m │     \u001b[1;36m1\u001b[0m │     \u001b[1;36m1\u001b[0m │     \u001b[1;36m7\u001b[0m │   \u001b[1;36m39.02\u001b[0m │   \u001b[1;36m28.04\u001b[0m │   \u001b[1;36m64.43\u001b[0m │    \u001b[1;36m240.0\u001b[0m │   \u001b[1;36m14.96014\u001b[0m │       \u001b[1;36mnan\u001b[0m │     \u001b[1;36m0.0\u001b[0m │   \u001b[1;36m1012.2\u001b[0m │    \u001b[1;36m10.0\u001b[0m │ \u001b[35m2013-01-01 12:00:00\u001b[0m │\n",
       "│ \u001b[32mEWR   \u001b[0m │  \u001b[1;36m2013\u001b[0m │     \u001b[1;36m1\u001b[0m │     \u001b[1;36m1\u001b[0m │     \u001b[1;36m8\u001b[0m │   \u001b[1;36m39.92\u001b[0m │   \u001b[1;36m28.04\u001b[0m │   \u001b[1;36m62.21\u001b[0m │    \u001b[1;36m250.0\u001b[0m │   \u001b[1;36m10.35702\u001b[0m │       \u001b[1;36mnan\u001b[0m │     \u001b[1;36m0.0\u001b[0m │   \u001b[1;36m1012.2\u001b[0m │    \u001b[1;36m10.0\u001b[0m │ \u001b[35m2013-01-01 13:00:00\u001b[0m │\n",
       "│ \u001b[32mEWR   \u001b[0m │  \u001b[1;36m2013\u001b[0m │     \u001b[1;36m1\u001b[0m │     \u001b[1;36m1\u001b[0m │     \u001b[1;36m9\u001b[0m │   \u001b[1;36m39.92\u001b[0m │   \u001b[1;36m28.04\u001b[0m │   \u001b[1;36m62.21\u001b[0m │    \u001b[1;36m260.0\u001b[0m │   \u001b[1;36m14.96014\u001b[0m │       \u001b[1;36mnan\u001b[0m │     \u001b[1;36m0.0\u001b[0m │   \u001b[1;36m1012.7\u001b[0m │    \u001b[1;36m10.0\u001b[0m │ \u001b[35m2013-01-01 14:00:00\u001b[0m │\n",
       "│ \u001b[32mEWR   \u001b[0m │  \u001b[1;36m2013\u001b[0m │     \u001b[1;36m1\u001b[0m │     \u001b[1;36m1\u001b[0m │    \u001b[1;36m10\u001b[0m │   \u001b[1;36m41.00\u001b[0m │   \u001b[1;36m28.04\u001b[0m │   \u001b[1;36m59.65\u001b[0m │    \u001b[1;36m260.0\u001b[0m │   \u001b[1;36m13.80936\u001b[0m │       \u001b[1;36mnan\u001b[0m │     \u001b[1;36m0.0\u001b[0m │   \u001b[1;36m1012.4\u001b[0m │    \u001b[1;36m10.0\u001b[0m │ \u001b[35m2013-01-01 15:00:00\u001b[0m │\n",
       "│ \u001b[2m…\u001b[0m      │     \u001b[2m…\u001b[0m │     \u001b[2m…\u001b[0m │     \u001b[2m…\u001b[0m │     \u001b[2m…\u001b[0m │       \u001b[2m…\u001b[0m │       \u001b[2m…\u001b[0m │       \u001b[2m…\u001b[0m │        \u001b[2m…\u001b[0m │          \u001b[2m…\u001b[0m │         \u001b[2m…\u001b[0m │       \u001b[2m…\u001b[0m │        \u001b[2m…\u001b[0m │       \u001b[2m…\u001b[0m │ \u001b[2m…\u001b[0m                   │\n",
       "└────────┴───────┴───────┴───────┴───────┴─────────┴─────────┴─────────┴──────────┴────────────┴───────────┴─────────┴──────────┴─────────┴─────────────────────┘"
      ]
     },
     "execution_count": 5,
     "metadata": {},
     "output_type": "execute_result"
    }
   ],
   "source": [
    "weather"
   ]
  },
  {
   "cell_type": "markdown",
   "id": "437ed3b8",
   "metadata": {},
   "source": [
    "---"
   ]
  },
  {
   "cell_type": "markdown",
   "id": "9c60858d",
   "metadata": {},
   "source": [
    "## Merge & Clean training data"
   ]
  },
  {
   "cell_type": "code",
   "execution_count": 6,
   "id": "04f56c2b",
   "metadata": {},
   "outputs": [
    {
     "data": {
      "text/html": [
       "<pre style=\"white-space:pre;overflow-x:auto;line-height:normal;font-family:Menlo,'DejaVu Sans Mono',consolas,'Courier New',monospace\">┏━━━━━━━━━━┳━━━━━━━━┳━━━━━━━━┳━━━━━━━━┳━━━━━━━━━━┳━━━━━━━━━━┳━━━━━━━━━┳━━━━━━━━━━━━┳━━━━━━━━━┳━━━━━━━━━┳━━━━━━━━━┳━━━━━━━━━━┳━━━━━━━━━━━━┳━━━━━━━━━┳━━━━━━━━━━┳━━━━━━━━━┳━━━━━━━━━┓\n",
       "┃<span style=\"font-weight: bold\"> dep_time </span>┃<span style=\"font-weight: bold\"> flight </span>┃<span style=\"font-weight: bold\"> origin </span>┃<span style=\"font-weight: bold\"> dest   </span>┃<span style=\"font-weight: bold\"> air_time </span>┃<span style=\"font-weight: bold\"> distance </span>┃<span style=\"font-weight: bold\"> carrier </span>┃<span style=\"font-weight: bold\"> date       </span>┃<span style=\"font-weight: bold\"> temp    </span>┃<span style=\"font-weight: bold\"> dewp    </span>┃<span style=\"font-weight: bold\"> humid   </span>┃<span style=\"font-weight: bold\"> wind_dir </span>┃<span style=\"font-weight: bold\"> wind_speed </span>┃<span style=\"font-weight: bold\"> precip  </span>┃<span style=\"font-weight: bold\"> pressure </span>┃<span style=\"font-weight: bold\"> visib   </span>┃<span style=\"font-weight: bold\"> delayed </span>┃\n",
       "┡━━━━━━━━━━╇━━━━━━━━╇━━━━━━━━╇━━━━━━━━╇━━━━━━━━━━╇━━━━━━━━━━╇━━━━━━━━━╇━━━━━━━━━━━━╇━━━━━━━━━╇━━━━━━━━━╇━━━━━━━━━╇━━━━━━━━━━╇━━━━━━━━━━━━╇━━━━━━━━━╇━━━━━━━━━━╇━━━━━━━━━╇━━━━━━━━━┩\n",
       "│ <span style=\"color: #7f7f7f; text-decoration-color: #7f7f7f\">int64</span>    │ <span style=\"color: #7f7f7f; text-decoration-color: #7f7f7f\">int32</span>  │ <span style=\"color: #7f7f7f; text-decoration-color: #7f7f7f\">string</span> │ <span style=\"color: #7f7f7f; text-decoration-color: #7f7f7f\">string</span> │ <span style=\"color: #7f7f7f; text-decoration-color: #7f7f7f\">float64</span>  │ <span style=\"color: #7f7f7f; text-decoration-color: #7f7f7f\">float64</span>  │ <span style=\"color: #7f7f7f; text-decoration-color: #7f7f7f\">string</span>  │ <span style=\"color: #7f7f7f; text-decoration-color: #7f7f7f\">date</span>       │ <span style=\"color: #7f7f7f; text-decoration-color: #7f7f7f\">float64</span> │ <span style=\"color: #7f7f7f; text-decoration-color: #7f7f7f\">float64</span> │ <span style=\"color: #7f7f7f; text-decoration-color: #7f7f7f\">float64</span> │ <span style=\"color: #7f7f7f; text-decoration-color: #7f7f7f\">float64</span>  │ <span style=\"color: #7f7f7f; text-decoration-color: #7f7f7f\">float64</span>    │ <span style=\"color: #7f7f7f; text-decoration-color: #7f7f7f\">float64</span> │ <span style=\"color: #7f7f7f; text-decoration-color: #7f7f7f\">float64</span>  │ <span style=\"color: #7f7f7f; text-decoration-color: #7f7f7f\">float64</span> │ <span style=\"color: #7f7f7f; text-decoration-color: #7f7f7f\">boolean</span> │\n",
       "├──────────┼────────┼────────┼────────┼──────────┼──────────┼─────────┼────────────┼─────────┼─────────┼─────────┼──────────┼────────────┼─────────┼──────────┼─────────┼─────────┤\n",
       "│      <span style=\"color: #008080; text-decoration-color: #008080; font-weight: bold\">517</span> │   <span style=\"color: #008080; text-decoration-color: #008080; font-weight: bold\">1545</span> │ <span style=\"color: #008000; text-decoration-color: #008000\">EWR   </span> │ <span style=\"color: #008000; text-decoration-color: #008000\">IAH   </span> │    <span style=\"color: #008080; text-decoration-color: #008080; font-weight: bold\">227.0</span> │   <span style=\"color: #008080; text-decoration-color: #008080; font-weight: bold\">1400.0</span> │ <span style=\"color: #008000; text-decoration-color: #008000\">UA     </span> │ <span style=\"color: #800080; text-decoration-color: #800080\">2013-01-01</span> │   <span style=\"color: #008080; text-decoration-color: #008080; font-weight: bold\">39.02</span> │   <span style=\"color: #008080; text-decoration-color: #008080; font-weight: bold\">28.04</span> │   <span style=\"color: #008080; text-decoration-color: #008080; font-weight: bold\">64.43</span> │    <span style=\"color: #008080; text-decoration-color: #008080; font-weight: bold\">260.0</span> │   <span style=\"color: #008080; text-decoration-color: #008080; font-weight: bold\">12.65858</span> │     <span style=\"color: #008080; text-decoration-color: #008080; font-weight: bold\">0.0</span> │   <span style=\"color: #008080; text-decoration-color: #008080; font-weight: bold\">1011.9</span> │    <span style=\"color: #008080; text-decoration-color: #008080; font-weight: bold\">10.0</span> │ False   │\n",
       "│      <span style=\"color: #008080; text-decoration-color: #008080; font-weight: bold\">554</span> │    <span style=\"color: #008080; text-decoration-color: #008080; font-weight: bold\">461</span> │ <span style=\"color: #008000; text-decoration-color: #008000\">LGA   </span> │ <span style=\"color: #008000; text-decoration-color: #008000\">ATL   </span> │    <span style=\"color: #008080; text-decoration-color: #008080; font-weight: bold\">116.0</span> │    <span style=\"color: #008080; text-decoration-color: #008080; font-weight: bold\">762.0</span> │ <span style=\"color: #008000; text-decoration-color: #008000\">DL     </span> │ <span style=\"color: #800080; text-decoration-color: #800080\">2013-01-01</span> │   <span style=\"color: #008080; text-decoration-color: #008080; font-weight: bold\">39.92</span> │   <span style=\"color: #008080; text-decoration-color: #008080; font-weight: bold\">24.98</span> │   <span style=\"color: #008080; text-decoration-color: #008080; font-weight: bold\">54.81</span> │    <span style=\"color: #008080; text-decoration-color: #008080; font-weight: bold\">260.0</span> │   <span style=\"color: #008080; text-decoration-color: #008080; font-weight: bold\">16.11092</span> │     <span style=\"color: #008080; text-decoration-color: #008080; font-weight: bold\">0.0</span> │   <span style=\"color: #008080; text-decoration-color: #008080; font-weight: bold\">1011.7</span> │    <span style=\"color: #008080; text-decoration-color: #008080; font-weight: bold\">10.0</span> │ False   │\n",
       "│      <span style=\"color: #008080; text-decoration-color: #008080; font-weight: bold\">554</span> │   <span style=\"color: #008080; text-decoration-color: #008080; font-weight: bold\">1696</span> │ <span style=\"color: #008000; text-decoration-color: #008000\">EWR   </span> │ <span style=\"color: #008000; text-decoration-color: #008000\">ORD   </span> │    <span style=\"color: #008080; text-decoration-color: #008080; font-weight: bold\">150.0</span> │    <span style=\"color: #008080; text-decoration-color: #008080; font-weight: bold\">719.0</span> │ <span style=\"color: #008000; text-decoration-color: #008000\">UA     </span> │ <span style=\"color: #800080; text-decoration-color: #800080\">2013-01-01</span> │   <span style=\"color: #008080; text-decoration-color: #008080; font-weight: bold\">39.02</span> │   <span style=\"color: #008080; text-decoration-color: #008080; font-weight: bold\">28.04</span> │   <span style=\"color: #008080; text-decoration-color: #008080; font-weight: bold\">64.43</span> │    <span style=\"color: #008080; text-decoration-color: #008080; font-weight: bold\">260.0</span> │   <span style=\"color: #008080; text-decoration-color: #008080; font-weight: bold\">12.65858</span> │     <span style=\"color: #008080; text-decoration-color: #008080; font-weight: bold\">0.0</span> │   <span style=\"color: #008080; text-decoration-color: #008080; font-weight: bold\">1011.9</span> │    <span style=\"color: #008080; text-decoration-color: #008080; font-weight: bold\">10.0</span> │ False   │\n",
       "│      <span style=\"color: #008080; text-decoration-color: #008080; font-weight: bold\">555</span> │    <span style=\"color: #008080; text-decoration-color: #008080; font-weight: bold\">507</span> │ <span style=\"color: #008000; text-decoration-color: #008000\">EWR   </span> │ <span style=\"color: #008000; text-decoration-color: #008000\">FLL   </span> │    <span style=\"color: #008080; text-decoration-color: #008080; font-weight: bold\">158.0</span> │   <span style=\"color: #008080; text-decoration-color: #008080; font-weight: bold\">1065.0</span> │ <span style=\"color: #008000; text-decoration-color: #008000\">B6     </span> │ <span style=\"color: #800080; text-decoration-color: #800080\">2013-01-01</span> │   <span style=\"color: #008080; text-decoration-color: #008080; font-weight: bold\">37.94</span> │   <span style=\"color: #008080; text-decoration-color: #008080; font-weight: bold\">28.04</span> │   <span style=\"color: #008080; text-decoration-color: #008080; font-weight: bold\">67.21</span> │    <span style=\"color: #008080; text-decoration-color: #008080; font-weight: bold\">240.0</span> │   <span style=\"color: #008080; text-decoration-color: #008080; font-weight: bold\">11.50780</span> │     <span style=\"color: #008080; text-decoration-color: #008080; font-weight: bold\">0.0</span> │   <span style=\"color: #008080; text-decoration-color: #008080; font-weight: bold\">1012.4</span> │    <span style=\"color: #008080; text-decoration-color: #008080; font-weight: bold\">10.0</span> │ False   │\n",
       "│      <span style=\"color: #008080; text-decoration-color: #008080; font-weight: bold\">557</span> │   <span style=\"color: #008080; text-decoration-color: #008080; font-weight: bold\">5708</span> │ <span style=\"color: #008000; text-decoration-color: #008000\">LGA   </span> │ <span style=\"color: #008000; text-decoration-color: #008000\">IAD   </span> │     <span style=\"color: #008080; text-decoration-color: #008080; font-weight: bold\">53.0</span> │    <span style=\"color: #008080; text-decoration-color: #008080; font-weight: bold\">229.0</span> │ <span style=\"color: #008000; text-decoration-color: #008000\">EV     </span> │ <span style=\"color: #800080; text-decoration-color: #800080\">2013-01-01</span> │   <span style=\"color: #008080; text-decoration-color: #008080; font-weight: bold\">39.92</span> │   <span style=\"color: #008080; text-decoration-color: #008080; font-weight: bold\">24.98</span> │   <span style=\"color: #008080; text-decoration-color: #008080; font-weight: bold\">54.81</span> │    <span style=\"color: #008080; text-decoration-color: #008080; font-weight: bold\">260.0</span> │   <span style=\"color: #008080; text-decoration-color: #008080; font-weight: bold\">16.11092</span> │     <span style=\"color: #008080; text-decoration-color: #008080; font-weight: bold\">0.0</span> │   <span style=\"color: #008080; text-decoration-color: #008080; font-weight: bold\">1011.7</span> │    <span style=\"color: #008080; text-decoration-color: #008080; font-weight: bold\">10.0</span> │ False   │\n",
       "│      <span style=\"color: #008080; text-decoration-color: #008080; font-weight: bold\">557</span> │     <span style=\"color: #008080; text-decoration-color: #008080; font-weight: bold\">79</span> │ <span style=\"color: #008000; text-decoration-color: #008000\">JFK   </span> │ <span style=\"color: #008000; text-decoration-color: #008000\">MCO   </span> │    <span style=\"color: #008080; text-decoration-color: #008080; font-weight: bold\">140.0</span> │    <span style=\"color: #008080; text-decoration-color: #008080; font-weight: bold\">944.0</span> │ <span style=\"color: #008000; text-decoration-color: #008000\">B6     </span> │ <span style=\"color: #800080; text-decoration-color: #800080\">2013-01-01</span> │   <span style=\"color: #008080; text-decoration-color: #008080; font-weight: bold\">37.94</span> │   <span style=\"color: #008080; text-decoration-color: #008080; font-weight: bold\">26.96</span> │   <span style=\"color: #008080; text-decoration-color: #008080; font-weight: bold\">64.29</span> │    <span style=\"color: #008080; text-decoration-color: #008080; font-weight: bold\">260.0</span> │   <span style=\"color: #008080; text-decoration-color: #008080; font-weight: bold\">13.80936</span> │     <span style=\"color: #008080; text-decoration-color: #008080; font-weight: bold\">0.0</span> │   <span style=\"color: #008080; text-decoration-color: #008080; font-weight: bold\">1012.6</span> │    <span style=\"color: #008080; text-decoration-color: #008080; font-weight: bold\">10.0</span> │ False   │\n",
       "│      <span style=\"color: #008080; text-decoration-color: #008080; font-weight: bold\">558</span> │    <span style=\"color: #008080; text-decoration-color: #008080; font-weight: bold\">301</span> │ <span style=\"color: #008000; text-decoration-color: #008000\">LGA   </span> │ <span style=\"color: #008000; text-decoration-color: #008000\">ORD   </span> │    <span style=\"color: #008080; text-decoration-color: #008080; font-weight: bold\">138.0</span> │    <span style=\"color: #008080; text-decoration-color: #008080; font-weight: bold\">733.0</span> │ <span style=\"color: #008000; text-decoration-color: #008000\">AA     </span> │ <span style=\"color: #800080; text-decoration-color: #800080\">2013-01-01</span> │   <span style=\"color: #008080; text-decoration-color: #008080; font-weight: bold\">39.92</span> │   <span style=\"color: #008080; text-decoration-color: #008080; font-weight: bold\">24.98</span> │   <span style=\"color: #008080; text-decoration-color: #008080; font-weight: bold\">54.81</span> │    <span style=\"color: #008080; text-decoration-color: #008080; font-weight: bold\">260.0</span> │   <span style=\"color: #008080; text-decoration-color: #008080; font-weight: bold\">16.11092</span> │     <span style=\"color: #008080; text-decoration-color: #008080; font-weight: bold\">0.0</span> │   <span style=\"color: #008080; text-decoration-color: #008080; font-weight: bold\">1011.7</span> │    <span style=\"color: #008080; text-decoration-color: #008080; font-weight: bold\">10.0</span> │ False   │\n",
       "│      <span style=\"color: #008080; text-decoration-color: #008080; font-weight: bold\">558</span> │     <span style=\"color: #008080; text-decoration-color: #008080; font-weight: bold\">49</span> │ <span style=\"color: #008000; text-decoration-color: #008000\">JFK   </span> │ <span style=\"color: #008000; text-decoration-color: #008000\">PBI   </span> │    <span style=\"color: #008080; text-decoration-color: #008080; font-weight: bold\">149.0</span> │   <span style=\"color: #008080; text-decoration-color: #008080; font-weight: bold\">1028.0</span> │ <span style=\"color: #008000; text-decoration-color: #008000\">B6     </span> │ <span style=\"color: #800080; text-decoration-color: #800080\">2013-01-01</span> │   <span style=\"color: #008080; text-decoration-color: #008080; font-weight: bold\">37.94</span> │   <span style=\"color: #008080; text-decoration-color: #008080; font-weight: bold\">26.96</span> │   <span style=\"color: #008080; text-decoration-color: #008080; font-weight: bold\">64.29</span> │    <span style=\"color: #008080; text-decoration-color: #008080; font-weight: bold\">260.0</span> │   <span style=\"color: #008080; text-decoration-color: #008080; font-weight: bold\">13.80936</span> │     <span style=\"color: #008080; text-decoration-color: #008080; font-weight: bold\">0.0</span> │   <span style=\"color: #008080; text-decoration-color: #008080; font-weight: bold\">1012.6</span> │    <span style=\"color: #008080; text-decoration-color: #008080; font-weight: bold\">10.0</span> │ False   │\n",
       "│      <span style=\"color: #008080; text-decoration-color: #008080; font-weight: bold\">558</span> │     <span style=\"color: #008080; text-decoration-color: #008080; font-weight: bold\">71</span> │ <span style=\"color: #008000; text-decoration-color: #008000\">JFK   </span> │ <span style=\"color: #008000; text-decoration-color: #008000\">TPA   </span> │    <span style=\"color: #008080; text-decoration-color: #008080; font-weight: bold\">158.0</span> │   <span style=\"color: #008080; text-decoration-color: #008080; font-weight: bold\">1005.0</span> │ <span style=\"color: #008000; text-decoration-color: #008000\">B6     </span> │ <span style=\"color: #800080; text-decoration-color: #800080\">2013-01-01</span> │   <span style=\"color: #008080; text-decoration-color: #008080; font-weight: bold\">37.94</span> │   <span style=\"color: #008080; text-decoration-color: #008080; font-weight: bold\">26.96</span> │   <span style=\"color: #008080; text-decoration-color: #008080; font-weight: bold\">64.29</span> │    <span style=\"color: #008080; text-decoration-color: #008080; font-weight: bold\">260.0</span> │   <span style=\"color: #008080; text-decoration-color: #008080; font-weight: bold\">13.80936</span> │     <span style=\"color: #008080; text-decoration-color: #008080; font-weight: bold\">0.0</span> │   <span style=\"color: #008080; text-decoration-color: #008080; font-weight: bold\">1012.6</span> │    <span style=\"color: #008080; text-decoration-color: #008080; font-weight: bold\">10.0</span> │ False   │\n",
       "│      <span style=\"color: #008080; text-decoration-color: #008080; font-weight: bold\">558</span> │    <span style=\"color: #008080; text-decoration-color: #008080; font-weight: bold\">194</span> │ <span style=\"color: #008000; text-decoration-color: #008000\">JFK   </span> │ <span style=\"color: #008000; text-decoration-color: #008000\">LAX   </span> │    <span style=\"color: #008080; text-decoration-color: #008080; font-weight: bold\">345.0</span> │   <span style=\"color: #008080; text-decoration-color: #008080; font-weight: bold\">2475.0</span> │ <span style=\"color: #008000; text-decoration-color: #008000\">UA     </span> │ <span style=\"color: #800080; text-decoration-color: #800080\">2013-01-01</span> │   <span style=\"color: #008080; text-decoration-color: #008080; font-weight: bold\">37.94</span> │   <span style=\"color: #008080; text-decoration-color: #008080; font-weight: bold\">26.96</span> │   <span style=\"color: #008080; text-decoration-color: #008080; font-weight: bold\">64.29</span> │    <span style=\"color: #008080; text-decoration-color: #008080; font-weight: bold\">260.0</span> │   <span style=\"color: #008080; text-decoration-color: #008080; font-weight: bold\">13.80936</span> │     <span style=\"color: #008080; text-decoration-color: #008080; font-weight: bold\">0.0</span> │   <span style=\"color: #008080; text-decoration-color: #008080; font-weight: bold\">1012.6</span> │    <span style=\"color: #008080; text-decoration-color: #008080; font-weight: bold\">10.0</span> │ False   │\n",
       "│        <span style=\"color: #7f7f7f; text-decoration-color: #7f7f7f\">…</span> │      <span style=\"color: #7f7f7f; text-decoration-color: #7f7f7f\">…</span> │ <span style=\"color: #7f7f7f; text-decoration-color: #7f7f7f\">…</span>      │ <span style=\"color: #7f7f7f; text-decoration-color: #7f7f7f\">…</span>      │        <span style=\"color: #7f7f7f; text-decoration-color: #7f7f7f\">…</span> │        <span style=\"color: #7f7f7f; text-decoration-color: #7f7f7f\">…</span> │ <span style=\"color: #7f7f7f; text-decoration-color: #7f7f7f\">…</span>       │ <span style=\"color: #7f7f7f; text-decoration-color: #7f7f7f\">…</span>          │       <span style=\"color: #7f7f7f; text-decoration-color: #7f7f7f\">…</span> │       <span style=\"color: #7f7f7f; text-decoration-color: #7f7f7f\">…</span> │       <span style=\"color: #7f7f7f; text-decoration-color: #7f7f7f\">…</span> │        <span style=\"color: #7f7f7f; text-decoration-color: #7f7f7f\">…</span> │          <span style=\"color: #7f7f7f; text-decoration-color: #7f7f7f\">…</span> │       <span style=\"color: #7f7f7f; text-decoration-color: #7f7f7f\">…</span> │        <span style=\"color: #7f7f7f; text-decoration-color: #7f7f7f\">…</span> │       <span style=\"color: #7f7f7f; text-decoration-color: #7f7f7f\">…</span> │ <span style=\"color: #7f7f7f; text-decoration-color: #7f7f7f\">…</span>       │\n",
       "└──────────┴────────┴────────┴────────┴──────────┴──────────┴─────────┴────────────┴─────────┴─────────┴─────────┴──────────┴────────────┴─────────┴──────────┴─────────┴─────────┘\n",
       "</pre>\n"
      ],
      "text/plain": [
       "┏━━━━━━━━━━┳━━━━━━━━┳━━━━━━━━┳━━━━━━━━┳━━━━━━━━━━┳━━━━━━━━━━┳━━━━━━━━━┳━━━━━━━━━━━━┳━━━━━━━━━┳━━━━━━━━━┳━━━━━━━━━┳━━━━━━━━━━┳━━━━━━━━━━━━┳━━━━━━━━━┳━━━━━━━━━━┳━━━━━━━━━┳━━━━━━━━━┓\n",
       "┃\u001b[1m \u001b[0m\u001b[1mdep_time\u001b[0m\u001b[1m \u001b[0m┃\u001b[1m \u001b[0m\u001b[1mflight\u001b[0m\u001b[1m \u001b[0m┃\u001b[1m \u001b[0m\u001b[1morigin\u001b[0m\u001b[1m \u001b[0m┃\u001b[1m \u001b[0m\u001b[1mdest\u001b[0m\u001b[1m  \u001b[0m\u001b[1m \u001b[0m┃\u001b[1m \u001b[0m\u001b[1mair_time\u001b[0m\u001b[1m \u001b[0m┃\u001b[1m \u001b[0m\u001b[1mdistance\u001b[0m\u001b[1m \u001b[0m┃\u001b[1m \u001b[0m\u001b[1mcarrier\u001b[0m\u001b[1m \u001b[0m┃\u001b[1m \u001b[0m\u001b[1mdate\u001b[0m\u001b[1m      \u001b[0m\u001b[1m \u001b[0m┃\u001b[1m \u001b[0m\u001b[1mtemp\u001b[0m\u001b[1m   \u001b[0m\u001b[1m \u001b[0m┃\u001b[1m \u001b[0m\u001b[1mdewp\u001b[0m\u001b[1m   \u001b[0m\u001b[1m \u001b[0m┃\u001b[1m \u001b[0m\u001b[1mhumid\u001b[0m\u001b[1m  \u001b[0m\u001b[1m \u001b[0m┃\u001b[1m \u001b[0m\u001b[1mwind_dir\u001b[0m\u001b[1m \u001b[0m┃\u001b[1m \u001b[0m\u001b[1mwind_speed\u001b[0m\u001b[1m \u001b[0m┃\u001b[1m \u001b[0m\u001b[1mprecip\u001b[0m\u001b[1m \u001b[0m\u001b[1m \u001b[0m┃\u001b[1m \u001b[0m\u001b[1mpressure\u001b[0m\u001b[1m \u001b[0m┃\u001b[1m \u001b[0m\u001b[1mvisib\u001b[0m\u001b[1m  \u001b[0m\u001b[1m \u001b[0m┃\u001b[1m \u001b[0m\u001b[1mdelayed\u001b[0m\u001b[1m \u001b[0m┃\n",
       "┡━━━━━━━━━━╇━━━━━━━━╇━━━━━━━━╇━━━━━━━━╇━━━━━━━━━━╇━━━━━━━━━━╇━━━━━━━━━╇━━━━━━━━━━━━╇━━━━━━━━━╇━━━━━━━━━╇━━━━━━━━━╇━━━━━━━━━━╇━━━━━━━━━━━━╇━━━━━━━━━╇━━━━━━━━━━╇━━━━━━━━━╇━━━━━━━━━┩\n",
       "│ \u001b[2mint64\u001b[0m    │ \u001b[2mint32\u001b[0m  │ \u001b[2mstring\u001b[0m │ \u001b[2mstring\u001b[0m │ \u001b[2mfloat64\u001b[0m  │ \u001b[2mfloat64\u001b[0m  │ \u001b[2mstring\u001b[0m  │ \u001b[2mdate\u001b[0m       │ \u001b[2mfloat64\u001b[0m │ \u001b[2mfloat64\u001b[0m │ \u001b[2mfloat64\u001b[0m │ \u001b[2mfloat64\u001b[0m  │ \u001b[2mfloat64\u001b[0m    │ \u001b[2mfloat64\u001b[0m │ \u001b[2mfloat64\u001b[0m  │ \u001b[2mfloat64\u001b[0m │ \u001b[2mboolean\u001b[0m │\n",
       "├──────────┼────────┼────────┼────────┼──────────┼──────────┼─────────┼────────────┼─────────┼─────────┼─────────┼──────────┼────────────┼─────────┼──────────┼─────────┼─────────┤\n",
       "│      \u001b[1;36m517\u001b[0m │   \u001b[1;36m1545\u001b[0m │ \u001b[32mEWR   \u001b[0m │ \u001b[32mIAH   \u001b[0m │    \u001b[1;36m227.0\u001b[0m │   \u001b[1;36m1400.0\u001b[0m │ \u001b[32mUA     \u001b[0m │ \u001b[35m2013-01-01\u001b[0m │   \u001b[1;36m39.02\u001b[0m │   \u001b[1;36m28.04\u001b[0m │   \u001b[1;36m64.43\u001b[0m │    \u001b[1;36m260.0\u001b[0m │   \u001b[1;36m12.65858\u001b[0m │     \u001b[1;36m0.0\u001b[0m │   \u001b[1;36m1011.9\u001b[0m │    \u001b[1;36m10.0\u001b[0m │ False   │\n",
       "│      \u001b[1;36m554\u001b[0m │    \u001b[1;36m461\u001b[0m │ \u001b[32mLGA   \u001b[0m │ \u001b[32mATL   \u001b[0m │    \u001b[1;36m116.0\u001b[0m │    \u001b[1;36m762.0\u001b[0m │ \u001b[32mDL     \u001b[0m │ \u001b[35m2013-01-01\u001b[0m │   \u001b[1;36m39.92\u001b[0m │   \u001b[1;36m24.98\u001b[0m │   \u001b[1;36m54.81\u001b[0m │    \u001b[1;36m260.0\u001b[0m │   \u001b[1;36m16.11092\u001b[0m │     \u001b[1;36m0.0\u001b[0m │   \u001b[1;36m1011.7\u001b[0m │    \u001b[1;36m10.0\u001b[0m │ False   │\n",
       "│      \u001b[1;36m554\u001b[0m │   \u001b[1;36m1696\u001b[0m │ \u001b[32mEWR   \u001b[0m │ \u001b[32mORD   \u001b[0m │    \u001b[1;36m150.0\u001b[0m │    \u001b[1;36m719.0\u001b[0m │ \u001b[32mUA     \u001b[0m │ \u001b[35m2013-01-01\u001b[0m │   \u001b[1;36m39.02\u001b[0m │   \u001b[1;36m28.04\u001b[0m │   \u001b[1;36m64.43\u001b[0m │    \u001b[1;36m260.0\u001b[0m │   \u001b[1;36m12.65858\u001b[0m │     \u001b[1;36m0.0\u001b[0m │   \u001b[1;36m1011.9\u001b[0m │    \u001b[1;36m10.0\u001b[0m │ False   │\n",
       "│      \u001b[1;36m555\u001b[0m │    \u001b[1;36m507\u001b[0m │ \u001b[32mEWR   \u001b[0m │ \u001b[32mFLL   \u001b[0m │    \u001b[1;36m158.0\u001b[0m │   \u001b[1;36m1065.0\u001b[0m │ \u001b[32mB6     \u001b[0m │ \u001b[35m2013-01-01\u001b[0m │   \u001b[1;36m37.94\u001b[0m │   \u001b[1;36m28.04\u001b[0m │   \u001b[1;36m67.21\u001b[0m │    \u001b[1;36m240.0\u001b[0m │   \u001b[1;36m11.50780\u001b[0m │     \u001b[1;36m0.0\u001b[0m │   \u001b[1;36m1012.4\u001b[0m │    \u001b[1;36m10.0\u001b[0m │ False   │\n",
       "│      \u001b[1;36m557\u001b[0m │   \u001b[1;36m5708\u001b[0m │ \u001b[32mLGA   \u001b[0m │ \u001b[32mIAD   \u001b[0m │     \u001b[1;36m53.0\u001b[0m │    \u001b[1;36m229.0\u001b[0m │ \u001b[32mEV     \u001b[0m │ \u001b[35m2013-01-01\u001b[0m │   \u001b[1;36m39.92\u001b[0m │   \u001b[1;36m24.98\u001b[0m │   \u001b[1;36m54.81\u001b[0m │    \u001b[1;36m260.0\u001b[0m │   \u001b[1;36m16.11092\u001b[0m │     \u001b[1;36m0.0\u001b[0m │   \u001b[1;36m1011.7\u001b[0m │    \u001b[1;36m10.0\u001b[0m │ False   │\n",
       "│      \u001b[1;36m557\u001b[0m │     \u001b[1;36m79\u001b[0m │ \u001b[32mJFK   \u001b[0m │ \u001b[32mMCO   \u001b[0m │    \u001b[1;36m140.0\u001b[0m │    \u001b[1;36m944.0\u001b[0m │ \u001b[32mB6     \u001b[0m │ \u001b[35m2013-01-01\u001b[0m │   \u001b[1;36m37.94\u001b[0m │   \u001b[1;36m26.96\u001b[0m │   \u001b[1;36m64.29\u001b[0m │    \u001b[1;36m260.0\u001b[0m │   \u001b[1;36m13.80936\u001b[0m │     \u001b[1;36m0.0\u001b[0m │   \u001b[1;36m1012.6\u001b[0m │    \u001b[1;36m10.0\u001b[0m │ False   │\n",
       "│      \u001b[1;36m558\u001b[0m │    \u001b[1;36m301\u001b[0m │ \u001b[32mLGA   \u001b[0m │ \u001b[32mORD   \u001b[0m │    \u001b[1;36m138.0\u001b[0m │    \u001b[1;36m733.0\u001b[0m │ \u001b[32mAA     \u001b[0m │ \u001b[35m2013-01-01\u001b[0m │   \u001b[1;36m39.92\u001b[0m │   \u001b[1;36m24.98\u001b[0m │   \u001b[1;36m54.81\u001b[0m │    \u001b[1;36m260.0\u001b[0m │   \u001b[1;36m16.11092\u001b[0m │     \u001b[1;36m0.0\u001b[0m │   \u001b[1;36m1011.7\u001b[0m │    \u001b[1;36m10.0\u001b[0m │ False   │\n",
       "│      \u001b[1;36m558\u001b[0m │     \u001b[1;36m49\u001b[0m │ \u001b[32mJFK   \u001b[0m │ \u001b[32mPBI   \u001b[0m │    \u001b[1;36m149.0\u001b[0m │   \u001b[1;36m1028.0\u001b[0m │ \u001b[32mB6     \u001b[0m │ \u001b[35m2013-01-01\u001b[0m │   \u001b[1;36m37.94\u001b[0m │   \u001b[1;36m26.96\u001b[0m │   \u001b[1;36m64.29\u001b[0m │    \u001b[1;36m260.0\u001b[0m │   \u001b[1;36m13.80936\u001b[0m │     \u001b[1;36m0.0\u001b[0m │   \u001b[1;36m1012.6\u001b[0m │    \u001b[1;36m10.0\u001b[0m │ False   │\n",
       "│      \u001b[1;36m558\u001b[0m │     \u001b[1;36m71\u001b[0m │ \u001b[32mJFK   \u001b[0m │ \u001b[32mTPA   \u001b[0m │    \u001b[1;36m158.0\u001b[0m │   \u001b[1;36m1005.0\u001b[0m │ \u001b[32mB6     \u001b[0m │ \u001b[35m2013-01-01\u001b[0m │   \u001b[1;36m37.94\u001b[0m │   \u001b[1;36m26.96\u001b[0m │   \u001b[1;36m64.29\u001b[0m │    \u001b[1;36m260.0\u001b[0m │   \u001b[1;36m13.80936\u001b[0m │     \u001b[1;36m0.0\u001b[0m │   \u001b[1;36m1012.6\u001b[0m │    \u001b[1;36m10.0\u001b[0m │ False   │\n",
       "│      \u001b[1;36m558\u001b[0m │    \u001b[1;36m194\u001b[0m │ \u001b[32mJFK   \u001b[0m │ \u001b[32mLAX   \u001b[0m │    \u001b[1;36m345.0\u001b[0m │   \u001b[1;36m2475.0\u001b[0m │ \u001b[32mUA     \u001b[0m │ \u001b[35m2013-01-01\u001b[0m │   \u001b[1;36m37.94\u001b[0m │   \u001b[1;36m26.96\u001b[0m │   \u001b[1;36m64.29\u001b[0m │    \u001b[1;36m260.0\u001b[0m │   \u001b[1;36m13.80936\u001b[0m │     \u001b[1;36m0.0\u001b[0m │   \u001b[1;36m1012.6\u001b[0m │    \u001b[1;36m10.0\u001b[0m │ False   │\n",
       "│        \u001b[2m…\u001b[0m │      \u001b[2m…\u001b[0m │ \u001b[2m…\u001b[0m      │ \u001b[2m…\u001b[0m      │        \u001b[2m…\u001b[0m │        \u001b[2m…\u001b[0m │ \u001b[2m…\u001b[0m       │ \u001b[2m…\u001b[0m          │       \u001b[2m…\u001b[0m │       \u001b[2m…\u001b[0m │       \u001b[2m…\u001b[0m │        \u001b[2m…\u001b[0m │          \u001b[2m…\u001b[0m │       \u001b[2m…\u001b[0m │        \u001b[2m…\u001b[0m │       \u001b[2m…\u001b[0m │ \u001b[2m…\u001b[0m       │\n",
       "└──────────┴────────┴────────┴────────┴──────────┴──────────┴─────────┴────────────┴─────────┴─────────┴─────────┴──────────┴────────────┴─────────┴──────────┴─────────┴─────────┘"
      ]
     },
     "execution_count": 6,
     "metadata": {},
     "output_type": "execute_result"
    }
   ],
   "source": [
    "t = (\n",
    "    flights\n",
    "    .mutate(\n",
    "        delayed=_.arr_delay >= 30,\n",
    "        date=_.time_hour.cast(\"date\")\n",
    "    )\n",
    "    .join(weather, (\"origin\", \"time_hour\"))\n",
    "    .select(\n",
    "        \"dep_time\", \"flight\", \"origin\", \"dest\", \"air_time\", \"distance\", \"carrier\", \"date\",\n",
    "        \"temp\", \"dewp\", \"humid\", \"wind_dir\", \"wind_speed\", \"precip\", \"pressure\", \"visib\",\n",
    "        \"delayed\"\n",
    "    )\n",
    "    .dropna()\n",
    ")\n",
    "\n",
    "t"
   ]
  },
  {
   "cell_type": "code",
   "execution_count": 33,
   "id": "4443a17a",
   "metadata": {},
   "outputs": [],
   "source": [
    "data = t.mutate(training=ibis.random() >= 0.8).cache()"
   ]
  },
  {
   "cell_type": "code",
   "execution_count": 34,
   "id": "61f5f0be",
   "metadata": {},
   "outputs": [],
   "source": [
    "train = data.filter(data.training).drop(\"training\")\n",
    "test = data.filter(~data.training).drop(\"training\")"
   ]
  },
  {
   "cell_type": "markdown",
   "id": "6ff49b75",
   "metadata": {},
   "source": [
    "---"
   ]
  },
  {
   "cell_type": "markdown",
   "id": "a60334f2",
   "metadata": {},
   "source": [
    "## Build a Recipe"
   ]
  },
  {
   "cell_type": "code",
   "execution_count": 35,
   "id": "962b36f9",
   "metadata": {},
   "outputs": [],
   "source": [
    "import ibisml as ml"
   ]
  },
  {
   "cell_type": "code",
   "execution_count": 36,
   "id": "bc4138bd",
   "metadata": {},
   "outputs": [],
   "source": [
    "recipe = ml.Recipe(\n",
    "    [\n",
    "        ml.ExpandDate(\"date\", components=[\"dow\", \"month\"]),\n",
    "        ml.Mutate(\n",
    "            xmas_eve=(_.date.month() == 12) & (_.date.day() == 24),\n",
    "            xmas=(_.date.month() == 12) & (_.date.day() == 25),\n",
    "            july4=(_.date.month() == 7) & (_.date.day() == 4),\n",
    "        ),\n",
    "        ml.Drop(\"date\"),\n",
    "        ml.CategoricalEncode(ml.nominal()),\n",
    "    ]\n",
    ")"
   ]
  },
  {
   "cell_type": "code",
   "execution_count": 37,
   "id": "e2882f42",
   "metadata": {},
   "outputs": [
    {
     "data": {
      "text/plain": [
       "Recipe:\n",
       "- ExpandDate(cols(('date',)), components=['dow', 'month'])\n",
       "- Mutate(xmas_eve=((_.date.month() == 12) & (_.date.day() == 24)), xmas=((_.date.month() == 12) & (_.date.day() == 25)), july4=((_.date.month() == 7) & (_.date.day() == 4)))\n",
       "- Drop(cols(('date',)))\n",
       "- CategoricalEncode(nominal())"
      ]
     },
     "execution_count": 37,
     "metadata": {},
     "output_type": "execute_result"
    }
   ],
   "source": [
    "recipe"
   ]
  },
  {
   "cell_type": "code",
   "execution_count": 38,
   "id": "d6ef19b5",
   "metadata": {},
   "outputs": [],
   "source": [
    "transform = recipe.fit(train, \"delayed\")"
   ]
  },
  {
   "cell_type": "code",
   "execution_count": 39,
   "id": "d8f6b417",
   "metadata": {},
   "outputs": [
    {
     "data": {
      "text/plain": [
       "RecipeTransform:\n",
       "- ExpandDate<date>\n",
       "- Mutate<...>\n",
       "- Drop<date>\n",
       "- CategoricalEncode<origin, dest, carrier>"
      ]
     },
     "execution_count": 39,
     "metadata": {},
     "output_type": "execute_result"
    }
   ],
   "source": [
    "transform"
   ]
  },
  {
   "cell_type": "code",
   "execution_count": 65,
   "id": "a97cf70d",
   "metadata": {},
   "outputs": [],
   "source": [
    "result = transform(train)"
   ]
  },
  {
   "cell_type": "code",
   "execution_count": 41,
   "id": "78f6f77b",
   "metadata": {},
   "outputs": [
    {
     "data": {
      "text/markdown": [
       "```sql\n",
       "WITH t0 AS (\n",
       "  SELECT\n",
       "    t12.dep_time AS dep_time,\n",
       "    t12.flight AS flight,\n",
       "    t12.origin AS origin,\n",
       "    t12.dest AS dest,\n",
       "    t12.air_time AS air_time,\n",
       "    t12.distance AS distance,\n",
       "    t12.carrier AS carrier,\n",
       "    t12.date AS date,\n",
       "    t12.temp AS temp,\n",
       "    t12.dewp AS dewp,\n",
       "    t12.humid AS humid,\n",
       "    t12.wind_dir AS wind_dir,\n",
       "    t12.wind_speed AS wind_speed,\n",
       "    t12.precip AS precip,\n",
       "    t12.pressure AS pressure,\n",
       "    t12.visib AS visib,\n",
       "    t12.delayed AS delayed,\n",
       "    t12.training AS training\n",
       "  FROM _ibis_cache_ver25yahhvgpzm44iszkbpx45e AS t12\n",
       "  WHERE\n",
       "    t12.training\n",
       "), t1 AS (\n",
       "  SELECT\n",
       "    t0.dep_time AS dep_time,\n",
       "    t0.flight AS flight,\n",
       "    t0.origin AS origin,\n",
       "    t0.dest AS dest,\n",
       "    t0.air_time AS air_time,\n",
       "    t0.distance AS distance,\n",
       "    t0.carrier AS carrier,\n",
       "    t0.date AS date,\n",
       "    t0.temp AS temp,\n",
       "    t0.dewp AS dewp,\n",
       "    t0.humid AS humid,\n",
       "    t0.wind_dir AS wind_dir,\n",
       "    t0.wind_speed AS wind_speed,\n",
       "    t0.precip AS precip,\n",
       "    t0.pressure AS pressure,\n",
       "    t0.visib AS visib,\n",
       "    t0.delayed AS delayed\n",
       "  FROM t0\n",
       "), t2 AS (\n",
       "  SELECT\n",
       "    t1.dep_time AS dep_time,\n",
       "    t1.flight AS flight,\n",
       "    t1.origin AS origin,\n",
       "    t1.dest AS dest,\n",
       "    t1.air_time AS air_time,\n",
       "    t1.distance AS distance,\n",
       "    t1.carrier AS carrier,\n",
       "    t1.date AS date,\n",
       "    t1.temp AS temp,\n",
       "    t1.dewp AS dewp,\n",
       "    t1.humid AS humid,\n",
       "    t1.wind_dir AS wind_dir,\n",
       "    t1.wind_speed AS wind_speed,\n",
       "    t1.precip AS precip,\n",
       "    t1.pressure AS pressure,\n",
       "    t1.visib AS visib,\n",
       "    t1.delayed AS delayed\n",
       "  FROM t1\n",
       "), t3 AS (\n",
       "  SELECT\n",
       "    t2.dep_time AS dep_time,\n",
       "    t2.flight AS flight,\n",
       "    t2.origin AS origin,\n",
       "    t2.dest AS dest,\n",
       "    t2.air_time AS air_time,\n",
       "    t2.distance AS distance,\n",
       "    t2.carrier AS carrier,\n",
       "    t2.date AS date,\n",
       "    t2.temp AS temp,\n",
       "    t2.dewp AS dewp,\n",
       "    t2.humid AS humid,\n",
       "    t2.wind_dir AS wind_dir,\n",
       "    t2.wind_speed AS wind_speed,\n",
       "    t2.precip AS precip,\n",
       "    t2.pressure AS pressure,\n",
       "    t2.visib AS visib,\n",
       "    t2.delayed AS delayed,\n",
       "    CAST(CAST(EXTRACT(dow FROM t2.date) + 6 AS SMALLINT) % 7 AS SMALLINT) AS date_dow,\n",
       "    CAST(EXTRACT(month FROM t2.date) AS SMALLINT) - CAST(1 AS TINYINT) AS date_month\n",
       "  FROM t2\n",
       "), t4 AS (\n",
       "  SELECT\n",
       "    t3.dep_time AS dep_time,\n",
       "    t3.flight AS flight,\n",
       "    t3.origin AS origin,\n",
       "    t3.dest AS dest,\n",
       "    t3.air_time AS air_time,\n",
       "    t3.distance AS distance,\n",
       "    t3.carrier AS carrier,\n",
       "    t3.date AS date,\n",
       "    t3.temp AS temp,\n",
       "    t3.dewp AS dewp,\n",
       "    t3.humid AS humid,\n",
       "    t3.wind_dir AS wind_dir,\n",
       "    t3.wind_speed AS wind_speed,\n",
       "    t3.precip AS precip,\n",
       "    t3.pressure AS pressure,\n",
       "    t3.visib AS visib,\n",
       "    t3.delayed AS delayed,\n",
       "    t3.date_dow AS date_dow,\n",
       "    t3.date_month AS date_month,\n",
       "    CAST(EXTRACT(month FROM t3.date) AS SMALLINT) = CAST(12 AS TINYINT)\n",
       "    AND CAST(EXTRACT(day FROM t3.date) AS SMALLINT) = CAST(24 AS TINYINT) AS xmas_eve,\n",
       "    CAST(EXTRACT(month FROM t3.date) AS SMALLINT) = CAST(12 AS TINYINT)\n",
       "    AND CAST(EXTRACT(day FROM t3.date) AS SMALLINT) = CAST(25 AS TINYINT) AS xmas,\n",
       "    CAST(EXTRACT(month FROM t3.date) AS SMALLINT) = CAST(7 AS TINYINT)\n",
       "    AND CAST(EXTRACT(day FROM t3.date) AS SMALLINT) = CAST(4 AS TINYINT) AS july4\n",
       "  FROM t3\n",
       "), t5 AS (\n",
       "  SELECT\n",
       "    t4.dep_time AS dep_time,\n",
       "    t4.flight AS flight,\n",
       "    t4.origin AS origin,\n",
       "    t4.dest AS dest,\n",
       "    t4.air_time AS air_time,\n",
       "    t4.distance AS distance,\n",
       "    t4.carrier AS carrier,\n",
       "    t4.temp AS temp,\n",
       "    t4.dewp AS dewp,\n",
       "    t4.humid AS humid,\n",
       "    t4.wind_dir AS wind_dir,\n",
       "    t4.wind_speed AS wind_speed,\n",
       "    t4.precip AS precip,\n",
       "    t4.pressure AS pressure,\n",
       "    t4.visib AS visib,\n",
       "    t4.delayed AS delayed,\n",
       "    t4.date_dow AS date_dow,\n",
       "    t4.date_month AS date_month,\n",
       "    t4.xmas_eve AS xmas_eve,\n",
       "    t4.xmas AS xmas,\n",
       "    t4.july4 AS july4\n",
       "  FROM t4\n",
       "), t6 AS (\n",
       "  SELECT\n",
       "    t5.dep_time AS dep_time,\n",
       "    t5.flight AS flight,\n",
       "    t5.origin AS origin_left,\n",
       "    t5.dest AS dest,\n",
       "    t5.air_time AS air_time,\n",
       "    t5.distance AS distance,\n",
       "    t5.carrier AS carrier,\n",
       "    t5.temp AS temp,\n",
       "    t5.dewp AS dewp,\n",
       "    t5.humid AS humid,\n",
       "    t5.wind_dir AS wind_dir,\n",
       "    t5.wind_speed AS wind_speed,\n",
       "    t5.precip AS precip,\n",
       "    t5.pressure AS pressure,\n",
       "    t5.visib AS visib,\n",
       "    t5.delayed AS delayed,\n",
       "    t5.date_dow AS date_dow,\n",
       "    t5.date_month AS date_month,\n",
       "    t5.xmas_eve AS xmas_eve,\n",
       "    t5.xmas AS xmas,\n",
       "    t5.july4 AS july4,\n",
       "    t12.key_cdd04c AS key_cdd04c,\n",
       "    t12.origin AS origin\n",
       "  FROM t5\n",
       "  LEFT OUTER JOIN origin_cats_cdd04c AS t12\n",
       "    ON t5.origin = t12.key_cdd04c\n",
       "), t7 AS (\n",
       "  SELECT\n",
       "    t6.dep_time AS dep_time,\n",
       "    t6.flight AS flight,\n",
       "    t6.dest AS dest,\n",
       "    t6.air_time AS air_time,\n",
       "    t6.distance AS distance,\n",
       "    t6.carrier AS carrier,\n",
       "    t6.temp AS temp,\n",
       "    t6.dewp AS dewp,\n",
       "    t6.humid AS humid,\n",
       "    t6.wind_dir AS wind_dir,\n",
       "    t6.wind_speed AS wind_speed,\n",
       "    t6.precip AS precip,\n",
       "    t6.pressure AS pressure,\n",
       "    t6.visib AS visib,\n",
       "    t6.delayed AS delayed,\n",
       "    t6.date_dow AS date_dow,\n",
       "    t6.date_month AS date_month,\n",
       "    t6.xmas_eve AS xmas_eve,\n",
       "    t6.xmas AS xmas,\n",
       "    t6.july4 AS july4,\n",
       "    t6.origin AS origin\n",
       "  FROM t6\n",
       "), t8 AS (\n",
       "  SELECT\n",
       "    t7.dep_time AS dep_time,\n",
       "    t7.flight AS flight,\n",
       "    t7.dest AS dest_left,\n",
       "    t7.air_time AS air_time,\n",
       "    t7.distance AS distance,\n",
       "    t7.carrier AS carrier,\n",
       "    t7.temp AS temp,\n",
       "    t7.dewp AS dewp,\n",
       "    t7.humid AS humid,\n",
       "    t7.wind_dir AS wind_dir,\n",
       "    t7.wind_speed AS wind_speed,\n",
       "    t7.precip AS precip,\n",
       "    t7.pressure AS pressure,\n",
       "    t7.visib AS visib,\n",
       "    t7.delayed AS delayed,\n",
       "    t7.date_dow AS date_dow,\n",
       "    t7.date_month AS date_month,\n",
       "    t7.xmas_eve AS xmas_eve,\n",
       "    t7.xmas AS xmas,\n",
       "    t7.july4 AS july4,\n",
       "    t7.origin AS origin,\n",
       "    t12.key_cdd04c AS key_cdd04c,\n",
       "    t12.dest AS dest\n",
       "  FROM t7\n",
       "  LEFT OUTER JOIN dest_cats_cdd04c AS t12\n",
       "    ON t7.dest = t12.key_cdd04c\n",
       "), t9 AS (\n",
       "  SELECT\n",
       "    t8.dep_time AS dep_time,\n",
       "    t8.flight AS flight,\n",
       "    t8.air_time AS air_time,\n",
       "    t8.distance AS distance,\n",
       "    t8.carrier AS carrier,\n",
       "    t8.temp AS temp,\n",
       "    t8.dewp AS dewp,\n",
       "    t8.humid AS humid,\n",
       "    t8.wind_dir AS wind_dir,\n",
       "    t8.wind_speed AS wind_speed,\n",
       "    t8.precip AS precip,\n",
       "    t8.pressure AS pressure,\n",
       "    t8.visib AS visib,\n",
       "    t8.delayed AS delayed,\n",
       "    t8.date_dow AS date_dow,\n",
       "    t8.date_month AS date_month,\n",
       "    t8.xmas_eve AS xmas_eve,\n",
       "    t8.xmas AS xmas,\n",
       "    t8.july4 AS july4,\n",
       "    t8.origin AS origin,\n",
       "    t8.dest AS dest\n",
       "  FROM t8\n",
       "), t10 AS (\n",
       "  SELECT\n",
       "    t9.dep_time AS dep_time,\n",
       "    t9.flight AS flight,\n",
       "    t9.air_time AS air_time,\n",
       "    t9.distance AS distance,\n",
       "    t9.carrier AS carrier_left,\n",
       "    t9.temp AS temp,\n",
       "    t9.dewp AS dewp,\n",
       "    t9.humid AS humid,\n",
       "    t9.wind_dir AS wind_dir,\n",
       "    t9.wind_speed AS wind_speed,\n",
       "    t9.precip AS precip,\n",
       "    t9.pressure AS pressure,\n",
       "    t9.visib AS visib,\n",
       "    t9.delayed AS delayed,\n",
       "    t9.date_dow AS date_dow,\n",
       "    t9.date_month AS date_month,\n",
       "    t9.xmas_eve AS xmas_eve,\n",
       "    t9.xmas AS xmas,\n",
       "    t9.july4 AS july4,\n",
       "    t9.origin AS origin,\n",
       "    t9.dest AS dest,\n",
       "    t12.key_cdd04c AS key_cdd04c,\n",
       "    t12.carrier AS carrier\n",
       "  FROM t9\n",
       "  LEFT OUTER JOIN carrier_cats_cdd04c AS t12\n",
       "    ON t9.carrier = t12.key_cdd04c\n",
       ")\n",
       "SELECT\n",
       "  t11.dep_time,\n",
       "  t11.flight,\n",
       "  t11.air_time,\n",
       "  t11.distance,\n",
       "  t11.temp,\n",
       "  t11.dewp,\n",
       "  t11.humid,\n",
       "  t11.wind_dir,\n",
       "  t11.wind_speed,\n",
       "  t11.precip,\n",
       "  t11.pressure,\n",
       "  t11.visib,\n",
       "  t11.date_dow,\n",
       "  t11.date_month,\n",
       "  t11.xmas_eve,\n",
       "  t11.xmas,\n",
       "  t11.july4,\n",
       "  t11.origin,\n",
       "  t11.dest,\n",
       "  t11.carrier,\n",
       "  t11.delayed\n",
       "FROM (\n",
       "  SELECT\n",
       "    t10.dep_time AS dep_time,\n",
       "    t10.flight AS flight,\n",
       "    t10.air_time AS air_time,\n",
       "    t10.distance AS distance,\n",
       "    t10.temp AS temp,\n",
       "    t10.dewp AS dewp,\n",
       "    t10.humid AS humid,\n",
       "    t10.wind_dir AS wind_dir,\n",
       "    t10.wind_speed AS wind_speed,\n",
       "    t10.precip AS precip,\n",
       "    t10.pressure AS pressure,\n",
       "    t10.visib AS visib,\n",
       "    t10.delayed AS delayed,\n",
       "    t10.date_dow AS date_dow,\n",
       "    t10.date_month AS date_month,\n",
       "    t10.xmas_eve AS xmas_eve,\n",
       "    t10.xmas AS xmas,\n",
       "    t10.july4 AS july4,\n",
       "    t10.origin AS origin,\n",
       "    t10.dest AS dest,\n",
       "    t10.carrier AS carrier\n",
       "  FROM t10\n",
       ") AS t11\n",
       "```"
      ],
      "text/plain": [
       "SQLString(sql='WITH t0 AS (\\n  SELECT\\n    t12.dep_time AS dep_time,\\n    t12.flight AS flight,\\n    t12.origin AS origin,\\n    t12.dest AS dest,\\n    t12.air_time AS air_time,\\n    t12.distance AS distance,\\n    t12.carrier AS carrier,\\n    t12.date AS date,\\n    t12.temp AS temp,\\n    t12.dewp AS dewp,\\n    t12.humid AS humid,\\n    t12.wind_dir AS wind_dir,\\n    t12.wind_speed AS wind_speed,\\n    t12.precip AS precip,\\n    t12.pressure AS pressure,\\n    t12.visib AS visib,\\n    t12.delayed AS delayed,\\n    t12.training AS training\\n  FROM _ibis_cache_ver25yahhvgpzm44iszkbpx45e AS t12\\n  WHERE\\n    t12.training\\n), t1 AS (\\n  SELECT\\n    t0.dep_time AS dep_time,\\n    t0.flight AS flight,\\n    t0.origin AS origin,\\n    t0.dest AS dest,\\n    t0.air_time AS air_time,\\n    t0.distance AS distance,\\n    t0.carrier AS carrier,\\n    t0.date AS date,\\n    t0.temp AS temp,\\n    t0.dewp AS dewp,\\n    t0.humid AS humid,\\n    t0.wind_dir AS wind_dir,\\n    t0.wind_speed AS wind_speed,\\n    t0.precip AS precip,\\n    t0.pressure AS pressure,\\n    t0.visib AS visib,\\n    t0.delayed AS delayed\\n  FROM t0\\n), t2 AS (\\n  SELECT\\n    t1.dep_time AS dep_time,\\n    t1.flight AS flight,\\n    t1.origin AS origin,\\n    t1.dest AS dest,\\n    t1.air_time AS air_time,\\n    t1.distance AS distance,\\n    t1.carrier AS carrier,\\n    t1.date AS date,\\n    t1.temp AS temp,\\n    t1.dewp AS dewp,\\n    t1.humid AS humid,\\n    t1.wind_dir AS wind_dir,\\n    t1.wind_speed AS wind_speed,\\n    t1.precip AS precip,\\n    t1.pressure AS pressure,\\n    t1.visib AS visib,\\n    t1.delayed AS delayed\\n  FROM t1\\n), t3 AS (\\n  SELECT\\n    t2.dep_time AS dep_time,\\n    t2.flight AS flight,\\n    t2.origin AS origin,\\n    t2.dest AS dest,\\n    t2.air_time AS air_time,\\n    t2.distance AS distance,\\n    t2.carrier AS carrier,\\n    t2.date AS date,\\n    t2.temp AS temp,\\n    t2.dewp AS dewp,\\n    t2.humid AS humid,\\n    t2.wind_dir AS wind_dir,\\n    t2.wind_speed AS wind_speed,\\n    t2.precip AS precip,\\n    t2.pressure AS pressure,\\n    t2.visib AS visib,\\n    t2.delayed AS delayed,\\n    CAST(CAST(EXTRACT(dow FROM t2.date) + 6 AS SMALLINT) % 7 AS SMALLINT) AS date_dow,\\n    CAST(EXTRACT(month FROM t2.date) AS SMALLINT) - CAST(1 AS TINYINT) AS date_month\\n  FROM t2\\n), t4 AS (\\n  SELECT\\n    t3.dep_time AS dep_time,\\n    t3.flight AS flight,\\n    t3.origin AS origin,\\n    t3.dest AS dest,\\n    t3.air_time AS air_time,\\n    t3.distance AS distance,\\n    t3.carrier AS carrier,\\n    t3.date AS date,\\n    t3.temp AS temp,\\n    t3.dewp AS dewp,\\n    t3.humid AS humid,\\n    t3.wind_dir AS wind_dir,\\n    t3.wind_speed AS wind_speed,\\n    t3.precip AS precip,\\n    t3.pressure AS pressure,\\n    t3.visib AS visib,\\n    t3.delayed AS delayed,\\n    t3.date_dow AS date_dow,\\n    t3.date_month AS date_month,\\n    CAST(EXTRACT(month FROM t3.date) AS SMALLINT) = CAST(12 AS TINYINT)\\n    AND CAST(EXTRACT(day FROM t3.date) AS SMALLINT) = CAST(24 AS TINYINT) AS xmas_eve,\\n    CAST(EXTRACT(month FROM t3.date) AS SMALLINT) = CAST(12 AS TINYINT)\\n    AND CAST(EXTRACT(day FROM t3.date) AS SMALLINT) = CAST(25 AS TINYINT) AS xmas,\\n    CAST(EXTRACT(month FROM t3.date) AS SMALLINT) = CAST(7 AS TINYINT)\\n    AND CAST(EXTRACT(day FROM t3.date) AS SMALLINT) = CAST(4 AS TINYINT) AS july4\\n  FROM t3\\n), t5 AS (\\n  SELECT\\n    t4.dep_time AS dep_time,\\n    t4.flight AS flight,\\n    t4.origin AS origin,\\n    t4.dest AS dest,\\n    t4.air_time AS air_time,\\n    t4.distance AS distance,\\n    t4.carrier AS carrier,\\n    t4.temp AS temp,\\n    t4.dewp AS dewp,\\n    t4.humid AS humid,\\n    t4.wind_dir AS wind_dir,\\n    t4.wind_speed AS wind_speed,\\n    t4.precip AS precip,\\n    t4.pressure AS pressure,\\n    t4.visib AS visib,\\n    t4.delayed AS delayed,\\n    t4.date_dow AS date_dow,\\n    t4.date_month AS date_month,\\n    t4.xmas_eve AS xmas_eve,\\n    t4.xmas AS xmas,\\n    t4.july4 AS july4\\n  FROM t4\\n), t6 AS (\\n  SELECT\\n    t5.dep_time AS dep_time,\\n    t5.flight AS flight,\\n    t5.origin AS origin_left,\\n    t5.dest AS dest,\\n    t5.air_time AS air_time,\\n    t5.distance AS distance,\\n    t5.carrier AS carrier,\\n    t5.temp AS temp,\\n    t5.dewp AS dewp,\\n    t5.humid AS humid,\\n    t5.wind_dir AS wind_dir,\\n    t5.wind_speed AS wind_speed,\\n    t5.precip AS precip,\\n    t5.pressure AS pressure,\\n    t5.visib AS visib,\\n    t5.delayed AS delayed,\\n    t5.date_dow AS date_dow,\\n    t5.date_month AS date_month,\\n    t5.xmas_eve AS xmas_eve,\\n    t5.xmas AS xmas,\\n    t5.july4 AS july4,\\n    t12.key_cdd04c AS key_cdd04c,\\n    t12.origin AS origin\\n  FROM t5\\n  LEFT OUTER JOIN origin_cats_cdd04c AS t12\\n    ON t5.origin = t12.key_cdd04c\\n), t7 AS (\\n  SELECT\\n    t6.dep_time AS dep_time,\\n    t6.flight AS flight,\\n    t6.dest AS dest,\\n    t6.air_time AS air_time,\\n    t6.distance AS distance,\\n    t6.carrier AS carrier,\\n    t6.temp AS temp,\\n    t6.dewp AS dewp,\\n    t6.humid AS humid,\\n    t6.wind_dir AS wind_dir,\\n    t6.wind_speed AS wind_speed,\\n    t6.precip AS precip,\\n    t6.pressure AS pressure,\\n    t6.visib AS visib,\\n    t6.delayed AS delayed,\\n    t6.date_dow AS date_dow,\\n    t6.date_month AS date_month,\\n    t6.xmas_eve AS xmas_eve,\\n    t6.xmas AS xmas,\\n    t6.july4 AS july4,\\n    t6.origin AS origin\\n  FROM t6\\n), t8 AS (\\n  SELECT\\n    t7.dep_time AS dep_time,\\n    t7.flight AS flight,\\n    t7.dest AS dest_left,\\n    t7.air_time AS air_time,\\n    t7.distance AS distance,\\n    t7.carrier AS carrier,\\n    t7.temp AS temp,\\n    t7.dewp AS dewp,\\n    t7.humid AS humid,\\n    t7.wind_dir AS wind_dir,\\n    t7.wind_speed AS wind_speed,\\n    t7.precip AS precip,\\n    t7.pressure AS pressure,\\n    t7.visib AS visib,\\n    t7.delayed AS delayed,\\n    t7.date_dow AS date_dow,\\n    t7.date_month AS date_month,\\n    t7.xmas_eve AS xmas_eve,\\n    t7.xmas AS xmas,\\n    t7.july4 AS july4,\\n    t7.origin AS origin,\\n    t12.key_cdd04c AS key_cdd04c,\\n    t12.dest AS dest\\n  FROM t7\\n  LEFT OUTER JOIN dest_cats_cdd04c AS t12\\n    ON t7.dest = t12.key_cdd04c\\n), t9 AS (\\n  SELECT\\n    t8.dep_time AS dep_time,\\n    t8.flight AS flight,\\n    t8.air_time AS air_time,\\n    t8.distance AS distance,\\n    t8.carrier AS carrier,\\n    t8.temp AS temp,\\n    t8.dewp AS dewp,\\n    t8.humid AS humid,\\n    t8.wind_dir AS wind_dir,\\n    t8.wind_speed AS wind_speed,\\n    t8.precip AS precip,\\n    t8.pressure AS pressure,\\n    t8.visib AS visib,\\n    t8.delayed AS delayed,\\n    t8.date_dow AS date_dow,\\n    t8.date_month AS date_month,\\n    t8.xmas_eve AS xmas_eve,\\n    t8.xmas AS xmas,\\n    t8.july4 AS july4,\\n    t8.origin AS origin,\\n    t8.dest AS dest\\n  FROM t8\\n), t10 AS (\\n  SELECT\\n    t9.dep_time AS dep_time,\\n    t9.flight AS flight,\\n    t9.air_time AS air_time,\\n    t9.distance AS distance,\\n    t9.carrier AS carrier_left,\\n    t9.temp AS temp,\\n    t9.dewp AS dewp,\\n    t9.humid AS humid,\\n    t9.wind_dir AS wind_dir,\\n    t9.wind_speed AS wind_speed,\\n    t9.precip AS precip,\\n    t9.pressure AS pressure,\\n    t9.visib AS visib,\\n    t9.delayed AS delayed,\\n    t9.date_dow AS date_dow,\\n    t9.date_month AS date_month,\\n    t9.xmas_eve AS xmas_eve,\\n    t9.xmas AS xmas,\\n    t9.july4 AS july4,\\n    t9.origin AS origin,\\n    t9.dest AS dest,\\n    t12.key_cdd04c AS key_cdd04c,\\n    t12.carrier AS carrier\\n  FROM t9\\n  LEFT OUTER JOIN carrier_cats_cdd04c AS t12\\n    ON t9.carrier = t12.key_cdd04c\\n)\\nSELECT\\n  t11.dep_time,\\n  t11.flight,\\n  t11.air_time,\\n  t11.distance,\\n  t11.temp,\\n  t11.dewp,\\n  t11.humid,\\n  t11.wind_dir,\\n  t11.wind_speed,\\n  t11.precip,\\n  t11.pressure,\\n  t11.visib,\\n  t11.date_dow,\\n  t11.date_month,\\n  t11.xmas_eve,\\n  t11.xmas,\\n  t11.july4,\\n  t11.origin,\\n  t11.dest,\\n  t11.carrier,\\n  t11.delayed\\nFROM (\\n  SELECT\\n    t10.dep_time AS dep_time,\\n    t10.flight AS flight,\\n    t10.air_time AS air_time,\\n    t10.distance AS distance,\\n    t10.temp AS temp,\\n    t10.dewp AS dewp,\\n    t10.humid AS humid,\\n    t10.wind_dir AS wind_dir,\\n    t10.wind_speed AS wind_speed,\\n    t10.precip AS precip,\\n    t10.pressure AS pressure,\\n    t10.visib AS visib,\\n    t10.delayed AS delayed,\\n    t10.date_dow AS date_dow,\\n    t10.date_month AS date_month,\\n    t10.xmas_eve AS xmas_eve,\\n    t10.xmas AS xmas,\\n    t10.july4 AS july4,\\n    t10.origin AS origin,\\n    t10.dest AS dest,\\n    t10.carrier AS carrier\\n  FROM t10\\n) AS t11')"
      ]
     },
     "execution_count": 41,
     "metadata": {},
     "output_type": "execute_result"
    }
   ],
   "source": [
    "ibis.to_sql(result.table)"
   ]
  },
  {
   "cell_type": "markdown",
   "id": "265556fb",
   "metadata": {},
   "source": [
    "---"
   ]
  },
  {
   "cell_type": "markdown",
   "id": "30c49d72",
   "metadata": {},
   "source": [
    "## Fit a Model"
   ]
  },
  {
   "cell_type": "code",
   "execution_count": 42,
   "id": "0d4dc811",
   "metadata": {},
   "outputs": [],
   "source": [
    "import xgboost as xgb"
   ]
  },
  {
   "cell_type": "code",
   "execution_count": 43,
   "id": "a2d8907d",
   "metadata": {},
   "outputs": [],
   "source": [
    "model = xgb.XGBClassifier(tree_method=\"hist\", enable_categorical=True, objective=\"binary:hinge\")"
   ]
  },
  {
   "cell_type": "code",
   "execution_count": 62,
   "id": "d3e0c148",
   "metadata": {},
   "outputs": [
    {
     "data": {
      "text/html": [
       "<div>\n",
       "<style scoped>\n",
       "    .dataframe tbody tr th:only-of-type {\n",
       "        vertical-align: middle;\n",
       "    }\n",
       "\n",
       "    .dataframe tbody tr th {\n",
       "        vertical-align: top;\n",
       "    }\n",
       "\n",
       "    .dataframe thead th {\n",
       "        text-align: right;\n",
       "    }\n",
       "</style>\n",
       "<table border=\"1\" class=\"dataframe\">\n",
       "  <thead>\n",
       "    <tr style=\"text-align: right;\">\n",
       "      <th></th>\n",
       "      <th>dep_time</th>\n",
       "      <th>flight</th>\n",
       "      <th>air_time</th>\n",
       "      <th>distance</th>\n",
       "      <th>temp</th>\n",
       "      <th>dewp</th>\n",
       "      <th>humid</th>\n",
       "      <th>wind_dir</th>\n",
       "      <th>wind_speed</th>\n",
       "      <th>precip</th>\n",
       "      <th>pressure</th>\n",
       "      <th>visib</th>\n",
       "      <th>date_dow</th>\n",
       "      <th>date_month</th>\n",
       "      <th>xmas_eve</th>\n",
       "      <th>xmas</th>\n",
       "      <th>july4</th>\n",
       "      <th>origin</th>\n",
       "      <th>dest</th>\n",
       "      <th>carrier</th>\n",
       "    </tr>\n",
       "  </thead>\n",
       "  <tbody>\n",
       "    <tr>\n",
       "      <th>0</th>\n",
       "      <td>517</td>\n",
       "      <td>1545</td>\n",
       "      <td>227.0</td>\n",
       "      <td>1400.0</td>\n",
       "      <td>39.02</td>\n",
       "      <td>28.04</td>\n",
       "      <td>64.43</td>\n",
       "      <td>260.0</td>\n",
       "      <td>12.65858</td>\n",
       "      <td>0.0</td>\n",
       "      <td>1011.9</td>\n",
       "      <td>10.0</td>\n",
       "      <td>Tuesday</td>\n",
       "      <td>January</td>\n",
       "      <td>False</td>\n",
       "      <td>False</td>\n",
       "      <td>False</td>\n",
       "      <td>EWR</td>\n",
       "      <td>IAH</td>\n",
       "      <td>UA</td>\n",
       "    </tr>\n",
       "    <tr>\n",
       "      <th>1</th>\n",
       "      <td>554</td>\n",
       "      <td>461</td>\n",
       "      <td>116.0</td>\n",
       "      <td>762.0</td>\n",
       "      <td>39.92</td>\n",
       "      <td>24.98</td>\n",
       "      <td>54.81</td>\n",
       "      <td>260.0</td>\n",
       "      <td>16.11092</td>\n",
       "      <td>0.0</td>\n",
       "      <td>1011.7</td>\n",
       "      <td>10.0</td>\n",
       "      <td>Tuesday</td>\n",
       "      <td>January</td>\n",
       "      <td>False</td>\n",
       "      <td>False</td>\n",
       "      <td>False</td>\n",
       "      <td>LGA</td>\n",
       "      <td>ATL</td>\n",
       "      <td>DL</td>\n",
       "    </tr>\n",
       "    <tr>\n",
       "      <th>2</th>\n",
       "      <td>554</td>\n",
       "      <td>1696</td>\n",
       "      <td>150.0</td>\n",
       "      <td>719.0</td>\n",
       "      <td>39.02</td>\n",
       "      <td>28.04</td>\n",
       "      <td>64.43</td>\n",
       "      <td>260.0</td>\n",
       "      <td>12.65858</td>\n",
       "      <td>0.0</td>\n",
       "      <td>1011.9</td>\n",
       "      <td>10.0</td>\n",
       "      <td>Tuesday</td>\n",
       "      <td>January</td>\n",
       "      <td>False</td>\n",
       "      <td>False</td>\n",
       "      <td>False</td>\n",
       "      <td>EWR</td>\n",
       "      <td>ORD</td>\n",
       "      <td>UA</td>\n",
       "    </tr>\n",
       "    <tr>\n",
       "      <th>3</th>\n",
       "      <td>555</td>\n",
       "      <td>507</td>\n",
       "      <td>158.0</td>\n",
       "      <td>1065.0</td>\n",
       "      <td>37.94</td>\n",
       "      <td>28.04</td>\n",
       "      <td>67.21</td>\n",
       "      <td>240.0</td>\n",
       "      <td>11.50780</td>\n",
       "      <td>0.0</td>\n",
       "      <td>1012.4</td>\n",
       "      <td>10.0</td>\n",
       "      <td>Tuesday</td>\n",
       "      <td>January</td>\n",
       "      <td>False</td>\n",
       "      <td>False</td>\n",
       "      <td>False</td>\n",
       "      <td>EWR</td>\n",
       "      <td>FLL</td>\n",
       "      <td>B6</td>\n",
       "    </tr>\n",
       "    <tr>\n",
       "      <th>4</th>\n",
       "      <td>557</td>\n",
       "      <td>5708</td>\n",
       "      <td>53.0</td>\n",
       "      <td>229.0</td>\n",
       "      <td>39.92</td>\n",
       "      <td>24.98</td>\n",
       "      <td>54.81</td>\n",
       "      <td>260.0</td>\n",
       "      <td>16.11092</td>\n",
       "      <td>0.0</td>\n",
       "      <td>1011.7</td>\n",
       "      <td>10.0</td>\n",
       "      <td>Tuesday</td>\n",
       "      <td>January</td>\n",
       "      <td>False</td>\n",
       "      <td>False</td>\n",
       "      <td>False</td>\n",
       "      <td>LGA</td>\n",
       "      <td>IAD</td>\n",
       "      <td>EV</td>\n",
       "    </tr>\n",
       "    <tr>\n",
       "      <th>...</th>\n",
       "      <td>...</td>\n",
       "      <td>...</td>\n",
       "      <td>...</td>\n",
       "      <td>...</td>\n",
       "      <td>...</td>\n",
       "      <td>...</td>\n",
       "      <td>...</td>\n",
       "      <td>...</td>\n",
       "      <td>...</td>\n",
       "      <td>...</td>\n",
       "      <td>...</td>\n",
       "      <td>...</td>\n",
       "      <td>...</td>\n",
       "      <td>...</td>\n",
       "      <td>...</td>\n",
       "      <td>...</td>\n",
       "      <td>...</td>\n",
       "      <td>...</td>\n",
       "      <td>...</td>\n",
       "      <td>...</td>\n",
       "    </tr>\n",
       "    <tr>\n",
       "      <th>228027</th>\n",
       "      <td>2357</td>\n",
       "      <td>739</td>\n",
       "      <td>203.0</td>\n",
       "      <td>1617.0</td>\n",
       "      <td>71.06</td>\n",
       "      <td>57.02</td>\n",
       "      <td>61.16</td>\n",
       "      <td>290.0</td>\n",
       "      <td>18.41248</td>\n",
       "      <td>0.0</td>\n",
       "      <td>1006.6</td>\n",
       "      <td>10.0</td>\n",
       "      <td>Wednesday</td>\n",
       "      <td>June</td>\n",
       "      <td>False</td>\n",
       "      <td>False</td>\n",
       "      <td>False</td>\n",
       "      <td>JFK</td>\n",
       "      <td>PSE</td>\n",
       "      <td>B6</td>\n",
       "    </tr>\n",
       "    <tr>\n",
       "      <th>228028</th>\n",
       "      <td>1553</td>\n",
       "      <td>4576</td>\n",
       "      <td>89.0</td>\n",
       "      <td>605.0</td>\n",
       "      <td>91.94</td>\n",
       "      <td>69.08</td>\n",
       "      <td>47.36</td>\n",
       "      <td>250.0</td>\n",
       "      <td>11.50780</td>\n",
       "      <td>0.0</td>\n",
       "      <td>1024.6</td>\n",
       "      <td>10.0</td>\n",
       "      <td>Sunday</td>\n",
       "      <td>July</td>\n",
       "      <td>False</td>\n",
       "      <td>False</td>\n",
       "      <td>False</td>\n",
       "      <td>EWR</td>\n",
       "      <td>GRR</td>\n",
       "      <td>EV</td>\n",
       "    </tr>\n",
       "    <tr>\n",
       "      <th>228029</th>\n",
       "      <td>1939</td>\n",
       "      <td>4576</td>\n",
       "      <td>90.0</td>\n",
       "      <td>605.0</td>\n",
       "      <td>75.92</td>\n",
       "      <td>71.06</td>\n",
       "      <td>84.92</td>\n",
       "      <td>0.0</td>\n",
       "      <td>0.00000</td>\n",
       "      <td>0.0</td>\n",
       "      <td>1011.0</td>\n",
       "      <td>8.0</td>\n",
       "      <td>Wednesday</td>\n",
       "      <td>August</td>\n",
       "      <td>False</td>\n",
       "      <td>False</td>\n",
       "      <td>False</td>\n",
       "      <td>EWR</td>\n",
       "      <td>GRR</td>\n",
       "      <td>EV</td>\n",
       "    </tr>\n",
       "    <tr>\n",
       "      <th>228030</th>\n",
       "      <td>2359</td>\n",
       "      <td>745</td>\n",
       "      <td>198.0</td>\n",
       "      <td>1617.0</td>\n",
       "      <td>75.02</td>\n",
       "      <td>71.06</td>\n",
       "      <td>87.50</td>\n",
       "      <td>190.0</td>\n",
       "      <td>6.90468</td>\n",
       "      <td>0.0</td>\n",
       "      <td>1010.7</td>\n",
       "      <td>10.0</td>\n",
       "      <td>Sunday</td>\n",
       "      <td>September</td>\n",
       "      <td>False</td>\n",
       "      <td>False</td>\n",
       "      <td>False</td>\n",
       "      <td>JFK</td>\n",
       "      <td>PSE</td>\n",
       "      <td>B6</td>\n",
       "    </tr>\n",
       "    <tr>\n",
       "      <th>228031</th>\n",
       "      <td>1604</td>\n",
       "      <td>4576</td>\n",
       "      <td>86.0</td>\n",
       "      <td>605.0</td>\n",
       "      <td>71.06</td>\n",
       "      <td>39.02</td>\n",
       "      <td>31.12</td>\n",
       "      <td>0.0</td>\n",
       "      <td>0.00000</td>\n",
       "      <td>0.0</td>\n",
       "      <td>1021.2</td>\n",
       "      <td>10.0</td>\n",
       "      <td>Friday</td>\n",
       "      <td>September</td>\n",
       "      <td>False</td>\n",
       "      <td>False</td>\n",
       "      <td>False</td>\n",
       "      <td>EWR</td>\n",
       "      <td>GRR</td>\n",
       "      <td>EV</td>\n",
       "    </tr>\n",
       "  </tbody>\n",
       "</table>\n",
       "<p>228032 rows × 20 columns</p>\n",
       "</div>"
      ],
      "text/plain": [
       "        dep_time  flight  air_time  distance   temp   dewp  humid  wind_dir  \\\n",
       "0            517    1545     227.0    1400.0  39.02  28.04  64.43     260.0   \n",
       "1            554     461     116.0     762.0  39.92  24.98  54.81     260.0   \n",
       "2            554    1696     150.0     719.0  39.02  28.04  64.43     260.0   \n",
       "3            555     507     158.0    1065.0  37.94  28.04  67.21     240.0   \n",
       "4            557    5708      53.0     229.0  39.92  24.98  54.81     260.0   \n",
       "...          ...     ...       ...       ...    ...    ...    ...       ...   \n",
       "228027      2357     739     203.0    1617.0  71.06  57.02  61.16     290.0   \n",
       "228028      1553    4576      89.0     605.0  91.94  69.08  47.36     250.0   \n",
       "228029      1939    4576      90.0     605.0  75.92  71.06  84.92       0.0   \n",
       "228030      2359     745     198.0    1617.0  75.02  71.06  87.50     190.0   \n",
       "228031      1604    4576      86.0     605.0  71.06  39.02  31.12       0.0   \n",
       "\n",
       "        wind_speed  precip  pressure  visib   date_dow date_month  xmas_eve  \\\n",
       "0         12.65858     0.0    1011.9   10.0    Tuesday    January     False   \n",
       "1         16.11092     0.0    1011.7   10.0    Tuesday    January     False   \n",
       "2         12.65858     0.0    1011.9   10.0    Tuesday    January     False   \n",
       "3         11.50780     0.0    1012.4   10.0    Tuesday    January     False   \n",
       "4         16.11092     0.0    1011.7   10.0    Tuesday    January     False   \n",
       "...            ...     ...       ...    ...        ...        ...       ...   \n",
       "228027    18.41248     0.0    1006.6   10.0  Wednesday       June     False   \n",
       "228028    11.50780     0.0    1024.6   10.0     Sunday       July     False   \n",
       "228029     0.00000     0.0    1011.0    8.0  Wednesday     August     False   \n",
       "228030     6.90468     0.0    1010.7   10.0     Sunday  September     False   \n",
       "228031     0.00000     0.0    1021.2   10.0     Friday  September     False   \n",
       "\n",
       "         xmas  july4 origin dest carrier  \n",
       "0       False  False    EWR  IAH      UA  \n",
       "1       False  False    LGA  ATL      DL  \n",
       "2       False  False    EWR  ORD      UA  \n",
       "3       False  False    EWR  FLL      B6  \n",
       "4       False  False    LGA  IAD      EV  \n",
       "...       ...    ...    ...  ...     ...  \n",
       "228027  False  False    JFK  PSE      B6  \n",
       "228028  False  False    EWR  GRR      EV  \n",
       "228029  False  False    EWR  GRR      EV  \n",
       "228030  False  False    JFK  PSE      B6  \n",
       "228031  False  False    EWR  GRR      EV  \n",
       "\n",
       "[228032 rows x 20 columns]"
      ]
     },
     "execution_count": 62,
     "metadata": {},
     "output_type": "execute_result"
    }
   ],
   "source": [
    "df = result.to_pandas(categories=True)\n",
    "X = df[result.features]\n",
    "y = df[\"delayed\"]\n",
    "X"
   ]
  },
  {
   "cell_type": "code",
   "execution_count": 45,
   "id": "f81be765",
   "metadata": {},
   "outputs": [
    {
     "data": {
      "text/html": [
       "<style>#sk-container-id-2 {color: black;background-color: white;}#sk-container-id-2 pre{padding: 0;}#sk-container-id-2 div.sk-toggleable {background-color: white;}#sk-container-id-2 label.sk-toggleable__label {cursor: pointer;display: block;width: 100%;margin-bottom: 0;padding: 0.3em;box-sizing: border-box;text-align: center;}#sk-container-id-2 label.sk-toggleable__label-arrow:before {content: \"▸\";float: left;margin-right: 0.25em;color: #696969;}#sk-container-id-2 label.sk-toggleable__label-arrow:hover:before {color: black;}#sk-container-id-2 div.sk-estimator:hover label.sk-toggleable__label-arrow:before {color: black;}#sk-container-id-2 div.sk-toggleable__content {max-height: 0;max-width: 0;overflow: hidden;text-align: left;background-color: #f0f8ff;}#sk-container-id-2 div.sk-toggleable__content pre {margin: 0.2em;color: black;border-radius: 0.25em;background-color: #f0f8ff;}#sk-container-id-2 input.sk-toggleable__control:checked~div.sk-toggleable__content {max-height: 200px;max-width: 100%;overflow: auto;}#sk-container-id-2 input.sk-toggleable__control:checked~label.sk-toggleable__label-arrow:before {content: \"▾\";}#sk-container-id-2 div.sk-estimator input.sk-toggleable__control:checked~label.sk-toggleable__label {background-color: #d4ebff;}#sk-container-id-2 div.sk-label input.sk-toggleable__control:checked~label.sk-toggleable__label {background-color: #d4ebff;}#sk-container-id-2 input.sk-hidden--visually {border: 0;clip: rect(1px 1px 1px 1px);clip: rect(1px, 1px, 1px, 1px);height: 1px;margin: -1px;overflow: hidden;padding: 0;position: absolute;width: 1px;}#sk-container-id-2 div.sk-estimator {font-family: monospace;background-color: #f0f8ff;border: 1px dotted black;border-radius: 0.25em;box-sizing: border-box;margin-bottom: 0.5em;}#sk-container-id-2 div.sk-estimator:hover {background-color: #d4ebff;}#sk-container-id-2 div.sk-parallel-item::after {content: \"\";width: 100%;border-bottom: 1px solid gray;flex-grow: 1;}#sk-container-id-2 div.sk-label:hover label.sk-toggleable__label {background-color: #d4ebff;}#sk-container-id-2 div.sk-serial::before {content: \"\";position: absolute;border-left: 1px solid gray;box-sizing: border-box;top: 0;bottom: 0;left: 50%;z-index: 0;}#sk-container-id-2 div.sk-serial {display: flex;flex-direction: column;align-items: center;background-color: white;padding-right: 0.2em;padding-left: 0.2em;position: relative;}#sk-container-id-2 div.sk-item {position: relative;z-index: 1;}#sk-container-id-2 div.sk-parallel {display: flex;align-items: stretch;justify-content: center;background-color: white;position: relative;}#sk-container-id-2 div.sk-item::before, #sk-container-id-2 div.sk-parallel-item::before {content: \"\";position: absolute;border-left: 1px solid gray;box-sizing: border-box;top: 0;bottom: 0;left: 50%;z-index: -1;}#sk-container-id-2 div.sk-parallel-item {display: flex;flex-direction: column;z-index: 1;position: relative;background-color: white;}#sk-container-id-2 div.sk-parallel-item:first-child::after {align-self: flex-end;width: 50%;}#sk-container-id-2 div.sk-parallel-item:last-child::after {align-self: flex-start;width: 50%;}#sk-container-id-2 div.sk-parallel-item:only-child::after {width: 0;}#sk-container-id-2 div.sk-dashed-wrapped {border: 1px dashed gray;margin: 0 0.4em 0.5em 0.4em;box-sizing: border-box;padding-bottom: 0.4em;background-color: white;}#sk-container-id-2 div.sk-label label {font-family: monospace;font-weight: bold;display: inline-block;line-height: 1.2em;}#sk-container-id-2 div.sk-label-container {text-align: center;}#sk-container-id-2 div.sk-container {/* jupyter's `normalize.less` sets `[hidden] { display: none; }` but bootstrap.min.css set `[hidden] { display: none !important; }` so we also need the `!important` here to be able to override the default hidden behavior on the sphinx rendered scikit-learn.org. See: https://github.com/scikit-learn/scikit-learn/issues/21755 */display: inline-block !important;position: relative;}#sk-container-id-2 div.sk-text-repr-fallback {display: none;}</style><div id=\"sk-container-id-2\" class=\"sk-top-container\"><div class=\"sk-text-repr-fallback\"><pre>XGBClassifier(base_score=None, booster=None, callbacks=None,\n",
       "              colsample_bylevel=None, colsample_bynode=None,\n",
       "              colsample_bytree=None, early_stopping_rounds=None,\n",
       "              enable_categorical=True, eval_metric=None, feature_types=None,\n",
       "              gamma=None, gpu_id=None, grow_policy=None, importance_type=None,\n",
       "              interaction_constraints=None, learning_rate=None, max_bin=None,\n",
       "              max_cat_threshold=None, max_cat_to_onehot=None,\n",
       "              max_delta_step=None, max_depth=None, max_leaves=None,\n",
       "              min_child_weight=None, missing=nan, monotone_constraints=None,\n",
       "              n_estimators=100, n_jobs=None, num_parallel_tree=None,\n",
       "              objective=&#x27;binary:hinge&#x27;, predictor=None, ...)</pre><b>In a Jupyter environment, please rerun this cell to show the HTML representation or trust the notebook. <br />On GitHub, the HTML representation is unable to render, please try loading this page with nbviewer.org.</b></div><div class=\"sk-container\" hidden><div class=\"sk-item\"><div class=\"sk-estimator sk-toggleable\"><input class=\"sk-toggleable__control sk-hidden--visually\" id=\"sk-estimator-id-2\" type=\"checkbox\" checked><label for=\"sk-estimator-id-2\" class=\"sk-toggleable__label sk-toggleable__label-arrow\">XGBClassifier</label><div class=\"sk-toggleable__content\"><pre>XGBClassifier(base_score=None, booster=None, callbacks=None,\n",
       "              colsample_bylevel=None, colsample_bynode=None,\n",
       "              colsample_bytree=None, early_stopping_rounds=None,\n",
       "              enable_categorical=True, eval_metric=None, feature_types=None,\n",
       "              gamma=None, gpu_id=None, grow_policy=None, importance_type=None,\n",
       "              interaction_constraints=None, learning_rate=None, max_bin=None,\n",
       "              max_cat_threshold=None, max_cat_to_onehot=None,\n",
       "              max_delta_step=None, max_depth=None, max_leaves=None,\n",
       "              min_child_weight=None, missing=nan, monotone_constraints=None,\n",
       "              n_estimators=100, n_jobs=None, num_parallel_tree=None,\n",
       "              objective=&#x27;binary:hinge&#x27;, predictor=None, ...)</pre></div></div></div></div></div>"
      ],
      "text/plain": [
       "XGBClassifier(base_score=None, booster=None, callbacks=None,\n",
       "              colsample_bylevel=None, colsample_bynode=None,\n",
       "              colsample_bytree=None, early_stopping_rounds=None,\n",
       "              enable_categorical=True, eval_metric=None, feature_types=None,\n",
       "              gamma=None, gpu_id=None, grow_policy=None, importance_type=None,\n",
       "              interaction_constraints=None, learning_rate=None, max_bin=None,\n",
       "              max_cat_threshold=None, max_cat_to_onehot=None,\n",
       "              max_delta_step=None, max_depth=None, max_leaves=None,\n",
       "              min_child_weight=None, missing=nan, monotone_constraints=None,\n",
       "              n_estimators=100, n_jobs=None, num_parallel_tree=None,\n",
       "              objective='binary:hinge', predictor=None, ...)"
      ]
     },
     "execution_count": 45,
     "metadata": {},
     "output_type": "execute_result"
    }
   ],
   "source": [
    "model.fit(X, y)"
   ]
  },
  {
   "cell_type": "markdown",
   "id": "2beaf205",
   "metadata": {},
   "source": [
    "---"
   ]
  },
  {
   "cell_type": "markdown",
   "id": "b1ca62df",
   "metadata": {},
   "source": [
    "## Evaluate the Model"
   ]
  },
  {
   "cell_type": "code",
   "execution_count": 46,
   "id": "1862050d",
   "metadata": {},
   "outputs": [],
   "source": [
    "test_result = transform(test)"
   ]
  },
  {
   "cell_type": "code",
   "execution_count": 47,
   "id": "d035f377",
   "metadata": {},
   "outputs": [],
   "source": [
    "dmatrix_test = result.to_dmatrix()"
   ]
  },
  {
   "cell_type": "code",
   "execution_count": 48,
   "id": "f590afc7",
   "metadata": {},
   "outputs": [],
   "source": [
    "df_test = result.to_pandas(categories=True)\n",
    "X_test = df_test[result.features]\n",
    "y_test = df_test[\"delayed\"]"
   ]
  },
  {
   "cell_type": "code",
   "execution_count": 49,
   "id": "110aa233",
   "metadata": {},
   "outputs": [],
   "source": [
    "y_predict = model.predict(X_test)"
   ]
  },
  {
   "cell_type": "code",
   "execution_count": 50,
   "id": "8ad30015",
   "metadata": {},
   "outputs": [],
   "source": [
    "from sklearn.metrics import accuracy_score"
   ]
  },
  {
   "cell_type": "code",
   "execution_count": 51,
   "id": "67db818f",
   "metadata": {},
   "outputs": [
    {
     "data": {
      "text/plain": [
       "0.9029346758349706"
      ]
     },
     "execution_count": 51,
     "metadata": {},
     "output_type": "execute_result"
    }
   ],
   "source": [
    "accuracy_score(y_test, y_predict)"
   ]
  },
  {
   "cell_type": "markdown",
   "id": "a89796cb",
   "metadata": {},
   "source": [
    "## Is that good?"
   ]
  },
  {
   "cell_type": "code",
   "execution_count": 52,
   "id": "a685c87a",
   "metadata": {},
   "outputs": [],
   "source": [
    "import numpy as np"
   ]
  },
  {
   "cell_type": "code",
   "execution_count": 53,
   "id": "a0c00164",
   "metadata": {},
   "outputs": [
    {
     "data": {
      "text/plain": [
       "0.8555334339040135"
      ]
     },
     "execution_count": 53,
     "metadata": {},
     "output_type": "execute_result"
    }
   ],
   "source": [
    "accuracy_score(y_test, np.zeros_like(y_test))"
   ]
  },
  {
   "cell_type": "code",
   "execution_count": 54,
   "id": "04acf9cd",
   "metadata": {},
   "outputs": [
    {
     "data": {
      "text/html": [
       "<pre style=\"white-space:pre;overflow-x:auto;line-height:normal;font-family:Menlo,'DejaVu Sans Mono',consolas,'Courier New',monospace\"></pre>\n"
      ],
      "text/plain": []
     },
     "metadata": {},
     "output_type": "display_data"
    },
    {
     "data": {
      "text/plain": [
       "\u001b[1;36m228032\u001b[0m"
      ]
     },
     "execution_count": 54,
     "metadata": {},
     "output_type": "execute_result"
    }
   ],
   "source": [
    "train.count()"
   ]
  },
  {
   "cell_type": "raw",
   "id": "0c585c99",
   "metadata": {},
   "source": [
    "test.count()"
   ]
  },
  {
   "cell_type": "code",
   "execution_count": 55,
   "id": "006b7aa8",
   "metadata": {},
   "outputs": [
    {
     "data": {
      "text/html": [
       "<pre style=\"white-space:pre;overflow-x:auto;line-height:normal;font-family:Menlo,'DejaVu Sans Mono',consolas,'Courier New',monospace\"></pre>\n"
      ],
      "text/plain": []
     },
     "metadata": {},
     "output_type": "display_data"
    },
    {
     "data": {
      "text/plain": [
       "\u001b[1;36m56518\u001b[0m"
      ]
     },
     "execution_count": 55,
     "metadata": {},
     "output_type": "execute_result"
    }
   ],
   "source": [
    "test.count()"
   ]
  }
 ],
 "metadata": {
  "kernelspec": {
   "display_name": "Python 3 (ipykernel)",
   "language": "python",
   "name": "python3"
  },
  "language_info": {
   "codemirror_mode": {
    "name": "ipython",
    "version": 3
   },
   "file_extension": ".py",
   "mimetype": "text/x-python",
   "name": "python",
   "nbconvert_exporter": "python",
   "pygments_lexer": "ipython3",
   "version": "3.10.9"
  }
 },
 "nbformat": 4,
 "nbformat_minor": 5
}
