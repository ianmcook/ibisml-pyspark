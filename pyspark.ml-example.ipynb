{
 "cells": [
  {
   "cell_type": "markdown",
   "id": "615dc805",
   "metadata": {},
   "source": [
    "# ML on NYCFlights with PySpark ML"
   ]
  },
  {
   "cell_type": "code",
   "execution_count": 1,
   "id": "30dc3753",
   "metadata": {},
   "outputs": [
    {
     "name": "stderr",
     "output_type": "stream",
     "text": [
      "Setting default log level to \"WARN\".\n",
      "To adjust logging level use sc.setLogLevel(newLevel). For SparkR, use setLogLevel(newLevel).\n",
      "23/07/31 17:54:31 WARN NativeCodeLoader: Unable to load native-hadoop library for your platform... using builtin-java classes where applicable\n"
     ]
    }
   ],
   "source": [
    "from pyspark.sql import SparkSession\n",
    "from pyspark.sql.functions import col, when, dayofweek, dayofmonth, month\n",
    "spark = SparkSession.builder.getOrCreate()\n",
    "spark.conf.set(\"spark.sql.execution.arrow.pyspark.enabled\", \"true\")"
   ]
  },
  {
   "cell_type": "markdown",
   "id": "881d08eb",
   "metadata": {},
   "source": [
    "## Load the data"
   ]
  },
  {
   "cell_type": "code",
   "execution_count": 2,
   "id": "f7c93c07",
   "metadata": {},
   "outputs": [],
   "source": [
    "flights = spark.read.parquet(\"data/flights.parquet\")\n",
    "weather = spark.read.parquet(\"data/weather.parquet\")"
   ]
  },
  {
   "cell_type": "code",
   "execution_count": 3,
   "id": "f0bbd01a",
   "metadata": {},
   "outputs": [
    {
     "name": "stdout",
     "output_type": "stream",
     "text": [
      "+----+-----+---+--------+--------------+---------+--------+--------------+---------+-------+------+-------+------+----+--------+--------+----+------+-------------------+\n",
      "|year|month|day|dep_time|sched_dep_time|dep_delay|arr_time|sched_arr_time|arr_delay|carrier|flight|tailnum|origin|dest|air_time|distance|hour|minute|          time_hour|\n",
      "+----+-----+---+--------+--------------+---------+--------+--------------+---------+-------+------+-------+------+----+--------+--------+----+------+-------------------+\n",
      "|2013|    1|  1|     517|           515|      2.0|     830|           819|     11.0|     UA|  1545| N14228|   EWR| IAH|   227.0|  1400.0| 5.0|  15.0|2013-01-01 10:00:00|\n",
      "|2013|    1|  1|     533|           529|      4.0|     850|           830|     20.0|     UA|  1714| N24211|   LGA| IAH|   227.0|  1416.0| 5.0|  29.0|2013-01-01 10:00:00|\n",
      "|2013|    1|  1|     542|           540|      2.0|     923|           850|     33.0|     AA|  1141| N619AA|   JFK| MIA|   160.0|  1089.0| 5.0|  40.0|2013-01-01 10:00:00|\n",
      "|2013|    1|  1|     544|           545|     -1.0|    1004|          1022|    -18.0|     B6|   725| N804JB|   JFK| BQN|   183.0|  1576.0| 5.0|  45.0|2013-01-01 10:00:00|\n",
      "|2013|    1|  1|     554|           600|     -6.0|     812|           837|    -25.0|     DL|   461| N668DN|   LGA| ATL|   116.0|   762.0| 6.0|   0.0|2013-01-01 11:00:00|\n",
      "|2013|    1|  1|     554|           558|     -4.0|     740|           728|     12.0|     UA|  1696| N39463|   EWR| ORD|   150.0|   719.0| 5.0|  58.0|2013-01-01 10:00:00|\n",
      "|2013|    1|  1|     555|           600|     -5.0|     913|           854|     19.0|     B6|   507| N516JB|   EWR| FLL|   158.0|  1065.0| 6.0|   0.0|2013-01-01 11:00:00|\n",
      "|2013|    1|  1|     557|           600|     -3.0|     709|           723|    -14.0|     EV|  5708| N829AS|   LGA| IAD|    53.0|   229.0| 6.0|   0.0|2013-01-01 11:00:00|\n",
      "|2013|    1|  1|     557|           600|     -3.0|     838|           846|     -8.0|     B6|    79| N593JB|   JFK| MCO|   140.0|   944.0| 6.0|   0.0|2013-01-01 11:00:00|\n",
      "|2013|    1|  1|     558|           600|     -2.0|     753|           745|      8.0|     AA|   301| N3ALAA|   LGA| ORD|   138.0|   733.0| 6.0|   0.0|2013-01-01 11:00:00|\n",
      "+----+-----+---+--------+--------------+---------+--------+--------------+---------+-------+------+-------+------+----+--------+--------+----+------+-------------------+\n",
      "only showing top 10 rows\n",
      "\n"
     ]
    }
   ],
   "source": [
    "flights.show(10)"
   ]
  },
  {
   "cell_type": "code",
   "execution_count": 4,
   "id": "47c5685b",
   "metadata": {},
   "outputs": [
    {
     "name": "stdout",
     "output_type": "stream",
     "text": [
      "+------+----+-----+---+----+-----+-----+-----+--------+------------------+---------+------+--------+-----+-------------------+\n",
      "|origin|year|month|day|hour| temp| dewp|humid|wind_dir|        wind_speed|wind_gust|precip|pressure|visib|          time_hour|\n",
      "+------+----+-----+---+----+-----+-----+-----+--------+------------------+---------+------+--------+-----+-------------------+\n",
      "|   EWR|2013|    1|  1|   1|39.02|26.06|59.37|   270.0|10.357019999999999|     null|   0.0|  1012.0| 10.0|2013-01-01 06:00:00|\n",
      "|   EWR|2013|    1|  1|   2|39.02|26.96|61.63|   250.0|           8.05546|     null|   0.0|  1012.3| 10.0|2013-01-01 07:00:00|\n",
      "|   EWR|2013|    1|  1|   3|39.02|28.04|64.43|   240.0|           11.5078|     null|   0.0|  1012.5| 10.0|2013-01-01 08:00:00|\n",
      "|   EWR|2013|    1|  1|   4|39.92|28.04|62.21|   250.0|12.658579999999999|     null|   0.0|  1012.2| 10.0|2013-01-01 09:00:00|\n",
      "|   EWR|2013|    1|  1|   5|39.02|28.04|64.43|   260.0|12.658579999999999|     null|   0.0|  1011.9| 10.0|2013-01-01 10:00:00|\n",
      "|   EWR|2013|    1|  1|   6|37.94|28.04|67.21|   240.0|           11.5078|     null|   0.0|  1012.4| 10.0|2013-01-01 11:00:00|\n",
      "|   EWR|2013|    1|  1|   7|39.02|28.04|64.43|   240.0|14.960139999999999|     null|   0.0|  1012.2| 10.0|2013-01-01 12:00:00|\n",
      "|   EWR|2013|    1|  1|   8|39.92|28.04|62.21|   250.0|10.357019999999999|     null|   0.0|  1012.2| 10.0|2013-01-01 13:00:00|\n",
      "|   EWR|2013|    1|  1|   9|39.92|28.04|62.21|   260.0|14.960139999999999|     null|   0.0|  1012.7| 10.0|2013-01-01 14:00:00|\n",
      "|   EWR|2013|    1|  1|  10| 41.0|28.04|59.65|   260.0|13.809359999999998|     null|   0.0|  1012.4| 10.0|2013-01-01 15:00:00|\n",
      "+------+----+-----+---+----+-----+-----+-----+--------+------------------+---------+------+--------+-----+-------------------+\n",
      "only showing top 10 rows\n",
      "\n"
     ]
    }
   ],
   "source": [
    "weather.show(10)"
   ]
  },
  {
   "cell_type": "markdown",
   "id": "437ed3b8",
   "metadata": {},
   "source": [
    "---"
   ]
  },
  {
   "cell_type": "markdown",
   "id": "9c60858d",
   "metadata": {},
   "source": [
    "## Merge & Clean training data"
   ]
  },
  {
   "cell_type": "code",
   "execution_count": 15,
   "id": "04f56c2b",
   "metadata": {},
   "outputs": [
    {
     "name": "stdout",
     "output_type": "stream",
     "text": [
      "+--------+------+------+----+--------+--------+-------+-----+-----+-----+--------+------------------+------+--------+-----+-------+--------+----------+--------+-----+-----+\n",
      "|dep_time|flight|origin|dest|air_time|distance|carrier| temp| dewp|humid|wind_dir|        wind_speed|precip|pressure|visib|delayed|date_dow|date_month|xmas_eve| xmas|july4|\n",
      "+--------+------+------+----+--------+--------+-------+-----+-----+-----+--------+------------------+------+--------+-----+-------+--------+----------+--------+-----+-----+\n",
      "|     517|  1545|   EWR| IAH|   227.0|  1400.0|     UA|39.02|28.04|64.43|   260.0|12.658579999999999|   0.0|  1011.9| 10.0|  false|       3|         1|   false|false|false|\n",
      "|     533|  1714|   LGA| IAH|   227.0|  1416.0|     UA|39.92|24.98|54.81|   250.0|14.960139999999999|   0.0|  1011.4| 10.0|  false|       3|         1|   false|false|false|\n",
      "|     542|  1141|   JFK| MIA|   160.0|  1089.0|     AA|39.02|26.96|61.63|   260.0|14.960139999999999|   0.0|  1012.1| 10.0|   true|       3|         1|   false|false|false|\n",
      "|     544|   725|   JFK| BQN|   183.0|  1576.0|     B6|39.02|26.96|61.63|   260.0|14.960139999999999|   0.0|  1012.1| 10.0|  false|       3|         1|   false|false|false|\n",
      "|     554|   461|   LGA| ATL|   116.0|   762.0|     DL|39.92|24.98|54.81|   260.0|          16.11092|   0.0|  1011.7| 10.0|  false|       3|         1|   false|false|false|\n",
      "|     554|  1696|   EWR| ORD|   150.0|   719.0|     UA|39.02|28.04|64.43|   260.0|12.658579999999999|   0.0|  1011.9| 10.0|  false|       3|         1|   false|false|false|\n",
      "|     555|   507|   EWR| FLL|   158.0|  1065.0|     B6|37.94|28.04|67.21|   240.0|           11.5078|   0.0|  1012.4| 10.0|  false|       3|         1|   false|false|false|\n",
      "|     557|  5708|   LGA| IAD|    53.0|   229.0|     EV|39.92|24.98|54.81|   260.0|          16.11092|   0.0|  1011.7| 10.0|  false|       3|         1|   false|false|false|\n",
      "|     557|    79|   JFK| MCO|   140.0|   944.0|     B6|37.94|26.96|64.29|   260.0|13.809359999999998|   0.0|  1012.6| 10.0|  false|       3|         1|   false|false|false|\n",
      "|     558|   301|   LGA| ORD|   138.0|   733.0|     AA|39.92|24.98|54.81|   260.0|          16.11092|   0.0|  1011.7| 10.0|  false|       3|         1|   false|false|false|\n",
      "+--------+------+------+----+--------+--------+-------+-----+-----+-----+--------+------------------+------+--------+-----+-------+--------+----------+--------+-----+-----+\n",
      "only showing top 10 rows\n",
      "\n"
     ]
    }
   ],
   "source": [
    "t = (\n",
    "    flights\n",
    "    .withColumn(\"delayed\", col(\"arr_delay\") >= 30)\n",
    "    .withColumn(\"date\", col(\"time_hour\").cast(\"date\"))\n",
    "    .join(weather, [\"origin\", \"time_hour\"])\n",
    "    .select(\n",
    "        \"dep_time\", \"flight\", \"origin\", \"dest\", \"air_time\", \"distance\", \"carrier\", \"date\",\n",
    "        \"temp\", \"dewp\", \"humid\", \"wind_dir\", \"wind_speed\", \"precip\", \"pressure\", \"visib\",\n",
    "        \"delayed\"\n",
    "    )\n",
    "    .dropna()\n",
    "    .withColumn(\"date_dow\", dayofweek(col(\"date\")))\n",
    "    .withColumn(\"date_month\", month(col(\"date\")))\n",
    "    .withColumn(\"xmas_eve\", when((month(col(\"date\")) == 12) & (dayofmonth(col(\"date\")) == 24), True).otherwise(False))\n",
    "    .withColumn(\"xmas\", when((month(col(\"date\")) == 12) & (dayofmonth(col(\"date\")) == 25), True).otherwise(False))\n",
    "    .withColumn(\"july4\", when((month(col(\"date\")) == 7) & (dayofmonth(col(\"date\")) == 4), True).otherwise(False))\n",
    "    .drop(\"date\")\n",
    ")\n",
    "\n",
    "t.show(10)"
   ]
  },
  {
   "cell_type": "code",
   "execution_count": 16,
   "id": "4443a17a",
   "metadata": {},
   "outputs": [],
   "source": [
    "(train, test) = t.randomSplit([0.2, 0.8])"
   ]
  },
  {
   "cell_type": "markdown",
   "id": "6ff49b75",
   "metadata": {},
   "source": [
    "---"
   ]
  },
  {
   "cell_type": "markdown",
   "id": "a60334f2",
   "metadata": {},
   "source": [
    "## Build a Pipeline"
   ]
  },
  {
   "cell_type": "code",
   "execution_count": 29,
   "id": "962b36f9",
   "metadata": {},
   "outputs": [],
   "source": [
    "from pyspark.ml import Pipeline\n",
    "from pyspark.ml.feature import StringIndexer"
   ]
  },
  {
   "cell_type": "code",
   "execution_count": 56,
   "id": "bc4138bd",
   "metadata": {},
   "outputs": [],
   "source": [
    "pipeline = Pipeline(\n",
    "    stages=[\n",
    "        StringIndexer(\n",
    "            inputCols=[\"origin\", \"dest\", \"carrier\"],\n",
    "            outputCols=[\"origin_indexed\", \"dest_indexed\", \"carrier_indexed\"]\n",
    "        )\n",
    "    ]\n",
    ")"
   ]
  },
  {
   "cell_type": "code",
   "execution_count": 69,
   "id": "d6ef19b5",
   "metadata": {},
   "outputs": [],
   "source": [
    "pipeline_model = pipeline.fit(train)"
   ]
  },
  {
   "cell_type": "code",
   "execution_count": 70,
   "id": "d8f6b417",
   "metadata": {},
   "outputs": [
    {
     "data": {
      "text/plain": [
       "[StringIndexerModel: uid=StringIndexer_2bfc016cc733, handleInvalid=error, numInputCols=3, numOutputCols=3]"
      ]
     },
     "execution_count": 70,
     "metadata": {},
     "output_type": "execute_result"
    }
   ],
   "source": [
    "pipeline_model.stages"
   ]
  },
  {
   "cell_type": "code",
   "execution_count": 71,
   "id": "a97cf70d",
   "metadata": {},
   "outputs": [],
   "source": [
    "result = pipeline_model.transform(train)"
   ]
  },
  {
   "cell_type": "markdown",
   "id": "265556fb",
   "metadata": {},
   "source": [
    "---"
   ]
  },
  {
   "cell_type": "markdown",
   "id": "30c49d72",
   "metadata": {},
   "source": [
    "## Fit a Model"
   ]
  },
  {
   "cell_type": "code",
   "execution_count": 72,
   "id": "0d4dc811",
   "metadata": {},
   "outputs": [],
   "source": [
    "import xgboost as xgb"
   ]
  },
  {
   "cell_type": "code",
   "execution_count": 73,
   "id": "a2d8907d",
   "metadata": {},
   "outputs": [],
   "source": [
    "model = xgb.XGBClassifier(tree_method=\"hist\", enable_categorical=True, objective=\"binary:hinge\")"
   ]
  },
  {
   "cell_type": "code",
   "execution_count": 74,
   "id": "d3e0c148",
   "metadata": {},
   "outputs": [
    {
     "data": {
      "text/html": [
       "<div>\n",
       "<style scoped>\n",
       "    .dataframe tbody tr th:only-of-type {\n",
       "        vertical-align: middle;\n",
       "    }\n",
       "\n",
       "    .dataframe tbody tr th {\n",
       "        vertical-align: top;\n",
       "    }\n",
       "\n",
       "    .dataframe thead th {\n",
       "        text-align: right;\n",
       "    }\n",
       "</style>\n",
       "<table border=\"1\" class=\"dataframe\">\n",
       "  <thead>\n",
       "    <tr style=\"text-align: right;\">\n",
       "      <th></th>\n",
       "      <th>dep_time</th>\n",
       "      <th>flight</th>\n",
       "      <th>air_time</th>\n",
       "      <th>distance</th>\n",
       "      <th>temp</th>\n",
       "      <th>dewp</th>\n",
       "      <th>humid</th>\n",
       "      <th>wind_dir</th>\n",
       "      <th>wind_speed</th>\n",
       "      <th>precip</th>\n",
       "      <th>pressure</th>\n",
       "      <th>visib</th>\n",
       "      <th>date_dow</th>\n",
       "      <th>date_month</th>\n",
       "      <th>xmas_eve</th>\n",
       "      <th>xmas</th>\n",
       "      <th>july4</th>\n",
       "      <th>origin_indexed</th>\n",
       "      <th>dest_indexed</th>\n",
       "      <th>carrier_indexed</th>\n",
       "    </tr>\n",
       "  </thead>\n",
       "  <tbody>\n",
       "    <tr>\n",
       "      <th>0</th>\n",
       "      <td>1</td>\n",
       "      <td>839</td>\n",
       "      <td>199.0</td>\n",
       "      <td>1576.0</td>\n",
       "      <td>69.98</td>\n",
       "      <td>66.92</td>\n",
       "      <td>90.02</td>\n",
       "      <td>0.0</td>\n",
       "      <td>0.00000</td>\n",
       "      <td>0.00</td>\n",
       "      <td>1015.1</td>\n",
       "      <td>10.0</td>\n",
       "      <td>1</td>\n",
       "      <td>7</td>\n",
       "      <td>False</td>\n",
       "      <td>False</td>\n",
       "      <td>False</td>\n",
       "      <td>1.0</td>\n",
       "      <td>57.0</td>\n",
       "      <td>1.0</td>\n",
       "    </tr>\n",
       "    <tr>\n",
       "      <th>1</th>\n",
       "      <td>1</td>\n",
       "      <td>839</td>\n",
       "      <td>202.0</td>\n",
       "      <td>1576.0</td>\n",
       "      <td>24.98</td>\n",
       "      <td>8.06</td>\n",
       "      <td>48.03</td>\n",
       "      <td>320.0</td>\n",
       "      <td>4.60312</td>\n",
       "      <td>0.00</td>\n",
       "      <td>1024.4</td>\n",
       "      <td>10.0</td>\n",
       "      <td>3</td>\n",
       "      <td>12</td>\n",
       "      <td>False</td>\n",
       "      <td>False</td>\n",
       "      <td>False</td>\n",
       "      <td>1.0</td>\n",
       "      <td>57.0</td>\n",
       "      <td>1.0</td>\n",
       "    </tr>\n",
       "    <tr>\n",
       "      <th>2</th>\n",
       "      <td>1</td>\n",
       "      <td>1703</td>\n",
       "      <td>36.0</td>\n",
       "      <td>200.0</td>\n",
       "      <td>59.00</td>\n",
       "      <td>53.96</td>\n",
       "      <td>83.34</td>\n",
       "      <td>120.0</td>\n",
       "      <td>12.65858</td>\n",
       "      <td>0.17</td>\n",
       "      <td>1010.1</td>\n",
       "      <td>9.0</td>\n",
       "      <td>4</td>\n",
       "      <td>4</td>\n",
       "      <td>False</td>\n",
       "      <td>False</td>\n",
       "      <td>False</td>\n",
       "      <td>0.0</td>\n",
       "      <td>3.0</td>\n",
       "      <td>0.0</td>\n",
       "    </tr>\n",
       "    <tr>\n",
       "      <th>3</th>\n",
       "      <td>2</td>\n",
       "      <td>739</td>\n",
       "      <td>193.0</td>\n",
       "      <td>1617.0</td>\n",
       "      <td>46.94</td>\n",
       "      <td>30.92</td>\n",
       "      <td>53.47</td>\n",
       "      <td>260.0</td>\n",
       "      <td>18.41248</td>\n",
       "      <td>0.00</td>\n",
       "      <td>1023.8</td>\n",
       "      <td>10.0</td>\n",
       "      <td>5</td>\n",
       "      <td>1</td>\n",
       "      <td>False</td>\n",
       "      <td>False</td>\n",
       "      <td>False</td>\n",
       "      <td>1.0</td>\n",
       "      <td>71.0</td>\n",
       "      <td>1.0</td>\n",
       "    </tr>\n",
       "    <tr>\n",
       "      <th>4</th>\n",
       "      <td>2</td>\n",
       "      <td>1503</td>\n",
       "      <td>200.0</td>\n",
       "      <td>1598.0</td>\n",
       "      <td>71.06</td>\n",
       "      <td>69.08</td>\n",
       "      <td>93.47</td>\n",
       "      <td>180.0</td>\n",
       "      <td>10.35702</td>\n",
       "      <td>0.00</td>\n",
       "      <td>1018.1</td>\n",
       "      <td>9.0</td>\n",
       "      <td>3</td>\n",
       "      <td>7</td>\n",
       "      <td>False</td>\n",
       "      <td>False</td>\n",
       "      <td>False</td>\n",
       "      <td>1.0</td>\n",
       "      <td>18.0</td>\n",
       "      <td>1.0</td>\n",
       "    </tr>\n",
       "    <tr>\n",
       "      <th>...</th>\n",
       "      <td>...</td>\n",
       "      <td>...</td>\n",
       "      <td>...</td>\n",
       "      <td>...</td>\n",
       "      <td>...</td>\n",
       "      <td>...</td>\n",
       "      <td>...</td>\n",
       "      <td>...</td>\n",
       "      <td>...</td>\n",
       "      <td>...</td>\n",
       "      <td>...</td>\n",
       "      <td>...</td>\n",
       "      <td>...</td>\n",
       "      <td>...</td>\n",
       "      <td>...</td>\n",
       "      <td>...</td>\n",
       "      <td>...</td>\n",
       "      <td>...</td>\n",
       "      <td>...</td>\n",
       "      <td>...</td>\n",
       "    </tr>\n",
       "    <tr>\n",
       "      <th>56341</th>\n",
       "      <td>2400</td>\n",
       "      <td>363</td>\n",
       "      <td>101.0</td>\n",
       "      <td>733.0</td>\n",
       "      <td>91.94</td>\n",
       "      <td>68.00</td>\n",
       "      <td>45.63</td>\n",
       "      <td>270.0</td>\n",
       "      <td>10.35702</td>\n",
       "      <td>0.00</td>\n",
       "      <td>1013.5</td>\n",
       "      <td>10.0</td>\n",
       "      <td>1</td>\n",
       "      <td>7</td>\n",
       "      <td>False</td>\n",
       "      <td>False</td>\n",
       "      <td>False</td>\n",
       "      <td>2.0</td>\n",
       "      <td>1.0</td>\n",
       "      <td>4.0</td>\n",
       "    </tr>\n",
       "    <tr>\n",
       "      <th>56342</th>\n",
       "      <td>2400</td>\n",
       "      <td>425</td>\n",
       "      <td>129.0</td>\n",
       "      <td>1005.0</td>\n",
       "      <td>75.92</td>\n",
       "      <td>73.04</td>\n",
       "      <td>90.80</td>\n",
       "      <td>170.0</td>\n",
       "      <td>10.35702</td>\n",
       "      <td>0.00</td>\n",
       "      <td>1025.4</td>\n",
       "      <td>10.0</td>\n",
       "      <td>1</td>\n",
       "      <td>7</td>\n",
       "      <td>False</td>\n",
       "      <td>False</td>\n",
       "      <td>False</td>\n",
       "      <td>1.0</td>\n",
       "      <td>15.0</td>\n",
       "      <td>1.0</td>\n",
       "    </tr>\n",
       "    <tr>\n",
       "      <th>56343</th>\n",
       "      <td>2400</td>\n",
       "      <td>745</td>\n",
       "      <td>201.0</td>\n",
       "      <td>1617.0</td>\n",
       "      <td>73.94</td>\n",
       "      <td>69.08</td>\n",
       "      <td>84.80</td>\n",
       "      <td>230.0</td>\n",
       "      <td>5.75390</td>\n",
       "      <td>0.00</td>\n",
       "      <td>1020.4</td>\n",
       "      <td>10.0</td>\n",
       "      <td>4</td>\n",
       "      <td>8</td>\n",
       "      <td>False</td>\n",
       "      <td>False</td>\n",
       "      <td>False</td>\n",
       "      <td>1.0</td>\n",
       "      <td>71.0</td>\n",
       "      <td>1.0</td>\n",
       "    </tr>\n",
       "    <tr>\n",
       "      <th>56344</th>\n",
       "      <td>2400</td>\n",
       "      <td>985</td>\n",
       "      <td>37.0</td>\n",
       "      <td>187.0</td>\n",
       "      <td>69.98</td>\n",
       "      <td>62.96</td>\n",
       "      <td>78.41</td>\n",
       "      <td>190.0</td>\n",
       "      <td>12.65858</td>\n",
       "      <td>0.00</td>\n",
       "      <td>1012.5</td>\n",
       "      <td>10.0</td>\n",
       "      <td>3</td>\n",
       "      <td>6</td>\n",
       "      <td>False</td>\n",
       "      <td>False</td>\n",
       "      <td>False</td>\n",
       "      <td>1.0</td>\n",
       "      <td>3.0</td>\n",
       "      <td>3.0</td>\n",
       "    </tr>\n",
       "    <tr>\n",
       "      <th>56345</th>\n",
       "      <td>2400</td>\n",
       "      <td>1503</td>\n",
       "      <td>192.0</td>\n",
       "      <td>1598.0</td>\n",
       "      <td>30.92</td>\n",
       "      <td>19.94</td>\n",
       "      <td>63.36</td>\n",
       "      <td>240.0</td>\n",
       "      <td>6.90468</td>\n",
       "      <td>0.00</td>\n",
       "      <td>1027.5</td>\n",
       "      <td>10.0</td>\n",
       "      <td>7</td>\n",
       "      <td>12</td>\n",
       "      <td>False</td>\n",
       "      <td>False</td>\n",
       "      <td>False</td>\n",
       "      <td>1.0</td>\n",
       "      <td>18.0</td>\n",
       "      <td>1.0</td>\n",
       "    </tr>\n",
       "  </tbody>\n",
       "</table>\n",
       "<p>56346 rows × 20 columns</p>\n",
       "</div>"
      ],
      "text/plain": [
       "       dep_time  flight  air_time  distance   temp   dewp  humid  wind_dir  \\\n",
       "0             1     839     199.0    1576.0  69.98  66.92  90.02       0.0   \n",
       "1             1     839     202.0    1576.0  24.98   8.06  48.03     320.0   \n",
       "2             1    1703      36.0     200.0  59.00  53.96  83.34     120.0   \n",
       "3             2     739     193.0    1617.0  46.94  30.92  53.47     260.0   \n",
       "4             2    1503     200.0    1598.0  71.06  69.08  93.47     180.0   \n",
       "...         ...     ...       ...       ...    ...    ...    ...       ...   \n",
       "56341      2400     363     101.0     733.0  91.94  68.00  45.63     270.0   \n",
       "56342      2400     425     129.0    1005.0  75.92  73.04  90.80     170.0   \n",
       "56343      2400     745     201.0    1617.0  73.94  69.08  84.80     230.0   \n",
       "56344      2400     985      37.0     187.0  69.98  62.96  78.41     190.0   \n",
       "56345      2400    1503     192.0    1598.0  30.92  19.94  63.36     240.0   \n",
       "\n",
       "       wind_speed  precip  pressure  visib  date_dow  date_month  xmas_eve  \\\n",
       "0         0.00000    0.00    1015.1   10.0         1           7     False   \n",
       "1         4.60312    0.00    1024.4   10.0         3          12     False   \n",
       "2        12.65858    0.17    1010.1    9.0         4           4     False   \n",
       "3        18.41248    0.00    1023.8   10.0         5           1     False   \n",
       "4        10.35702    0.00    1018.1    9.0         3           7     False   \n",
       "...           ...     ...       ...    ...       ...         ...       ...   \n",
       "56341    10.35702    0.00    1013.5   10.0         1           7     False   \n",
       "56342    10.35702    0.00    1025.4   10.0         1           7     False   \n",
       "56343     5.75390    0.00    1020.4   10.0         4           8     False   \n",
       "56344    12.65858    0.00    1012.5   10.0         3           6     False   \n",
       "56345     6.90468    0.00    1027.5   10.0         7          12     False   \n",
       "\n",
       "        xmas  july4  origin_indexed  dest_indexed  carrier_indexed  \n",
       "0      False  False             1.0          57.0              1.0  \n",
       "1      False  False             1.0          57.0              1.0  \n",
       "2      False  False             0.0           3.0              0.0  \n",
       "3      False  False             1.0          71.0              1.0  \n",
       "4      False  False             1.0          18.0              1.0  \n",
       "...      ...    ...             ...           ...              ...  \n",
       "56341  False  False             2.0           1.0              4.0  \n",
       "56342  False  False             1.0          15.0              1.0  \n",
       "56343  False  False             1.0          71.0              1.0  \n",
       "56344  False  False             1.0           3.0              3.0  \n",
       "56345  False  False             1.0          18.0              1.0  \n",
       "\n",
       "[56346 rows x 20 columns]"
      ]
     },
     "execution_count": 74,
     "metadata": {},
     "output_type": "execute_result"
    }
   ],
   "source": [
    "df = result.toPandas()\n",
    "X = df.drop([\"delayed\", \"origin\", \"dest\", \"carrier\"], axis=1)\n",
    "y = df[\"delayed\"]"
   ]
  },
  {
   "cell_type": "code",
   "execution_count": 75,
   "id": "f81be765",
   "metadata": {},
   "outputs": [
    {
     "data": {
      "text/html": [
       "<style>#sk-container-id-3 {color: black;background-color: white;}#sk-container-id-3 pre{padding: 0;}#sk-container-id-3 div.sk-toggleable {background-color: white;}#sk-container-id-3 label.sk-toggleable__label {cursor: pointer;display: block;width: 100%;margin-bottom: 0;padding: 0.3em;box-sizing: border-box;text-align: center;}#sk-container-id-3 label.sk-toggleable__label-arrow:before {content: \"▸\";float: left;margin-right: 0.25em;color: #696969;}#sk-container-id-3 label.sk-toggleable__label-arrow:hover:before {color: black;}#sk-container-id-3 div.sk-estimator:hover label.sk-toggleable__label-arrow:before {color: black;}#sk-container-id-3 div.sk-toggleable__content {max-height: 0;max-width: 0;overflow: hidden;text-align: left;background-color: #f0f8ff;}#sk-container-id-3 div.sk-toggleable__content pre {margin: 0.2em;color: black;border-radius: 0.25em;background-color: #f0f8ff;}#sk-container-id-3 input.sk-toggleable__control:checked~div.sk-toggleable__content {max-height: 200px;max-width: 100%;overflow: auto;}#sk-container-id-3 input.sk-toggleable__control:checked~label.sk-toggleable__label-arrow:before {content: \"▾\";}#sk-container-id-3 div.sk-estimator input.sk-toggleable__control:checked~label.sk-toggleable__label {background-color: #d4ebff;}#sk-container-id-3 div.sk-label input.sk-toggleable__control:checked~label.sk-toggleable__label {background-color: #d4ebff;}#sk-container-id-3 input.sk-hidden--visually {border: 0;clip: rect(1px 1px 1px 1px);clip: rect(1px, 1px, 1px, 1px);height: 1px;margin: -1px;overflow: hidden;padding: 0;position: absolute;width: 1px;}#sk-container-id-3 div.sk-estimator {font-family: monospace;background-color: #f0f8ff;border: 1px dotted black;border-radius: 0.25em;box-sizing: border-box;margin-bottom: 0.5em;}#sk-container-id-3 div.sk-estimator:hover {background-color: #d4ebff;}#sk-container-id-3 div.sk-parallel-item::after {content: \"\";width: 100%;border-bottom: 1px solid gray;flex-grow: 1;}#sk-container-id-3 div.sk-label:hover label.sk-toggleable__label {background-color: #d4ebff;}#sk-container-id-3 div.sk-serial::before {content: \"\";position: absolute;border-left: 1px solid gray;box-sizing: border-box;top: 0;bottom: 0;left: 50%;z-index: 0;}#sk-container-id-3 div.sk-serial {display: flex;flex-direction: column;align-items: center;background-color: white;padding-right: 0.2em;padding-left: 0.2em;position: relative;}#sk-container-id-3 div.sk-item {position: relative;z-index: 1;}#sk-container-id-3 div.sk-parallel {display: flex;align-items: stretch;justify-content: center;background-color: white;position: relative;}#sk-container-id-3 div.sk-item::before, #sk-container-id-3 div.sk-parallel-item::before {content: \"\";position: absolute;border-left: 1px solid gray;box-sizing: border-box;top: 0;bottom: 0;left: 50%;z-index: -1;}#sk-container-id-3 div.sk-parallel-item {display: flex;flex-direction: column;z-index: 1;position: relative;background-color: white;}#sk-container-id-3 div.sk-parallel-item:first-child::after {align-self: flex-end;width: 50%;}#sk-container-id-3 div.sk-parallel-item:last-child::after {align-self: flex-start;width: 50%;}#sk-container-id-3 div.sk-parallel-item:only-child::after {width: 0;}#sk-container-id-3 div.sk-dashed-wrapped {border: 1px dashed gray;margin: 0 0.4em 0.5em 0.4em;box-sizing: border-box;padding-bottom: 0.4em;background-color: white;}#sk-container-id-3 div.sk-label label {font-family: monospace;font-weight: bold;display: inline-block;line-height: 1.2em;}#sk-container-id-3 div.sk-label-container {text-align: center;}#sk-container-id-3 div.sk-container {/* jupyter's `normalize.less` sets `[hidden] { display: none; }` but bootstrap.min.css set `[hidden] { display: none !important; }` so we also need the `!important` here to be able to override the default hidden behavior on the sphinx rendered scikit-learn.org. See: https://github.com/scikit-learn/scikit-learn/issues/21755 */display: inline-block !important;position: relative;}#sk-container-id-3 div.sk-text-repr-fallback {display: none;}</style><div id=\"sk-container-id-3\" class=\"sk-top-container\"><div class=\"sk-text-repr-fallback\"><pre>XGBClassifier(base_score=None, booster=None, callbacks=None,\n",
       "              colsample_bylevel=None, colsample_bynode=None,\n",
       "              colsample_bytree=None, early_stopping_rounds=None,\n",
       "              enable_categorical=True, eval_metric=None, feature_types=None,\n",
       "              gamma=None, gpu_id=None, grow_policy=None, importance_type=None,\n",
       "              interaction_constraints=None, learning_rate=None, max_bin=None,\n",
       "              max_cat_threshold=None, max_cat_to_onehot=None,\n",
       "              max_delta_step=None, max_depth=None, max_leaves=None,\n",
       "              min_child_weight=None, missing=nan, monotone_constraints=None,\n",
       "              n_estimators=100, n_jobs=None, num_parallel_tree=None,\n",
       "              objective=&#x27;binary:hinge&#x27;, predictor=None, ...)</pre><b>In a Jupyter environment, please rerun this cell to show the HTML representation or trust the notebook. <br />On GitHub, the HTML representation is unable to render, please try loading this page with nbviewer.org.</b></div><div class=\"sk-container\" hidden><div class=\"sk-item\"><div class=\"sk-estimator sk-toggleable\"><input class=\"sk-toggleable__control sk-hidden--visually\" id=\"sk-estimator-id-3\" type=\"checkbox\" checked><label for=\"sk-estimator-id-3\" class=\"sk-toggleable__label sk-toggleable__label-arrow\">XGBClassifier</label><div class=\"sk-toggleable__content\"><pre>XGBClassifier(base_score=None, booster=None, callbacks=None,\n",
       "              colsample_bylevel=None, colsample_bynode=None,\n",
       "              colsample_bytree=None, early_stopping_rounds=None,\n",
       "              enable_categorical=True, eval_metric=None, feature_types=None,\n",
       "              gamma=None, gpu_id=None, grow_policy=None, importance_type=None,\n",
       "              interaction_constraints=None, learning_rate=None, max_bin=None,\n",
       "              max_cat_threshold=None, max_cat_to_onehot=None,\n",
       "              max_delta_step=None, max_depth=None, max_leaves=None,\n",
       "              min_child_weight=None, missing=nan, monotone_constraints=None,\n",
       "              n_estimators=100, n_jobs=None, num_parallel_tree=None,\n",
       "              objective=&#x27;binary:hinge&#x27;, predictor=None, ...)</pre></div></div></div></div></div>"
      ],
      "text/plain": [
       "XGBClassifier(base_score=None, booster=None, callbacks=None,\n",
       "              colsample_bylevel=None, colsample_bynode=None,\n",
       "              colsample_bytree=None, early_stopping_rounds=None,\n",
       "              enable_categorical=True, eval_metric=None, feature_types=None,\n",
       "              gamma=None, gpu_id=None, grow_policy=None, importance_type=None,\n",
       "              interaction_constraints=None, learning_rate=None, max_bin=None,\n",
       "              max_cat_threshold=None, max_cat_to_onehot=None,\n",
       "              max_delta_step=None, max_depth=None, max_leaves=None,\n",
       "              min_child_weight=None, missing=nan, monotone_constraints=None,\n",
       "              n_estimators=100, n_jobs=None, num_parallel_tree=None,\n",
       "              objective='binary:hinge', predictor=None, ...)"
      ]
     },
     "execution_count": 75,
     "metadata": {},
     "output_type": "execute_result"
    }
   ],
   "source": [
    "model.fit(X, y)"
   ]
  },
  {
   "cell_type": "markdown",
   "id": "2beaf205",
   "metadata": {},
   "source": [
    "---"
   ]
  },
  {
   "cell_type": "markdown",
   "id": "b1ca62df",
   "metadata": {},
   "source": [
    "## Evaluate the Model"
   ]
  },
  {
   "cell_type": "code",
   "execution_count": 79,
   "id": "1862050d",
   "metadata": {},
   "outputs": [],
   "source": [
    "test_result = pipeline_model.transform(test)"
   ]
  },
  {
   "cell_type": "code",
   "execution_count": 81,
   "id": "f590afc7",
   "metadata": {},
   "outputs": [],
   "source": [
    "df_test = result.toPandas()\n",
    "X_test = df_test.drop([\"delayed\", \"origin\", \"dest\", \"carrier\"], axis=1)\n",
    "y_test = df_test[\"delayed\"]"
   ]
  },
  {
   "cell_type": "code",
   "execution_count": 82,
   "id": "110aa233",
   "metadata": {},
   "outputs": [],
   "source": [
    "y_predict = model.predict(X_test)"
   ]
  },
  {
   "cell_type": "code",
   "execution_count": 83,
   "id": "8ad30015",
   "metadata": {},
   "outputs": [],
   "source": [
    "from sklearn.metrics import accuracy_score"
   ]
  },
  {
   "cell_type": "code",
   "execution_count": 84,
   "id": "67db818f",
   "metadata": {},
   "outputs": [
    {
     "data": {
      "text/plain": [
       "0.9041280658786782"
      ]
     },
     "execution_count": 84,
     "metadata": {},
     "output_type": "execute_result"
    }
   ],
   "source": [
    "accuracy_score(y_test, y_predict)"
   ]
  },
  {
   "cell_type": "markdown",
   "id": "a89796cb",
   "metadata": {},
   "source": [
    "## Is that good?"
   ]
  },
  {
   "cell_type": "code",
   "execution_count": 85,
   "id": "a685c87a",
   "metadata": {},
   "outputs": [],
   "source": [
    "import numpy as np"
   ]
  },
  {
   "cell_type": "code",
   "execution_count": 86,
   "id": "a0c00164",
   "metadata": {},
   "outputs": [
    {
     "data": {
      "text/plain": [
       "0.8564760586377028"
      ]
     },
     "execution_count": 86,
     "metadata": {},
     "output_type": "execute_result"
    }
   ],
   "source": [
    "accuracy_score(y_test, np.zeros_like(y_test))"
   ]
  }
 ],
 "metadata": {
  "kernelspec": {
   "display_name": "Python 3 (ipykernel)",
   "language": "python",
   "name": "python3"
  },
  "language_info": {
   "codemirror_mode": {
    "name": "ipython",
    "version": 3
   },
   "file_extension": ".py",
   "mimetype": "text/x-python",
   "name": "python",
   "nbconvert_exporter": "python",
   "pygments_lexer": "ipython3",
   "version": "3.10.9"
  }
 },
 "nbformat": 4,
 "nbformat_minor": 5
}
